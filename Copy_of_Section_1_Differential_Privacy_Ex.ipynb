{
  "nbformat": 4,
  "nbformat_minor": 0,
  "metadata": {
    "colab": {
      "name": "Copy of Section 1-Differential Privacy-Ex.ipynb",
      "provenance": [],
      "collapsed_sections": [
        "5gA9W-b1-fv3",
        "Zu_8QgEQ-fwd",
        "YGLr_3XC-fwy"
      ],
      "include_colab_link": true
    },
    "language_info": {
      "codemirror_mode": {
        "name": "ipython",
        "version": 3
      },
      "file_extension": ".py",
      "mimetype": "text/x-python",
      "name": "python",
      "nbconvert_exporter": "python",
      "pygments_lexer": "ipython3",
      "version": "3.6.1"
    },
    "kernelspec": {
      "name": "python3",
      "display_name": "Python 3"
    },
    "accelerator": "GPU"
  },
  "cells": [
    {
      "cell_type": "markdown",
      "metadata": {
        "id": "view-in-github",
        "colab_type": "text"
      },
      "source": [
        "<a href=\"https://colab.research.google.com/github/srkhvx/Intelligent-Cyber-Security/blob/master/Copy_of_Section_1_Differential_Privacy_Ex.ipynb\" target=\"_parent\"><img src=\"https://colab.research.google.com/assets/colab-badge.svg\" alt=\"Open In Colab\"/></a>"
      ]
    },
    {
      "cell_type": "markdown",
      "metadata": {
        "id": "mOQosrw--fuK",
        "colab_type": "text"
      },
      "source": [
        "## Lesson: Toy Differential Privacy - Simple Database Queries"
      ]
    },
    {
      "cell_type": "markdown",
      "metadata": {
        "id": "YWiQwpyI-fuL",
        "colab_type": "text"
      },
      "source": [
        "In this section we're going to play around with Differential Privacy in the context of a database query. The database is going to be a VERY simple database with only one boolean column. Each row corresponds to a person. Each value corresponds to whether or not that person has a certain private attribute (such as whether they have a certain disease, or whether they are above/below a certain age). We are then going to learn how to know whether a database query over such a small database is differentially private or not - and more importantly - what techniques are at our disposal to ensure various levels of privacy\n",
        "\n",
        "\n",
        "### First We Create a Simple Database\n",
        "\n",
        "Step one is to create our database - we're going to do this by initializing a random list of 1s and 0s (which are the entries in our database). Note - the number of entries directly corresponds to the number of people in our database."
      ]
    },
    {
      "cell_type": "code",
      "metadata": {
        "id": "AuxW5jmK-fuL",
        "colab_type": "code",
        "outputId": "5c254f4d-9d7f-4234-920e-3402b0d03c84",
        "colab": {
          "base_uri": "https://localhost:8080/",
          "height": 34
        }
      },
      "source": [
        "import torch\n",
        "\n",
        "# the number of entries in our database\n",
        "num_entries = 5000\n",
        "\n",
        "db = torch.rand(num_entries) > 0.5\n",
        "db.shape"
      ],
      "execution_count": 1,
      "outputs": [
        {
          "output_type": "execute_result",
          "data": {
            "text/plain": [
              "torch.Size([5000])"
            ]
          },
          "metadata": {
            "tags": []
          },
          "execution_count": 1
        }
      ]
    },
    {
      "cell_type": "markdown",
      "metadata": {
        "id": "44-18awA-fuQ",
        "colab_type": "text"
      },
      "source": [
        "## Project: Generate Parallel Databases\n",
        "\n",
        "Key to the definition of differenital privacy is the ability to ask the question \"When querying a database, if I removed someone from the database, would the output of the query be any different?\". Thus, in order to check this, we must construct what we term \"parallel databases\" which are simply databases with one entry removed. \n",
        "\n",
        "In this first project, create a list of every parallel database to the one currently contained in the \"db\" variable. Then, create a function which both:\n",
        "\n",
        "- creates the initial database (db)\n",
        "- creates all parallel databases"
      ]
    },
    {
      "cell_type": "code",
      "metadata": {
        "id": "MCK23Nvr-fuQ",
        "colab_type": "code",
        "outputId": "681dafba-7e72-4a47-b55a-d1f7fa9f4f46",
        "colab": {
          "base_uri": "https://localhost:8080/",
          "height": 34
        }
      },
      "source": [
        "db = torch.rand(num_entries) > 0.5\n",
        "db[:7]"
      ],
      "execution_count": 2,
      "outputs": [
        {
          "output_type": "execute_result",
          "data": {
            "text/plain": [
              "tensor([1, 0, 1, 0, 0, 0, 1], dtype=torch.uint8)"
            ]
          },
          "metadata": {
            "tags": []
          },
          "execution_count": 2
        }
      ]
    },
    {
      "cell_type": "code",
      "metadata": {
        "id": "FOAiaa2l-fuT",
        "colab_type": "code",
        "colab": {}
      },
      "source": [
        "def get_parallel_db(db, remove_index):\n",
        "\n",
        "    return torch.cat((db[0:remove_index], db[remove_index+1:]))"
      ],
      "execution_count": 0,
      "outputs": []
    },
    {
      "cell_type": "code",
      "metadata": {
        "id": "TCiV7B7x-fuV",
        "colab_type": "code",
        "outputId": "9a04c091-a882-4713-d5eb-c4d8bb397e16",
        "colab": {
          "base_uri": "https://localhost:8080/",
          "height": 50
        }
      },
      "source": [
        "x = get_parallel_db(db, 1)\n",
        "print(f'size of x: {x.shape}')\n",
        "print(x[:5]) # notice the change in from teh original db"
      ],
      "execution_count": 4,
      "outputs": [
        {
          "output_type": "stream",
          "text": [
            "size of x: torch.Size([4999])\n",
            "tensor([1, 1, 0, 0, 0], dtype=torch.uint8)\n"
          ],
          "name": "stdout"
        }
      ]
    },
    {
      "cell_type": "code",
      "metadata": {
        "id": "sct49nI7-fuX",
        "colab_type": "code",
        "outputId": "7567737a-1bf4-4fad-a2c7-2c5638056f10",
        "colab": {
          "base_uri": "https://localhost:8080/",
          "height": 50
        }
      },
      "source": [
        "def get_parallel_dbs(db):\n",
        "\n",
        "    parallel_dbs = list()\n",
        "\n",
        "    for i in range(len(db)):\n",
        "        pdb = get_parallel_db(db, i)\n",
        "        parallel_dbs.append(pdb)\n",
        "    \n",
        "    return parallel_dbs\n",
        "  \n",
        "  \n",
        "paralled_dbs = get_parallel_dbs(db)\n",
        "\n",
        "print('number of parallel dbs: ', len(paralled_dbs))\n",
        "print('size of each parallel db: ', len(paralled_dbs[0]))\n",
        "\n",
        "# shape is list of lists [[], [], [], ...]"
      ],
      "execution_count": 5,
      "outputs": [
        {
          "output_type": "stream",
          "text": [
            "number of parallel dbs:  5000\n",
            "size of each parallel db:  4999\n"
          ],
          "name": "stdout"
        }
      ]
    },
    {
      "cell_type": "code",
      "metadata": {
        "id": "yT_aXXN4-fuZ",
        "colab_type": "code",
        "colab": {}
      },
      "source": [
        "pdbs = get_parallel_dbs(db)"
      ],
      "execution_count": 0,
      "outputs": []
    },
    {
      "cell_type": "code",
      "metadata": {
        "id": "gRp5qzx6-fub",
        "colab_type": "code",
        "colab": {}
      },
      "source": [
        "def create_db_and_parallels(num_entries):\n",
        "    \n",
        "    db = torch.rand(num_entries) > 0.5\n",
        "    pdbs = get_parallel_dbs(db)\n",
        "    \n",
        "    return db, pdbs"
      ],
      "execution_count": 0,
      "outputs": []
    },
    {
      "cell_type": "code",
      "metadata": {
        "id": "My0AU2Qz-fue",
        "colab_type": "code",
        "colab": {}
      },
      "source": [
        "db, pdbs = create_db_and_parallels(20)"
      ],
      "execution_count": 0,
      "outputs": []
    },
    {
      "cell_type": "markdown",
      "metadata": {
        "id": "NZzdYReJ-fug",
        "colab_type": "text"
      },
      "source": [
        "# Lesson: Towards Evaluating The Differential Privacy of a Function\n",
        "\n",
        "Intuitively, we want to be able to query our database and evaluate whether or not the result of the query is leaking \"private\" information. As mentioned previously, this is about evaluating whether the output of a query changes when we remove someone from the database. Specifically, we want to evaluate the *maximum* amount the query changes when someone is removed (maximum over all possible people who could be removed). So, in order to evaluate how much privacy is leaked, we're going to iterate over each person in the database and measure the difference in the output of the query relative to when we query the entire database. \n",
        "\n",
        "Just for the sake of argument, let's make our first \"database query\" a simple sum. Aka, we're going to count the number of 1s in the database."
      ]
    },
    {
      "cell_type": "code",
      "metadata": {
        "id": "T0EzDdLd-fuh",
        "colab_type": "code",
        "colab": {}
      },
      "source": [
        "db, pdbs = create_db_and_parallels(5000)"
      ],
      "execution_count": 0,
      "outputs": []
    },
    {
      "cell_type": "code",
      "metadata": {
        "id": "YtOUQWuh-fui",
        "colab_type": "code",
        "colab": {
          "base_uri": "https://localhost:8080/",
          "height": 34
        },
        "outputId": "96eb48c1-f21a-4f14-edc9-bfe603f59925"
      },
      "source": [
        "# a sample sum query\n",
        "def query(db):\n",
        "    return db.sum()\n",
        "print(query(db))"
      ],
      "execution_count": 48,
      "outputs": [
        {
          "output_type": "stream",
          "text": [
            "tensor(2497)\n"
          ],
          "name": "stdout"
        }
      ]
    },
    {
      "cell_type": "code",
      "metadata": {
        "id": "YBYH-LiF-fuk",
        "colab_type": "code",
        "outputId": "a8f5e80e-44c9-4429-ff02-5479eccd9a80",
        "colab": {
          "base_uri": "https://localhost:8080/",
          "height": 34
        }
      },
      "source": [
        "full_db_result = query(db)\n",
        "full_db_result"
      ],
      "execution_count": 11,
      "outputs": [
        {
          "output_type": "execute_result",
          "data": {
            "text/plain": [
              "tensor(2456)"
            ]
          },
          "metadata": {
            "tags": []
          },
          "execution_count": 11
        }
      ]
    },
    {
      "cell_type": "code",
      "metadata": {
        "id": "T4ANi-3V-fum",
        "colab_type": "code",
        "colab": {
          "base_uri": "https://localhost:8080/",
          "height": 34
        },
        "outputId": "5f8f6d89-d961-4d0d-db0d-3c967d62deb2"
      },
      "source": [
        "# TO DO:\n",
        "def sensity(db,pdb):\n",
        "  alldiff=[]\n",
        "  main=mean_query(db)\n",
        "  for i in range(len(db)-1):\n",
        "    anyother=mean_query(pdb[i])\n",
        "    sensitivity= main - anyother\n",
        "    alldiff.append(sensitivity)\n",
        "  return (max(alldiff))\n",
        "print(sensity(db,pdbs))\n"
      ],
      "execution_count": 47,
      "outputs": [
        {
          "output_type": "stream",
          "text": [
            "tensor(0.0001)\n"
          ],
          "name": "stdout"
        }
      ]
    },
    {
      "cell_type": "markdown",
      "metadata": {
        "id": "-pKn9jvx-fuq",
        "colab_type": "text"
      },
      "source": [
        "# Project - Evaluating the Privacy of a Function\n",
        "\n",
        "In the last section, we measured the difference between each parallel db's query result and the query result for the entire database and then calculated the max value (which was 1). This value is called \"sensitivity\", and it corresponds to the function we chose for the query. Namely, the \"sum\" query will always have a sensitivity of exactly 1. However, we can also calculate sensitivity for other functions as well.\n",
        "\n",
        "Let's try to calculate sensitivity for the \"mean\" function."
      ]
    },
    {
      "cell_type": "code",
      "metadata": {
        "id": "ahCyrBmCOzJ6",
        "colab_type": "code",
        "colab": {}
      },
      "source": [
        "# To Do: \n",
        "# define a function to caluculate the mean of a vector (a pdb). There is a predefined function in torch that does that\n",
        "def mean_query(data):\n",
        "  s=query(data.float())\n",
        "  return (s/len(data))\n",
        "  "
      ],
      "execution_count": 0,
      "outputs": []
    },
    {
      "cell_type": "code",
      "metadata": {
        "id": "4hU2fZ9ttdBk",
        "colab_type": "code",
        "colab": {
          "base_uri": "https://localhost:8080/",
          "height": 34
        },
        "outputId": "bca02807-21b3-4563-c4d6-653722152942"
      },
      "source": [
        "print(mean_query(db))"
      ],
      "execution_count": 14,
      "outputs": [
        {
          "output_type": "stream",
          "text": [
            "tensor(0.4912)\n"
          ],
          "name": "stdout"
        }
      ]
    },
    {
      "cell_type": "code",
      "metadata": {
        "id": "336tBgAUtfyV",
        "colab_type": "code",
        "colab": {}
      },
      "source": [
        "def threshold_query(db, threshold=5):\n",
        "  main=query(db)\n",
        "  if(main>threshold):\n",
        "    return 1\n",
        "  else:\n",
        "    return 0"
      ],
      "execution_count": 0,
      "outputs": []
    },
    {
      "cell_type": "code",
      "metadata": {
        "id": "tQhdXuf-tjEd",
        "colab_type": "code",
        "colab": {}
      },
      "source": [
        "def sensitivity(queryx, n_entries,threshold=5):\n",
        "  db, pdbs = create_db_and_parallels(n_entries)\n",
        "  if(queryx==\"sum\"):\n",
        "    alldiff=[]\n",
        "    main=query(db)\n",
        "    for i in range(len(db)-1):\n",
        "      anyother=query(pdbs[i])\n",
        "      sensitivityx= main - anyother\n",
        "      alldiff.append(sensitivityx)\n",
        "    return(max(alldiff))\n",
        "  elif(queryx==\"mean\"):\n",
        "    alldiff=[]\n",
        "    main=mean_query(db)\n",
        "    for i in range(len(db)-1):\n",
        "      anyother=mean_query(pdbs[i])\n",
        "      sensitivityx= main - anyother\n",
        "      alldiff.append(sensitivityx)\n",
        "    return(max(alldiff))\n",
        "  elif(queryx==\"threshold\"):\n",
        "    alldiff=[]\n",
        "    main=threshold_query(db,threshold)\n",
        "    for i in range(len(db)-1):\n",
        "      anyother=threshold_query(pdbs[i],threshold)\n",
        "      sensitivityx= main - anyother\n",
        "      alldiff.append(sensitivityx)\n",
        "    return(max(alldiff))"
      ],
      "execution_count": 0,
      "outputs": []
    },
    {
      "cell_type": "code",
      "metadata": {
        "id": "kGAQN0jAPJ0Y",
        "colab_type": "code",
        "colab": {
          "base_uri": "https://localhost:8080/",
          "height": 34
        },
        "outputId": "e0ad987f-969b-4144-f881-25842af29c9e"
      },
      "source": [
        "# define a fucntion called sensitivity that accepts a query and a number of entries, \n",
        "# which then creates a db with number of entires and pdbs and caculates the sensitivity of the query\n",
        "print(sensitivity(\"mean\",5000))"
      ],
      "execution_count": 17,
      "outputs": [
        {
          "output_type": "stream",
          "text": [
            "tensor(9.9242e-05)\n"
          ],
          "name": "stdout"
        }
      ]
    },
    {
      "cell_type": "markdown",
      "metadata": {
        "id": "MKQZP0cY-fu2",
        "colab_type": "text"
      },
      "source": [
        "Wow! That sensitivity is WAY lower. Note the intuition here. \"Sensitivity\" is measuring how sensitive the output of the query is to a person being removed from the database. For a simple sum, this is always 1, but for the mean, removing a person is going to change the result of the query by rougly 1 divided by the size of the database (which is much smaller). Thus, \"mean\" is a VASTLY less \"sensitive\" function (query) than SUM."
      ]
    },
    {
      "cell_type": "markdown",
      "metadata": {
        "id": "qoqCFN1J-fu3",
        "colab_type": "text"
      },
      "source": [
        "# Project: Calculate L1 Sensitivity For Threshold\n",
        "\n",
        "Calculate the sensitivty for the \"threshold\" function. \n",
        "\n",
        "- First compute the sum over the database and return whether that sum is greater than a certain threshold.\n",
        "- Then, create databases of size 10 and threshold of 5 and calculate the sensitivity of the function. \n",
        "- Finally, re-initialize the database 10 times and calculate the sensitivity each time."
      ]
    },
    {
      "cell_type": "code",
      "metadata": {
        "id": "O1RMaETd-fu4",
        "colab_type": "code",
        "colab": {}
      },
      "source": [
        "# TO DO\n",
        "def threshold_query(db, threshold=5):\n",
        "  main=query(db)\n",
        "  if(main>threshold):\n",
        "    return 1\n",
        "  else:\n",
        "    return 0"
      ],
      "execution_count": 0,
      "outputs": []
    },
    {
      "cell_type": "code",
      "metadata": {
        "id": "DKuGlm9M-fu6",
        "colab_type": "code",
        "colab": {
          "base_uri": "https://localhost:8080/",
          "height": 34
        },
        "outputId": "7e68e7ff-c8f6-4a66-9512-71f76b38e8c2"
      },
      "source": [
        "# TO DO\n",
        "db, pdbs = create_db_and_parallels(10)\n",
        "print(sensitivity(\"threshold\",10,5))\n",
        "\n",
        "# find the sensitivity of a db of size 10 and threshold 5"
      ],
      "execution_count": 19,
      "outputs": [
        {
          "output_type": "stream",
          "text": [
            "1\n"
          ],
          "name": "stdout"
        }
      ]
    },
    {
      "cell_type": "code",
      "metadata": {
        "id": "BisZ9-2dRQcT",
        "colab_type": "code",
        "colab": {
          "base_uri": "https://localhost:8080/",
          "height": 185
        },
        "outputId": "0a1286fd-5a99-4f9e-e45b-0904c0d59a04"
      },
      "source": [
        "# TO DO\n",
        "for i in range(10):\n",
        "  db, pdbs = create_db_and_parallels(10)\n",
        "  print(sensitivity(\"threshold\",10,5))\n",
        "# re-initialize the database 10 times and calculate the sensitivity each time."
      ],
      "execution_count": 20,
      "outputs": [
        {
          "output_type": "stream",
          "text": [
            "1\n",
            "0\n",
            "0\n",
            "0\n",
            "0\n",
            "0\n",
            "0\n",
            "0\n",
            "0\n",
            "0\n"
          ],
          "name": "stdout"
        }
      ]
    },
    {
      "cell_type": "markdown",
      "metadata": {
        "id": "QR1B2B8c-fu9",
        "colab_type": "text"
      },
      "source": [
        "# Lesson: A Basic Differencing Attack\n",
        "\n",
        "Sadly none of the functions we've looked at so far are differentially private (despite them having varying levels of sensitivity). The most basic type of attack can be done as follows.\n",
        "\n",
        "Let's say we wanted to figure out a specific person's value in the database. All we would have to do is query for the sum of the entire database and then the sum of the entire database without that person!\n",
        "\n",
        "# Project: Perform a Differencing Attack on Row 10\n",
        "\n",
        "In this project, construct a database and then demonstrate how you can use two different sum queries to explose the value of the person represented by row 10 in the database (note, you'll need to use a database with at least 10 rows)"
      ]
    },
    {
      "cell_type": "code",
      "metadata": {
        "id": "yxpRLbBo-fu9",
        "colab_type": "code",
        "colab": {
          "base_uri": "https://localhost:8080/",
          "height": 50
        },
        "outputId": "6465ac1f-5508-42c1-9fd8-ce4ef9d4442f"
      },
      "source": [
        "# TO DO\n",
        "# create a db with 100 entries (binaries for simplicity)\n",
        "db, pdbs = create_db_and_parallels(100)\n",
        "# check the value at row 10 (in real senario you do not know this in advance)\n",
        "print(\"Value of the 10th Person: \"+str(db[9]))\n",
        "# create a differencing attack using the sum query to learn the value at row 10\n",
        "person=query(db)-query(get_parallel_db(db, 9))\n",
        "print(\"Value of the Person: \"+str(person))"
      ],
      "execution_count": 21,
      "outputs": [
        {
          "output_type": "stream",
          "text": [
            "Value of the 10th Person: tensor(1, dtype=torch.uint8)\n",
            "Value of the Person: tensor(1)\n"
          ],
          "name": "stdout"
        }
      ]
    },
    {
      "cell_type": "code",
      "metadata": {
        "id": "nS3LIa0QWVYd",
        "colab_type": "code",
        "colab": {
          "base_uri": "https://localhost:8080/",
          "height": 50
        },
        "outputId": "97b02a06-b5db-43c2-9b8e-7373e8a98681"
      },
      "source": [
        "# create a differencing attack on the mean query to learn the value at row 10\n",
        "db, pdbs = create_db_and_parallels(100)\n",
        "\n",
        "print(\"Value of the 10th Person: \"+str(db[9]))\n",
        "pdbs=get_parallel_db(db, 9)\n",
        "person=(mean_query(db)-mean_query(pdbs))\n",
        "if(person<0):\n",
        "  print(\"Value of the Person: 0\")\n",
        "else:\n",
        "    print(\"Value of the Person: 1\")"
      ],
      "execution_count": 22,
      "outputs": [
        {
          "output_type": "stream",
          "text": [
            "Value of the 10th Person: tensor(1, dtype=torch.uint8)\n",
            "Value of the Person: 1\n"
          ],
          "name": "stdout"
        }
      ]
    },
    {
      "cell_type": "code",
      "metadata": {
        "id": "mBXZwivmWWGU",
        "colab_type": "code",
        "colab": {
          "base_uri": "https://localhost:8080/",
          "height": 50
        },
        "outputId": "98eb2015-e6e0-4e72-c09a-575f08e6f7f2"
      },
      "source": [
        "# create a differencing attack on the threshold query to learn the value at row 10\n",
        "db, pdbs = create_db_and_parallels(10)\n",
        "\n",
        "print(\"Value of the 5th Person: \"+str(db[5]))\n",
        "pdbs=get_parallel_db(db, 9)\n",
        "person=(threshold_query(db,5)-threshold_query(pdbs,5))\n",
        "if(person<1):\n",
        "  print(\"Value of the Person: 0\")\n",
        "else:\n",
        "    print(\"Value of the Person: 1\")"
      ],
      "execution_count": 23,
      "outputs": [
        {
          "output_type": "stream",
          "text": [
            "Value of the 5th Person: tensor(1, dtype=torch.uint8)\n",
            "Value of the Person: 0\n"
          ],
          "name": "stdout"
        }
      ]
    },
    {
      "cell_type": "markdown",
      "metadata": {
        "id": "Ei-mbrRl-fvN",
        "colab_type": "text"
      },
      "source": [
        "# Project: Local Differential Privacy\n",
        "\n",
        "As you can see, the basic sum query is not differentially private at all! In truth, differential privacy always requires a form of randomness added to the query. Let me show you what I mean.\n",
        "\n",
        "### Randomized Response (Local Differential Privacy)\n",
        "\n",
        "Let's say I have a group of people I wish to survey about a very taboo behavior which I think they will lie about (say, I want to know if they have ever committed a certain kind of crime). I'm not a policeman, I'm just trying to collect statistics to understand the higher level trend in society. So, how do we do this? One technique is to add randomness to each person's response by giving each person the following instructions (assuming I'm asking a simple yes/no question):\n",
        "\n",
        "- Flip a coin 2 times.\n",
        "- If the first coin flip is heads, answer honestly\n",
        "- If the first coin flip is tails, answer according to the second coin flip (heads for yes, tails for no)!\n",
        "\n",
        "Thus, each person is now protected with \"plausible deniability\". If they answer \"Yes\" to the question \"have you committed X crime?\", then it might becasue they actually did, or it might be becasue they are answering according to a random coin flip. Each person has a high degree of protection. Furthermore, we can recover the underlying statistics with some accuracy, as the \"true statistics\" are simply averaged with a 50% probability. Thus, if we collect a bunch of samples and it turns out that 60% of people answer yes, then we know that the TRUE distribution is actually centered around 70%, because 70% averaged wtih 50% (a coin flip) is 60% which is the result we obtained. \n",
        "\n",
        "However, it should be noted that, especially when we only have a few samples, the this comes at the cost of accuracy. This tradeoff exists across all of Differential Privacy. The greater the privacy protection (plausible deniability) the less accurate the results. \n",
        "\n",
        "Let's implement this local DP for our database before!"
      ]
    },
    {
      "cell_type": "code",
      "metadata": {
        "id": "L34C1T2v-fvO",
        "colab_type": "code",
        "colab": {}
      },
      "source": [
        "# actual values from people\n",
        "import torch\n",
        "def dataset(length=10,rd=0.5):\n",
        "  db = torch.rand(length) > rd\n",
        "  return db"
      ],
      "execution_count": 0,
      "outputs": []
    },
    {
      "cell_type": "code",
      "metadata": {
        "id": "cddNVmhRHkal",
        "colab_type": "code",
        "colab": {}
      },
      "source": [
        "# create a function to implement our Coin flip Randomized Response: \n",
        "def randomized_response(db,flips,lastflip,rd):\n",
        "  noise=(db*flips)+((1-flips)*(lastflip))\n",
        "  noise_query=mean_query(noise)\n",
        "  db_query=mean_query(db)\n",
        "  \n",
        "  Augmented=(2*(noise_query)-1+rd)/(2*rd)\n",
        "  return db_query,noise_query,noise,Augmented\n",
        "  \n",
        "    \n",
        "  # returns actual true results (from query (db)), \n",
        "  # and the results (query(db_noisy)): this means de-skewing  the augmented result"
      ],
      "execution_count": 0,
      "outputs": []
    },
    {
      "cell_type": "code",
      "metadata": {
        "id": "o9CYu06EHxQL",
        "colab_type": "code",
        "outputId": "92ffb9b3-eee3-438c-f0b6-7fb5e0a76147",
        "colab": {
          "base_uri": "https://localhost:8080/",
          "height": 84
        }
      },
      "source": [
        "# print both\n",
        "db=dataset(10,0.5)\n",
        "print(db)\n",
        "flips=dataset(10,0.5)\n",
        "lastflip=dataset(10,0.5)\n",
        "db_query,noise_query,noise,Augmented=randomized_response(db,flips,lastflip,0.5)\n",
        "print(\"True Result: \",db_query)\n",
        "print(\"Noise Result: \",noise_query)\n",
        "print(\"Noise: \",noise)"
      ],
      "execution_count": 26,
      "outputs": [
        {
          "output_type": "stream",
          "text": [
            "tensor([1, 0, 1, 1, 1, 1, 0, 1, 0, 1], dtype=torch.uint8)\n",
            "True Result:  tensor(0.7000)\n",
            "Noise Result:  tensor(0.3000)\n",
            "Noise:  tensor([0, 0, 0, 1, 0, 1, 0, 1, 0, 0], dtype=torch.uint8)\n"
          ],
          "name": "stdout"
        }
      ]
    },
    {
      "cell_type": "code",
      "metadata": {
        "id": "FC2LodFlIPTd",
        "colab_type": "code",
        "colab": {}
      },
      "source": [
        "# create a new db with 100, 1000, 10000 entries and then repeat the previous steps:\n",
        "def make_set(lgt=10,rd=0.5):\n",
        "  db=dataset(lgt,rd)\n",
        "  flips=dataset(lgt,rd)\n",
        "  lastflip=dataset(lgt,rd)\n",
        "  return db, flips, lastflip\n",
        "# compare the mean query between db and noisy_db of each size\n",
        "# What's your observation?"
      ],
      "execution_count": 0,
      "outputs": []
    },
    {
      "cell_type": "code",
      "metadata": {
        "id": "sKny9QYV0ox2",
        "colab_type": "code",
        "outputId": "88fa64a5-cffd-4cea-e3f0-b403f28030d0",
        "colab": {
          "base_uri": "https://localhost:8080/",
          "height": 286
        }
      },
      "source": [
        "rd=0.5\n",
        "db,flips,lastflip=make_set(100,rd);\n",
        "db_query,noise_query,noise,Aug=randomized_response(db,flips,lastflip,rd)\n",
        "print(\"True Result for 100: \",db_query)\n",
        "print(\"Noise Result for 100: \",noise_query)\n",
        "print(\"Augmneted Result for 100: \",Aug)\n",
        "print(\"Epsilon for 100: \",(noise_query-Aug))\n",
        "\n",
        "\n",
        "db,flips,lastflip=make_set(1000,0.5);\n",
        "db_query,noise_query,noise,Aug=randomized_response(db,flips,lastflip,rd)\n",
        "print(\"True Result for 1000: \",db_query)\n",
        "print(\"Noise Result for 1000: \",noise_query)\n",
        "print(\"Augmneted Result for 1000: \",Aug)\n",
        "print(\"Epsilon for 1000: \",(noise_query-Aug))\n",
        "\n",
        "\n",
        "db,flips,lastflip=make_set(10000,0.5);\n",
        "db_query,noise_query,noise,Aug=randomized_response(db,flips,lastflip,rd)\n",
        "print(\"True Result for 10000: \",db_query)\n",
        "print(\"Noise Result for 10000: \",noise_query)\n",
        "print(\"Augmneted Result for 10000: \",Aug)\n",
        "print(\"Epsilon for 10000: \",(noise_query-Aug))\n",
        "\n",
        "\n",
        "db,flips,lastflip=make_set(100000,0.5);\n",
        "db_query,noise_query,noise,Aug=randomized_response(db,flips,lastflip,rd)\n",
        "print(\"True Result for 100000: \",db_query)\n",
        "print(\"Noise Result for 100000: \",noise_query)\n",
        "print(\"Augmneted Result for 100000: \",Aug)\n",
        "print(\"Epsilon for 10000: \",(noise_query-Aug))\n"
      ],
      "execution_count": 28,
      "outputs": [
        {
          "output_type": "stream",
          "text": [
            "True Result for 100:  tensor(0.5600)\n",
            "Noise Result for 100:  tensor(0.4400)\n",
            "Augmneted Result for 100:  tensor(0.3800)\n",
            "Epsilon for 100:  tensor(0.0600)\n",
            "True Result for 1000:  tensor(0.5180)\n",
            "Noise Result for 1000:  tensor(0.5140)\n",
            "Augmneted Result for 1000:  tensor(0.5280)\n",
            "Epsilon for 1000:  tensor(-0.0140)\n",
            "True Result for 10000:  tensor(0.4951)\n",
            "Noise Result for 10000:  tensor(0.4975)\n",
            "Augmneted Result for 10000:  tensor(0.4950)\n",
            "Epsilon for 10000:  tensor(0.0025)\n",
            "True Result for 100000:  tensor(0.4981)\n",
            "Noise Result for 100000:  tensor(0.4971)\n",
            "Augmneted Result for 100000:  tensor(0.4942)\n",
            "Epsilon for 10000:  tensor(0.0029)\n"
          ],
          "name": "stdout"
        }
      ]
    },
    {
      "cell_type": "markdown",
      "metadata": {
        "id": "QwCz9IIe-fvd",
        "colab_type": "text"
      },
      "source": [
        "# Project: Varying Amounts of Noise and Apporximation\n",
        "\n",
        "In this project, you need to augment the randomized response query, i.e., `randomized_response`,  to allow for varying amounts of randomness to be added. Specifically, to bias the coin flip to be higher or lower and then run the same experiment. \n",
        "\n",
        "Note - this one is a bit tricker than you might expect. You need to both adjust the likelihood of the first coin flip AND approximating the result at the end (where we create the \"augmented_result\" variable)."
      ]
    },
    {
      "cell_type": "code",
      "metadata": {
        "id": "XidXHUG7-fvw",
        "colab_type": "code",
        "colab": {}
      },
      "source": [
        "# create a function to implement our Coin flip Randomized Response: \n",
        "db50,flips50,lastflip50=make_set(100,(1-0.5));\n",
        "db20,flips20,lastflip20=make_set(100,(1-0.2));\n",
        "db75,flips75,lastflip75=make_set(100,(1-0.75));\n",
        "  # returns true result and augmented result"
      ],
      "execution_count": 0,
      "outputs": []
    },
    {
      "cell_type": "code",
      "metadata": {
        "id": "THYBoSFJPZLg",
        "colab_type": "code",
        "outputId": "32b1ce94-e345-4c40-c86d-75dcf44ad082",
        "colab": {
          "base_uri": "https://localhost:8080/",
          "height": 218
        }
      },
      "source": [
        "# try the same query with diff amounts of noise [0.2, 0.5, 0.75] and dataset [100, 1000, 10000]\n",
        "rd=0.2\n",
        "rd=1-rd\n",
        "db_query,noise_query,noise,Aug=randomized_response(db50,flips20,lastflip50,rd)\n",
        "print(\"True Result for 100 for 20% \",db_query)\n",
        "print(\"Noise Result for 100 for 20% \",noise_query)\n",
        "print(\"Augmneted Result for 100 20% \",Aug)\n",
        "print(\"Epsilon for 100 for 20% \",(noise_query-Aug))\n",
        "\n",
        "rd=0.5\n",
        "rd=1-rd\n",
        "db_query,noise_query,noise,Aug=randomized_response(db50,flips50,lastflip50,rd)\n",
        "print(\"True Result for 100 for 50% \",db_query)\n",
        "print(\"Noise Result for 100 for 50% \",noise_query)\n",
        "print(\"Augmneted Result for 100 50% \",Aug)\n",
        "print(\"Epsilon for 100 for 50% \",(noise_query-Aug))\n",
        "\n",
        "rd=0.75\n",
        "rd=1-rd\n",
        "db_query,noise_query,noise,Aug=randomized_response(db50,flips75,lastflip50,rd)\n",
        "print(\"True Result for 100 for 75% \",db_query)\n",
        "print(\"Noise Result for 100 for 75% \",noise_query)\n",
        "print(\"Augmneted Result for 100 75% \",Aug)\n",
        "print(\"Epsilon for 100 for 75% \",(noise_query-Aug))\n"
      ],
      "execution_count": 30,
      "outputs": [
        {
          "output_type": "stream",
          "text": [
            "True Result for 100 for 20%  tensor(0.4100)\n",
            "Noise Result for 100 for 20%  tensor(0.5000)\n",
            "Augmneted Result for 100 20%  tensor(0.5000)\n",
            "Epsilon for 100 for 20%  tensor(0.)\n",
            "True Result for 100 for 50%  tensor(0.4100)\n",
            "Noise Result for 100 for 50%  tensor(0.3800)\n",
            "Augmneted Result for 100 50%  tensor(0.2600)\n",
            "Epsilon for 100 for 50%  tensor(0.1200)\n",
            "True Result for 100 for 75%  tensor(0.4100)\n",
            "Noise Result for 100 for 75%  tensor(0.4000)\n",
            "Augmneted Result for 100 75%  tensor(0.1000)\n",
            "Epsilon for 100 for 75%  tensor(0.3000)\n"
          ],
          "name": "stdout"
        }
      ]
    },
    {
      "cell_type": "code",
      "metadata": {
        "id": "NYDQy99H4RmT",
        "colab_type": "code",
        "colab": {}
      },
      "source": [
        "# create a function to implement our Coin flip Randomized Response: \n",
        "db50,flips50,lastflip50=make_set(1000,(1-0.5));\n",
        "db20,flips20,lastflip20=make_set(1000,(1-0.2));\n",
        "db75,flips75,lastflip75=make_set(1000,(1-0.75));\n",
        "  # returns true result and augmented result"
      ],
      "execution_count": 0,
      "outputs": []
    },
    {
      "cell_type": "code",
      "metadata": {
        "id": "at_m1iN34Vsu",
        "colab_type": "code",
        "outputId": "b9cf5d6c-fbd9-434c-c384-0420ed514f03",
        "colab": {
          "base_uri": "https://localhost:8080/",
          "height": 218
        }
      },
      "source": [
        "# try the same query with diff amounts of noise [0.2, 0.5, 0.75] and dataset [100, 1000, 10000]\n",
        "rd=0.2\n",
        "rd=1-rd\n",
        "db_query,noise_query,noise,Aug=randomized_response(db50,flips20,lastflip50,rd)\n",
        "print(\"True Result for 1000 for 20% \",db_query)\n",
        "print(\"Noise Result for 1000 for 20% \",noise_query)\n",
        "print(\"Augmneted Result for 1000 20% \",Aug)\n",
        "print(\"Epsilon for 1000 for 20% \",(noise_query-Aug))\n",
        "\n",
        "rd=0.5\n",
        "rd=1-rd\n",
        "db_query,noise_query,noise,Aug=randomized_response(db50,flips50,lastflip50,rd)\n",
        "print(\"True Result for 1000 for 50% \",db_query)\n",
        "print(\"Noise Result for 1000 for 50% \",noise_query)\n",
        "print(\"Augmneted Result for 1000 50% \",Aug)\n",
        "print(\"Epsilon for 1000 for 50% \",(noise_query-Aug))\n",
        "\n",
        "rd=0.75\n",
        "rd=1-rd\n",
        "db_query,noise_query,noise,Aug=randomized_response(db50,flips75,lastflip50,rd)\n",
        "print(\"True Result for 1000 for 75% \",db_query)\n",
        "print(\"Noise Result for 1000 for 75% \",noise_query)\n",
        "print(\"Augmneted Result for 1000 75% \",Aug)\n",
        "print(\"Epsilon for 1000 for 75% \",(noise_query-Aug))"
      ],
      "execution_count": 32,
      "outputs": [
        {
          "output_type": "stream",
          "text": [
            "True Result for 1000 for 20%  tensor(0.4900)\n",
            "Noise Result for 1000 for 20%  tensor(0.4750)\n",
            "Augmneted Result for 1000 20%  tensor(0.4688)\n",
            "Epsilon for 1000 for 20%  tensor(0.0062)\n",
            "True Result for 1000 for 50%  tensor(0.4900)\n",
            "Noise Result for 1000 for 50%  tensor(0.4970)\n",
            "Augmneted Result for 1000 50%  tensor(0.4940)\n",
            "Epsilon for 1000 for 50%  tensor(0.0030)\n",
            "True Result for 1000 for 75%  tensor(0.4900)\n",
            "Noise Result for 1000 for 75%  tensor(0.5000)\n",
            "Augmneted Result for 1000 75%  tensor(0.5000)\n",
            "Epsilon for 1000 for 75%  tensor(0.)\n"
          ],
          "name": "stdout"
        }
      ]
    },
    {
      "cell_type": "code",
      "metadata": {
        "id": "4vBv7j789ttA",
        "colab_type": "code",
        "colab": {}
      },
      "source": [
        "db50,flips50,lastflip50=make_set(10000,(1-0.5));\n",
        "db20,flips20,lastflip20=make_set(10000,(1-0.2));\n",
        "db75,flips75,lastflip75=make_set(10000,(1-0.75));\n",
        "  # returns true result and augmented result"
      ],
      "execution_count": 0,
      "outputs": []
    },
    {
      "cell_type": "code",
      "metadata": {
        "id": "mDcPwNHE9vtC",
        "colab_type": "code",
        "outputId": "31c5438b-2fda-4d9f-af08-0a1ab3050350",
        "colab": {
          "base_uri": "https://localhost:8080/",
          "height": 218
        }
      },
      "source": [
        "rd=0.2\n",
        "rd=1-rd\n",
        "db_query,noise_query,noise,Aug=randomized_response(db50,flips20,lastflip50,rd)\n",
        "print(\"True Result for 10000 for 20% \",db_query)\n",
        "print(\"Noise Result for 10000 for 20% \",noise_query)\n",
        "print(\"Augmneted Result for 10000 20% \",Aug)\n",
        "print(\"Epsilon for 10000 for 20% \",(noise_query-Aug))\n",
        "\n",
        "rd=0.5\n",
        "rd=1-rd\n",
        "db_query,noise_query,noise,Aug=randomized_response(db50,flips50,lastflip50,rd)\n",
        "print(\"True Result for 10000 for 50% \",db_query)\n",
        "print(\"Noise Result for 10000 for 50% \",noise_query)\n",
        "print(\"Augmneted Result for 10000 50% \",Aug)\n",
        "print(\"Epsilon for 10000 for 50% \",(noise_query-Aug))\n",
        "\n",
        "rd=0.75\n",
        "rd=1-rd\n",
        "db_query,noise_query,noise,Aug=randomized_response(db50,flips75,lastflip50,rd)\n",
        "print(\"True Result for 10000 for 75% \",db_query)\n",
        "print(\"Noise Result for 10000 for 75% \",noise_query)\n",
        "print(\"Augmneted Result for 10000 75% \",Aug)\n",
        "print(\"Epsilon for 10000 for 75% \",(noise_query-Aug))"
      ],
      "execution_count": 34,
      "outputs": [
        {
          "output_type": "stream",
          "text": [
            "True Result for 10000 for 20%  tensor(0.5030)\n",
            "Noise Result for 10000 for 20%  tensor(0.5065)\n",
            "Augmneted Result for 10000 20%  tensor(0.5081)\n",
            "Epsilon for 10000 for 20%  tensor(-0.0016)\n",
            "True Result for 10000 for 50%  tensor(0.5030)\n",
            "Noise Result for 10000 for 50%  tensor(0.5055)\n",
            "Augmneted Result for 10000 50%  tensor(0.5110)\n",
            "Epsilon for 10000 for 50%  tensor(-0.0055)\n",
            "True Result for 10000 for 75%  tensor(0.5030)\n",
            "Noise Result for 10000 for 75%  tensor(0.4999)\n",
            "Augmneted Result for 10000 75%  tensor(0.4996)\n",
            "Epsilon for 10000 for 75%  tensor(0.0003)\n"
          ],
          "name": "stdout"
        }
      ]
    },
    {
      "cell_type": "markdown",
      "metadata": {
        "id": "VIQVOpsA-fvy",
        "colab_type": "text"
      },
      "source": [
        "# Lesson: The Formal Definition of Differential Privacy\n",
        "\n",
        "The previous method of adding noise was called \"Local Differentail Privacy\" because we added noise to each datapoint individually. This is necessary for some situations wherein the data is SO sensitive that individuals do not trust noise to be added later. However, it comes at a very high cost in terms of accuracy. \n",
        "\n",
        "However, alternatively we can add noise AFTER data has been aggregated by a function. This kind of noise can allow for similar levels of protection with a lower affect on accuracy. However, participants must be able to trust that no-one looked at their datapoints _before_ the aggregation took place. In some situations this works out well, in others (such as an individual hand-surveying a group of people), this is less realistic.\n",
        "\n",
        "Nevertheless, global differential privacy is incredibly important because it allows us to perform differential privacy on smaller groups of individuals with lower amounts of noise. Let's revisit our sum functions."
      ]
    },
    {
      "cell_type": "markdown",
      "metadata": {
        "id": "iNtJ00Nn-fv2",
        "colab_type": "text"
      },
      "source": [
        "So the idea here is that we want to add noise to the output of our function. We actually have two different kinds of noise we can add - Laplacian Noise or Gaussian Noise. However, before we do so at this point we need to dive into the formal definition of Differential Privacy.\n",
        "\n",
        "![alt text](dp_formula.png \"Title\")"
      ]
    },
    {
      "cell_type": "markdown",
      "metadata": {
        "id": "x6GoXQjj-fv2",
        "colab_type": "text"
      },
      "source": [
        "_Image From: \"The Algorithmic Foundations of Differential Privacy\" - Cynthia Dwork and Aaron Roth - https://www.cis.upenn.edu/~aaroth/Papers/privacybook.pdf_"
      ]
    },
    {
      "cell_type": "markdown",
      "metadata": {
        "id": "5gA9W-b1-fv3",
        "colab_type": "text"
      },
      "source": [
        "This definition does not _create_ differential privacy, instead it is a measure of how much privacy is afforded by a query M. Specifically, it's a comparison between running the query M on a database (x) and a parallel database (y). As you remember, parallel databases are defined to be the same as a full database (x) with one entry/person removed.\n",
        "\n",
        "Thus, this definition says that FOR ALL parallel databases, the maximum distance between a query on database (x) and the same query on database (y) will be e^epsilon, but that occasionally this constraint won't hold with probability delta. Thus, this theorem is called \"epsilon delta\" differential privacy.\n",
        "\n",
        "# Epsilon\n",
        "\n",
        "Let's unpack the intuition of this for a moment. \n",
        "\n",
        "Epsilon Zero: If a query satisfied this inequality where epsilon was set to 0, then that would mean that the query for all parallel databases outputed the exact same value as the full database. As you may remember, when we calculated the \"threshold\" function, often the Sensitivity was 0. In that case, the epsilon also happened to be zero.\n",
        "\n",
        "Epsilon One: If a query satisfied this inequality with epsilon 1, then the maximum distance between all queries would be 1 - or more precisely - the maximum distance between the two random distributions M(x) and M(y) is 1 (because all these queries have some amount of randomness in them, just like we observed in the last section).\n",
        "\n",
        "# Delta\n",
        "\n",
        "Delta is basically the probability that epsilon breaks. Namely, sometimes the epsilon is different for some queries than it is for others. For example, you may remember when we were calculating the sensitivity of threshold, most of the time sensitivity was 0 but sometimes it was 1. Thus, we could calculate this as \"epsilon zero but non-zero delta\" which would say that epsilon is perfect except for some probability of the time when it's arbitrarily higher. Note that this expression doesn't represent the full tradeoff between epsilon and delta."
      ]
    },
    {
      "cell_type": "markdown",
      "metadata": {
        "id": "D2fDSieV-fv4",
        "colab_type": "text"
      },
      "source": [
        "# Lesson: How To Add Noise for Global Differential Privacy\n",
        "\n",
        "In this lesson, we're going to learn about how to take a query and add varying amounts of noise so that it satisfies a certain degree of differential privacy. In particular, we're going to leave behind the Local Differential privacy previously discussed and instead opt to focus on Global differential privacy. \n",
        "\n",
        "So, to sum up, this lesson is about adding noise to the output of our query so that it satisfies a certain epsilon-delta differential privacy threshold.\n",
        "\n",
        "There are two kinds of noise we can add - Gaussian Noise or Laplacian Noise. Generally speaking Laplacian is better, but both are still valid. Now to the hard question...\n",
        "\n",
        "### How much noise should we add?\n",
        "\n",
        "The amount of noise necessary to add to the output of a query is a function of four things:\n",
        "\n",
        "- the type of noise (Gaussian/Laplacian)\n",
        "- the sensitivity of the query/function\n",
        "- the desired epsilon (ε)\n",
        "- the desired delta (δ)\n",
        "\n",
        "Thus, for each type of noise we're adding, we have different way of calculating how much to add as a function of sensitivity, epsilon, and delta. We're going to focus on Laplacian noise. Laplacian noise is increased/decreased according to a \"scale\" parameter b. We choose \"b\" based on the following formula.\n",
        "\n",
        "b = sensitivity(query) / epsilon\n",
        "\n",
        "In other words, if we set b to be this value, then we know that we will have a privacy leakage of <= epsilon. Furthermore, the nice thing about Laplace is that it guarantees this with delta == 0. There are some tunings where we can have very low epsilon where delta is non-zero, but we'll ignore them for now.\n",
        "\n",
        "### Querying Repeatedly\n",
        "\n",
        "- if we query the database multiple times - we can simply add the epsilons (Even if we change the amount of noise and their epsilons are not the same)."
      ]
    },
    {
      "cell_type": "code",
      "metadata": {
        "id": "DDDGecWm-fv4",
        "colab_type": "code",
        "colab": {}
      },
      "source": [
        ""
      ],
      "execution_count": 0,
      "outputs": []
    },
    {
      "cell_type": "markdown",
      "metadata": {
        "id": "ZNE-DXBx-fv6",
        "colab_type": "text"
      },
      "source": [
        "# Project: Create a Differentially Private Query\n",
        "\n",
        "In this project, I want you to take what you learned in the previous lesson and create a query function which sums over the database and adds just the right amount of noise such that it satisfies an epsilon constraint. Write a query for both \"sum\" and for \"mean\". Ensure that you use the correct sensitivity measures for both."
      ]
    },
    {
      "cell_type": "code",
      "metadata": {
        "id": "QOXcJ7lx-fv_",
        "colab_type": "code",
        "colab": {}
      },
      "source": [
        "import numpy as np\n",
        "import torch"
      ],
      "execution_count": 0,
      "outputs": []
    },
    {
      "cell_type": "code",
      "metadata": {
        "id": "nEgDImdX-fwC",
        "colab_type": "code",
        "colab": {}
      },
      "source": [
        "def sum_query(db):\n",
        "    return db.sum()"
      ],
      "execution_count": 0,
      "outputs": []
    },
    {
      "cell_type": "code",
      "metadata": {
        "id": "jsyziycj-fwB",
        "colab_type": "code",
        "colab": {}
      },
      "source": [
        "db, pdb = create_db_and_parallels(100)"
      ],
      "execution_count": 0,
      "outputs": []
    },
    {
      "cell_type": "code",
      "metadata": {
        "id": "xtvNaXco-fwD",
        "colab_type": "code",
        "colab": {}
      },
      "source": [
        "# create an augmented mechanism that adds Global noise to a given query using laplace type\n",
        "def noise_mechanism(db, query, sensitivity, epsilon=0.5):\n",
        "  # laplasian noise depends on a beta variable as follows\n",
        "  b = sensitivity / epsilon\n",
        "\n",
        "  # noise amout of noise to be added\n",
        "  noise = torch.tensor(np.random.laplace(0, scale=b, size=1))\n",
        "\n",
        "  noisy_result = query(db.float()) + noise.float()\n",
        "\n",
        "  return noisy_result"
      ],
      "execution_count": 0,
      "outputs": []
    },
    {
      "cell_type": "code",
      "metadata": {
        "id": "jKpb4Yapx4g8",
        "colab_type": "code",
        "colab": {
          "base_uri": "https://localhost:8080/",
          "height": 34
        },
        "outputId": "153f4abc-2cde-421f-8911-3e0d22469f30"
      },
      "source": [
        "# true result which anlayst does not have access to:\n",
        "print(f'True query result: {sum_query(db).item()}')"
      ],
      "execution_count": 54,
      "outputs": [
        {
          "output_type": "stream",
          "text": [
            "True query result: 52\n"
          ],
          "name": "stdout"
        }
      ]
    },
    {
      "cell_type": "code",
      "metadata": {
        "id": "2otevzD37-u3",
        "colab_type": "code",
        "colab": {
          "base_uri": "https://localhost:8080/",
          "height": 34
        },
        "outputId": "ebf128ae-515b-4615-81c6-97d291726d9b"
      },
      "source": [
        "sense=sensity(db,pdb)\n",
        "print(sense)"
      ],
      "execution_count": 51,
      "outputs": [
        {
          "output_type": "stream",
          "text": [
            "tensor(0.0048)\n"
          ],
          "name": "stdout"
        }
      ]
    },
    {
      "cell_type": "code",
      "metadata": {
        "id": "Dp4oDgpVx6oM",
        "colab_type": "code",
        "colab": {
          "base_uri": "https://localhost:8080/",
          "height": 296
        },
        "outputId": "3a4d730a-3c20-494d-b3da-de4e3c1ea23f"
      },
      "source": [
        "result = noise_mechanism(db, sum_query, sense)\n",
        "print(f'Augmented, or noisy, result for Sum Query: {result.item()}')"
      ],
      "execution_count": 82,
      "outputs": [
        {
          "output_type": "error",
          "ename": "AttributeError",
          "evalue": "ignored",
          "traceback": [
            "\u001b[0;31m---------------------------------------------------------------------------\u001b[0m",
            "\u001b[0;31mAttributeError\u001b[0m                            Traceback (most recent call last)",
            "\u001b[0;32m<ipython-input-82-b65bef1f254f>\u001b[0m in \u001b[0;36m<module>\u001b[0;34m()\u001b[0m\n\u001b[0;32m----> 1\u001b[0;31m \u001b[0mresult\u001b[0m \u001b[0;34m=\u001b[0m \u001b[0mnoise_mechanism\u001b[0m\u001b[0;34m(\u001b[0m\u001b[0mdb\u001b[0m\u001b[0;34m,\u001b[0m \u001b[0msum_query\u001b[0m\u001b[0;34m,\u001b[0m \u001b[0msense\u001b[0m\u001b[0;34m)\u001b[0m\u001b[0;34m\u001b[0m\u001b[0;34m\u001b[0m\u001b[0m\n\u001b[0m\u001b[1;32m      2\u001b[0m \u001b[0mprint\u001b[0m\u001b[0;34m(\u001b[0m\u001b[0;34mf'Augmented, or noisy, result for Sum Query: {result.item()}'\u001b[0m\u001b[0;34m)\u001b[0m\u001b[0;34m\u001b[0m\u001b[0;34m\u001b[0m\u001b[0m\n",
            "\u001b[0;32m<ipython-input-55-cc5f93a755a5>\u001b[0m in \u001b[0;36mnoise_mechanism\u001b[0;34m(db, query, sensitivity, epsilon)\u001b[0m\n\u001b[1;32m      6\u001b[0m   \u001b[0mnoise\u001b[0m \u001b[0;34m=\u001b[0m \u001b[0mtorch\u001b[0m\u001b[0;34m.\u001b[0m\u001b[0mtensor\u001b[0m\u001b[0;34m(\u001b[0m\u001b[0mnp\u001b[0m\u001b[0;34m.\u001b[0m\u001b[0mrandom\u001b[0m\u001b[0;34m.\u001b[0m\u001b[0mlaplace\u001b[0m\u001b[0;34m(\u001b[0m\u001b[0;36m0\u001b[0m\u001b[0;34m,\u001b[0m \u001b[0mscale\u001b[0m\u001b[0;34m=\u001b[0m\u001b[0mb\u001b[0m\u001b[0;34m,\u001b[0m \u001b[0msize\u001b[0m\u001b[0;34m=\u001b[0m\u001b[0;36m1\u001b[0m\u001b[0;34m)\u001b[0m\u001b[0;34m)\u001b[0m\u001b[0;34m\u001b[0m\u001b[0;34m\u001b[0m\u001b[0m\n\u001b[1;32m      7\u001b[0m \u001b[0;34m\u001b[0m\u001b[0m\n\u001b[0;32m----> 8\u001b[0;31m   \u001b[0mnoisy_result\u001b[0m \u001b[0;34m=\u001b[0m \u001b[0mquery\u001b[0m\u001b[0;34m(\u001b[0m\u001b[0mdb\u001b[0m\u001b[0;34m.\u001b[0m\u001b[0mfloat\u001b[0m\u001b[0;34m(\u001b[0m\u001b[0;34m)\u001b[0m\u001b[0;34m)\u001b[0m \u001b[0;34m+\u001b[0m \u001b[0mnoise\u001b[0m\u001b[0;34m.\u001b[0m\u001b[0mfloat\u001b[0m\u001b[0;34m(\u001b[0m\u001b[0;34m)\u001b[0m\u001b[0;34m\u001b[0m\u001b[0;34m\u001b[0m\u001b[0m\n\u001b[0m\u001b[1;32m      9\u001b[0m \u001b[0;34m\u001b[0m\u001b[0m\n\u001b[1;32m     10\u001b[0m   \u001b[0;32mreturn\u001b[0m \u001b[0mnoisy_result\u001b[0m\u001b[0;34m\u001b[0m\u001b[0;34m\u001b[0m\u001b[0m\n",
            "\u001b[0;31mAttributeError\u001b[0m: 'numpy.ndarray' object has no attribute 'float'"
          ]
        }
      ]
    },
    {
      "cell_type": "code",
      "metadata": {
        "id": "_HAE64X9x8is",
        "colab_type": "code",
        "colab": {
          "base_uri": "https://localhost:8080/",
          "height": 50
        },
        "outputId": "42514ba0-1dac-41d2-8435-0830aa10c254"
      },
      "source": [
        "# TODO\n",
        "result = noise_mechanism(db, mean_query, sense)\n",
        "print(f'True Mean query result:                     {mean_query(db).item()}')\n",
        "print(f'Augmented, or noisy, result for Mean Query: {result.item()}')\n",
        "# Repeat the previous experiment for the Mean query"
      ],
      "execution_count": 67,
      "outputs": [
        {
          "output_type": "stream",
          "text": [
            "True Mean query result:                     0.5199999809265137\n",
            "Augmented, or noisy, result for Mean Query: 0.5151166915893555\n"
          ],
          "name": "stdout"
        }
      ]
    },
    {
      "cell_type": "code",
      "metadata": {
        "id": "N6b5VBuWx-Cb",
        "colab_type": "code",
        "colab": {
          "base_uri": "https://localhost:8080/",
          "height": 118
        },
        "outputId": "ebffbbfe-79c2-47f9-c542-ec83c4477436"
      },
      "source": [
        "# TODO\n",
        "# decrease the value of epsilon to 0.01 and then to 0.0001\n",
        "\n",
        "# TODO\n",
        "result = noise_mechanism(db, mean_query, sense,0.5)\n",
        "print(f'True Mean query result:                     {mean_query(db).item()}')\n",
        "print(f'Augmented, or noisy, result for Mean Query With Epsilon 0.5: {result.item()}')\n",
        "\n",
        "result = noise_mechanism(db, mean_query, sense,0.01)\n",
        "print(f'True Mean query result:                     {mean_query(db).item()}')\n",
        "print(f'Augmented, or noisy, result for Mean Query With Epsilon 0.01: {result.item()}')\n",
        "\n",
        "result = noise_mechanism(db, mean_query, sense,0.0001)\n",
        "print(f'True Mean query result:                     {mean_query(db).item()}')\n",
        "print(f'Augmented, or noisy, result for Mean Query With Epsilon 0.0001: {result.item()}')\n",
        "\n",
        "# What happesn to the amount of noise?"
      ],
      "execution_count": 69,
      "outputs": [
        {
          "output_type": "stream",
          "text": [
            "True Mean query result:                     0.5199999809265137\n",
            "Augmented, or noisy, result for Mean Query With Epsilon 0.5: 0.5211960077285767\n",
            "True Mean query result:                     0.5199999809265137\n",
            "Augmented, or noisy, result for Mean Query With Epsilon 0.01: 0.8918602466583252\n",
            "True Mean query result:                     0.5199999809265137\n",
            "Augmented, or noisy, result for Mean Query With Epsilon 0.0001: -5.243734359741211\n"
          ],
          "name": "stdout"
        }
      ]
    },
    {
      "cell_type": "markdown",
      "metadata": {
        "id": "W8HYVWUV-fwJ",
        "colab_type": "text"
      },
      "source": [
        "# Lesson: Differential Privacy for Deep Learning\n",
        "\n",
        "So in the last lessons you may have been wondering - what does all of this have to do with Deep Learning? Well, these same techniques we were just studying form the core primitives for how Differential Privacy provides guarantees in the context of Deep Learning. \n",
        "\n",
        "Previously, we defined perfect privacy as \"a query to a database returns the same value even if we remove any person from the database\", and used this intuition in the description of epsilon/delta. In the context of deep learning we have a similar standard.\n",
        "\n",
        "Training a model on a dataset should return the same model even if we remove any person from the dataset.\n",
        "\n",
        "Thus, we've replaced \"querying a database\" with \"training a model on a dataset\". In essence, the training process is a kind of query. However, one should note that this adds two points of complexity which database queries did not have:\n",
        "\n",
        "    1. do we always know where \"people\" are referenced in the dataset?\n",
        "    2. neural models rarely never train to the same output model, even on identical data\n",
        "\n",
        "The answer to (1) is to treat each training example as a single, separate person. Strictly speaking, this is often overly zealous as some training examples have no relevance to people and others may have multiple/partial (consider an image with multiple people contained within it). Thus, localizing exactly where \"people\" are referenced, and thus how much your model would change if people were removed, is challenging.\n",
        "\n",
        "The answer to (2) is also an open problem - but several interesitng proposals have been made. We're going to focus on one of the most popular proposals, PATE.\n",
        "\n",
        "## An Example Scenario: A Health Neural Network\n",
        "\n",
        "First we're going to consider a scenario - you work for a hospital and you have a large collection of images about your patients. However, you don't know what's in them. You would like to use these images to develop a neural network which can automatically classify them, however since your images aren't labeled, they aren't sufficient to train a classifier. \n",
        "\n",
        "However, being a cunning strategist, you realize that you can reach out to 10 partner hospitals which DO have annotated data. It is your hope to train your new classifier on their datasets so that you can automatically label your own. While these hospitals are interested in helping, they have privacy concerns regarding information about their patients. Thus, you will use the following technique to train a classifier which protects the privacy of patients in the other hospitals.\n",
        "\n",
        "- 1) You'll ask each of the 10 hospitals to train a model on their own datasets (All of which have the same kinds of labels)\n",
        "- 2) You'll then use each of the 10 partner models to predict on your local dataset, generating 10 labels for each of your datapoints\n",
        "- 3) Then, for each local data point (now with 10 labels), you will perform a DP query to generate the final true label. This query is a \"max\" function, where \"max\" is the most frequent label across the 10 labels. We will need to add laplacian noise to make this Differentially Private to a certain epsilon/delta constraint.\n",
        "- 4) Finally, we will retrain a new model on our local dataset which now has labels. This will be our final \"DP\" model.\n",
        "\n",
        "So, let's walk through these steps. I will assume you're already familiar with how to train/predict a deep neural network, so we'll skip steps 1 and 2 and work with example data. We'll focus instead on step 3, namely how to perform the DP query for each example using toy data.\n",
        "\n",
        "So, let's say we have 10,000 training examples, and we've got 10 labels for each example (from our 10 \"teacher models\" which were trained directly on private data). Each label is chosen from a set of 10 possible labels (categories) for each image."
      ]
    },
    {
      "cell_type": "code",
      "metadata": {
        "id": "DxAIORl2-fwK",
        "colab_type": "code",
        "colab": {}
      },
      "source": [
        "import numpy as np"
      ],
      "execution_count": 0,
      "outputs": []
    },
    {
      "cell_type": "code",
      "metadata": {
        "id": "KMwHpAum-fwL",
        "colab_type": "code",
        "colab": {}
      },
      "source": [
        "num_teachers = 10 # we're working with 10 partner hospitals\n",
        "num_examples = 10000 # the size of OUR dataset\n",
        "num_labels = 10 # number of lablels for our classifier"
      ],
      "execution_count": 0,
      "outputs": []
    },
    {
      "cell_type": "code",
      "metadata": {
        "id": "G7vGC4BTc33W",
        "colab_type": "code",
        "colab": {}
      },
      "source": [
        "def create_db_and_parallels_10(num_entries):\n",
        "    \n",
        "    db = torch.rand(num_entries)>\n",
        "    pdbs = get_parallel_dbs(db)\n",
        "    \n",
        "    return db, pdbs"
      ],
      "execution_count": 0,
      "outputs": []
    },
    {
      "cell_type": "code",
      "metadata": {
        "id": "hzb8TFlL-fwP",
        "colab_type": "code",
        "colab": {
          "base_uri": "https://localhost:8080/",
          "height": 121
        },
        "outputId": "0df0595e-0970-4e0d-f539-b28fac4f985a"
      },
      "source": [
        "db=np.random.randint(10, size=(10000, 10))\n",
        "newlabels=[]\n",
        "oldlabels=[]\n",
        "diff=[]\n",
        "for i in range(len(db)):\n",
        "  #print(\"Before Removing Label: \",db[i])\n",
        "  oldlabels.append(np.argmax(np.bincount(db[i], minlength=10)))\n",
        "  #print(\"Most repeated Label: \",oldlabels[i])\n",
        "  x=db[i]\n",
        "  x=np.delete(x,np.random.randint(10))\n",
        "  #print(\"After Removing one random Label: \", x)\n",
        "  newlabels.append(np.argmax(np.bincount(x, minlength=9)))\n",
        "  #print(\"Most repeated Label: \",newlabels[i])\n",
        "  diff.append(abs(newlabels[i]-oldlabels[i]))\n",
        "  \n",
        "sensitive=max(diff)\n",
        "print(\"MAX DIFFERENCE AKA SENSITIVITY: \",sensitive)\n",
        "print(\"Calculating Noise witht this above Sensitivity...\")\n",
        "ep=1\n",
        "print(\"For Epsilon: \",ep)\n",
        "b= sensitive/ep\n",
        "n = torch.tensor(np.random.laplace(0, scale=b, size=1))\n",
        "print(n)\n",
        "#print(newlabels)\n",
        "#newlabels=oldlabels+n[0].item()\n",
        "#print(newlabels)\n",
        "for i in range(len(oldlabels)):\n",
        "  newlabels[i]=abs(oldlabels[i]+n[0].item())\n",
        "print(newlabels)"
      ],
      "execution_count": 109,
      "outputs": [
        {
          "output_type": "stream",
          "text": [
            "MAX DIFFERENCE AKA SENSITIVITY:  9\n",
            "Calculating Noise witht this above Sensitivity...\n",
            "For Epsilon:  1\n",
            "tensor([-11.1925], dtype=torch.float64)\n",
            "[11.192459051452449, 10.192459051452449, 8.192459051452449, 7.192459051452449, 4.192459051452449, 11.192459051452449, 3.192459051452449, 7.192459051452449, 7.192459051452449, 7.192459051452449, 4.192459051452449, 3.192459051452449, 7.192459051452449, 10.192459051452449, 10.192459051452449, 8.192459051452449, 8.192459051452449, 11.192459051452449, 6.192459051452449, 10.192459051452449, 5.192459051452449, 10.192459051452449, 8.192459051452449, 9.192459051452449, 7.192459051452449, 6.192459051452449, 9.192459051452449, 8.192459051452449, 11.192459051452449, 7.192459051452449, 3.192459051452449, 11.192459051452449, 6.192459051452449, 8.192459051452449, 8.192459051452449, 11.192459051452449, 4.192459051452449, 8.192459051452449, 4.192459051452449, 11.192459051452449, 8.192459051452449, 11.192459051452449, 8.192459051452449, 2.192459051452449, 11.192459051452449, 11.192459051452449, 11.192459051452449, 8.192459051452449, 7.192459051452449, 3.192459051452449, 11.192459051452449, 9.192459051452449, 9.192459051452449, 11.192459051452449, 9.192459051452449, 3.192459051452449, 2.192459051452449, 9.192459051452449, 5.192459051452449, 2.192459051452449, 6.192459051452449, 10.192459051452449, 9.192459051452449, 11.192459051452449, 11.192459051452449, 9.192459051452449, 11.192459051452449, 2.192459051452449, 10.192459051452449, 2.192459051452449, 7.192459051452449, 7.192459051452449, 6.192459051452449, 11.192459051452449, 6.192459051452449, 2.192459051452449, 6.192459051452449, 2.192459051452449, 9.192459051452449, 7.192459051452449, 2.192459051452449, 7.192459051452449, 4.192459051452449, 8.192459051452449, 11.192459051452449, 3.192459051452449, 9.192459051452449, 11.192459051452449, 10.192459051452449, 11.192459051452449, 10.192459051452449, 10.192459051452449, 10.192459051452449, 10.192459051452449, 5.192459051452449, 9.192459051452449, 7.192459051452449, 7.192459051452449, 11.192459051452449, 7.192459051452449, 2.192459051452449, 7.192459051452449, 11.192459051452449, 10.192459051452449, 4.192459051452449, 11.192459051452449, 8.192459051452449, 11.192459051452449, 11.192459051452449, 11.192459051452449, 4.192459051452449, 2.192459051452449, 9.192459051452449, 8.192459051452449, 9.192459051452449, 10.192459051452449, 9.192459051452449, 11.192459051452449, 7.192459051452449, 8.192459051452449, 6.192459051452449, 11.192459051452449, 9.192459051452449, 11.192459051452449, 11.192459051452449, 8.192459051452449, 10.192459051452449, 10.192459051452449, 2.192459051452449, 8.192459051452449, 7.192459051452449, 2.192459051452449, 4.192459051452449, 11.192459051452449, 11.192459051452449, 7.192459051452449, 11.192459051452449, 2.192459051452449, 10.192459051452449, 5.192459051452449, 8.192459051452449, 11.192459051452449, 4.192459051452449, 9.192459051452449, 10.192459051452449, 6.192459051452449, 6.192459051452449, 5.192459051452449, 11.192459051452449, 4.192459051452449, 6.192459051452449, 4.192459051452449, 8.192459051452449, 10.192459051452449, 11.192459051452449, 4.192459051452449, 8.192459051452449, 6.192459051452449, 9.192459051452449, 8.192459051452449, 7.192459051452449, 11.192459051452449, 9.192459051452449, 4.192459051452449, 3.192459051452449, 10.192459051452449, 6.192459051452449, 7.192459051452449, 10.192459051452449, 9.192459051452449, 4.192459051452449, 4.192459051452449, 8.192459051452449, 10.192459051452449, 9.192459051452449, 5.192459051452449, 10.192459051452449, 4.192459051452449, 6.192459051452449, 3.192459051452449, 3.192459051452449, 11.192459051452449, 4.192459051452449, 11.192459051452449, 10.192459051452449, 9.192459051452449, 2.192459051452449, 6.192459051452449, 7.192459051452449, 11.192459051452449, 9.192459051452449, 11.192459051452449, 8.192459051452449, 10.192459051452449, 6.192459051452449, 6.192459051452449, 8.192459051452449, 9.192459051452449, 10.192459051452449, 3.192459051452449, 3.192459051452449, 11.192459051452449, 11.192459051452449, 5.192459051452449, 9.192459051452449, 9.192459051452449, 7.192459051452449, 9.192459051452449, 10.192459051452449, 10.192459051452449, 8.192459051452449, 9.192459051452449, 11.192459051452449, 10.192459051452449, 4.192459051452449, 11.192459051452449, 9.192459051452449, 11.192459051452449, 3.192459051452449, 8.192459051452449, 5.192459051452449, 10.192459051452449, 5.192459051452449, 10.192459051452449, 9.192459051452449, 3.192459051452449, 10.192459051452449, 8.192459051452449, 7.192459051452449, 7.192459051452449, 8.192459051452449, 4.192459051452449, 8.192459051452449, 2.192459051452449, 9.192459051452449, 9.192459051452449, 9.192459051452449, 3.192459051452449, 9.192459051452449, 2.192459051452449, 11.192459051452449, 8.192459051452449, 8.192459051452449, 9.192459051452449, 11.192459051452449, 3.192459051452449, 7.192459051452449, 10.192459051452449, 11.192459051452449, 4.192459051452449, 10.192459051452449, 7.192459051452449, 10.192459051452449, 9.192459051452449, 6.192459051452449, 10.192459051452449, 2.192459051452449, 4.192459051452449, 4.192459051452449, 8.192459051452449, 4.192459051452449, 2.192459051452449, 4.192459051452449, 8.192459051452449, 10.192459051452449, 6.192459051452449, 7.192459051452449, 10.192459051452449, 8.192459051452449, 8.192459051452449, 9.192459051452449, 11.192459051452449, 2.192459051452449, 6.192459051452449, 5.192459051452449, 11.192459051452449, 5.192459051452449, 3.192459051452449, 2.192459051452449, 4.192459051452449, 9.192459051452449, 5.192459051452449, 8.192459051452449, 10.192459051452449, 11.192459051452449, 9.192459051452449, 6.192459051452449, 9.192459051452449, 10.192459051452449, 6.192459051452449, 10.192459051452449, 2.192459051452449, 7.192459051452449, 5.192459051452449, 10.192459051452449, 8.192459051452449, 11.192459051452449, 2.192459051452449, 2.192459051452449, 4.192459051452449, 8.192459051452449, 5.192459051452449, 8.192459051452449, 10.192459051452449, 2.192459051452449, 11.192459051452449, 9.192459051452449, 4.192459051452449, 4.192459051452449, 5.192459051452449, 10.192459051452449, 11.192459051452449, 6.192459051452449, 2.192459051452449, 10.192459051452449, 8.192459051452449, 10.192459051452449, 7.192459051452449, 7.192459051452449, 9.192459051452449, 11.192459051452449, 11.192459051452449, 10.192459051452449, 3.192459051452449, 11.192459051452449, 11.192459051452449, 9.192459051452449, 7.192459051452449, 3.192459051452449, 10.192459051452449, 6.192459051452449, 9.192459051452449, 9.192459051452449, 8.192459051452449, 2.192459051452449, 7.192459051452449, 11.192459051452449, 9.192459051452449, 11.192459051452449, 5.192459051452449, 9.192459051452449, 8.192459051452449, 11.192459051452449, 6.192459051452449, 6.192459051452449, 2.192459051452449, 3.192459051452449, 2.192459051452449, 11.192459051452449, 11.192459051452449, 10.192459051452449, 10.192459051452449, 5.192459051452449, 11.192459051452449, 6.192459051452449, 10.192459051452449, 3.192459051452449, 9.192459051452449, 3.192459051452449, 2.192459051452449, 7.192459051452449, 10.192459051452449, 11.192459051452449, 10.192459051452449, 6.192459051452449, 10.192459051452449, 10.192459051452449, 10.192459051452449, 11.192459051452449, 4.192459051452449, 11.192459051452449, 11.192459051452449, 7.192459051452449, 4.192459051452449, 10.192459051452449, 9.192459051452449, 10.192459051452449, 6.192459051452449, 6.192459051452449, 10.192459051452449, 6.192459051452449, 11.192459051452449, 8.192459051452449, 4.192459051452449, 6.192459051452449, 9.192459051452449, 11.192459051452449, 5.192459051452449, 2.192459051452449, 11.192459051452449, 8.192459051452449, 5.192459051452449, 8.192459051452449, 8.192459051452449, 11.192459051452449, 10.192459051452449, 11.192459051452449, 10.192459051452449, 7.192459051452449, 8.192459051452449, 9.192459051452449, 5.192459051452449, 9.192459051452449, 9.192459051452449, 10.192459051452449, 10.192459051452449, 7.192459051452449, 8.192459051452449, 9.192459051452449, 10.192459051452449, 9.192459051452449, 8.192459051452449, 9.192459051452449, 3.192459051452449, 11.192459051452449, 2.192459051452449, 10.192459051452449, 6.192459051452449, 11.192459051452449, 8.192459051452449, 11.192459051452449, 6.192459051452449, 10.192459051452449, 9.192459051452449, 11.192459051452449, 9.192459051452449, 10.192459051452449, 2.192459051452449, 10.192459051452449, 10.192459051452449, 10.192459051452449, 6.192459051452449, 4.192459051452449, 8.192459051452449, 11.192459051452449, 6.192459051452449, 8.192459051452449, 6.192459051452449, 11.192459051452449, 9.192459051452449, 6.192459051452449, 6.192459051452449, 9.192459051452449, 5.192459051452449, 7.192459051452449, 2.192459051452449, 9.192459051452449, 4.192459051452449, 8.192459051452449, 2.192459051452449, 11.192459051452449, 11.192459051452449, 10.192459051452449, 7.192459051452449, 9.192459051452449, 11.192459051452449, 4.192459051452449, 10.192459051452449, 6.192459051452449, 11.192459051452449, 10.192459051452449, 8.192459051452449, 9.192459051452449, 11.192459051452449, 6.192459051452449, 10.192459051452449, 4.192459051452449, 8.192459051452449, 9.192459051452449, 9.192459051452449, 9.192459051452449, 6.192459051452449, 8.192459051452449, 10.192459051452449, 10.192459051452449, 11.192459051452449, 6.192459051452449, 7.192459051452449, 9.192459051452449, 11.192459051452449, 7.192459051452449, 9.192459051452449, 10.192459051452449, 6.192459051452449, 11.192459051452449, 9.192459051452449, 6.192459051452449, 9.192459051452449, 9.192459051452449, 11.192459051452449, 9.192459051452449, 11.192459051452449, 9.192459051452449, 6.192459051452449, 10.192459051452449, 6.192459051452449, 8.192459051452449, 11.192459051452449, 8.192459051452449, 3.192459051452449, 6.192459051452449, 11.192459051452449, 10.192459051452449, 5.192459051452449, 3.192459051452449, 8.192459051452449, 11.192459051452449, 6.192459051452449, 9.192459051452449, 7.192459051452449, 8.192459051452449, 11.192459051452449, 4.192459051452449, 11.192459051452449, 11.192459051452449, 4.192459051452449, 4.192459051452449, 8.192459051452449, 10.192459051452449, 10.192459051452449, 9.192459051452449, 4.192459051452449, 10.192459051452449, 11.192459051452449, 7.192459051452449, 4.192459051452449, 11.192459051452449, 4.192459051452449, 10.192459051452449, 10.192459051452449, 3.192459051452449, 4.192459051452449, 10.192459051452449, 3.192459051452449, 8.192459051452449, 11.192459051452449, 11.192459051452449, 11.192459051452449, 9.192459051452449, 10.192459051452449, 10.192459051452449, 8.192459051452449, 3.192459051452449, 10.192459051452449, 10.192459051452449, 10.192459051452449, 11.192459051452449, 10.192459051452449, 10.192459051452449, 3.192459051452449, 11.192459051452449, 2.192459051452449, 7.192459051452449, 8.192459051452449, 4.192459051452449, 6.192459051452449, 4.192459051452449, 7.192459051452449, 9.192459051452449, 2.192459051452449, 11.192459051452449, 11.192459051452449, 9.192459051452449, 3.192459051452449, 4.192459051452449, 7.192459051452449, 5.192459051452449, 9.192459051452449, 4.192459051452449, 3.192459051452449, 2.192459051452449, 5.192459051452449, 11.192459051452449, 6.192459051452449, 9.192459051452449, 10.192459051452449, 3.192459051452449, 11.192459051452449, 6.192459051452449, 4.192459051452449, 11.192459051452449, 8.192459051452449, 2.192459051452449, 11.192459051452449, 9.192459051452449, 11.192459051452449, 4.192459051452449, 11.192459051452449, 8.192459051452449, 6.192459051452449, 7.192459051452449, 11.192459051452449, 8.192459051452449, 7.192459051452449, 9.192459051452449, 7.192459051452449, 8.192459051452449, 11.192459051452449, 6.192459051452449, 2.192459051452449, 3.192459051452449, 2.192459051452449, 2.192459051452449, 11.192459051452449, 5.192459051452449, 10.192459051452449, 11.192459051452449, 6.192459051452449, 3.192459051452449, 6.192459051452449, 5.192459051452449, 11.192459051452449, 9.192459051452449, 11.192459051452449, 11.192459051452449, 11.192459051452449, 7.192459051452449, 4.192459051452449, 8.192459051452449, 3.192459051452449, 9.192459051452449, 9.192459051452449, 7.192459051452449, 10.192459051452449, 9.192459051452449, 9.192459051452449, 3.192459051452449, 2.192459051452449, 9.192459051452449, 10.192459051452449, 8.192459051452449, 11.192459051452449, 6.192459051452449, 8.192459051452449, 9.192459051452449, 6.192459051452449, 10.192459051452449, 9.192459051452449, 9.192459051452449, 9.192459051452449, 11.192459051452449, 10.192459051452449, 9.192459051452449, 7.192459051452449, 5.192459051452449, 4.192459051452449, 9.192459051452449, 6.192459051452449, 11.192459051452449, 10.192459051452449, 9.192459051452449, 5.192459051452449, 7.192459051452449, 7.192459051452449, 11.192459051452449, 9.192459051452449, 9.192459051452449, 7.192459051452449, 11.192459051452449, 9.192459051452449, 11.192459051452449, 9.192459051452449, 11.192459051452449, 10.192459051452449, 10.192459051452449, 8.192459051452449, 4.192459051452449, 7.192459051452449, 11.192459051452449, 7.192459051452449, 11.192459051452449, 8.192459051452449, 3.192459051452449, 3.192459051452449, 6.192459051452449, 10.192459051452449, 9.192459051452449, 9.192459051452449, 11.192459051452449, 11.192459051452449, 9.192459051452449, 8.192459051452449, 8.192459051452449, 6.192459051452449, 10.192459051452449, 5.192459051452449, 10.192459051452449, 5.192459051452449, 6.192459051452449, 9.192459051452449, 8.192459051452449, 9.192459051452449, 6.192459051452449, 7.192459051452449, 11.192459051452449, 7.192459051452449, 11.192459051452449, 9.192459051452449, 2.192459051452449, 7.192459051452449, 10.192459051452449, 9.192459051452449, 11.192459051452449, 11.192459051452449, 11.192459051452449, 9.192459051452449, 10.192459051452449, 4.192459051452449, 10.192459051452449, 9.192459051452449, 11.192459051452449, 3.192459051452449, 9.192459051452449, 6.192459051452449, 5.192459051452449, 6.192459051452449, 5.192459051452449, 9.192459051452449, 11.192459051452449, 7.192459051452449, 10.192459051452449, 2.192459051452449, 3.192459051452449, 4.192459051452449, 11.192459051452449, 8.192459051452449, 4.192459051452449, 10.192459051452449, 2.192459051452449, 9.192459051452449, 8.192459051452449, 6.192459051452449, 11.192459051452449, 11.192459051452449, 3.192459051452449, 9.192459051452449, 6.192459051452449, 6.192459051452449, 8.192459051452449, 7.192459051452449, 11.192459051452449, 2.192459051452449, 10.192459051452449, 11.192459051452449, 7.192459051452449, 10.192459051452449, 10.192459051452449, 11.192459051452449, 8.192459051452449, 7.192459051452449, 8.192459051452449, 4.192459051452449, 5.192459051452449, 8.192459051452449, 10.192459051452449, 3.192459051452449, 10.192459051452449, 2.192459051452449, 7.192459051452449, 6.192459051452449, 4.192459051452449, 9.192459051452449, 5.192459051452449, 6.192459051452449, 8.192459051452449, 10.192459051452449, 9.192459051452449, 10.192459051452449, 6.192459051452449, 9.192459051452449, 6.192459051452449, 10.192459051452449, 6.192459051452449, 3.192459051452449, 9.192459051452449, 10.192459051452449, 10.192459051452449, 10.192459051452449, 11.192459051452449, 6.192459051452449, 9.192459051452449, 8.192459051452449, 10.192459051452449, 8.192459051452449, 9.192459051452449, 11.192459051452449, 9.192459051452449, 8.192459051452449, 4.192459051452449, 5.192459051452449, 2.192459051452449, 5.192459051452449, 9.192459051452449, 5.192459051452449, 11.192459051452449, 10.192459051452449, 2.192459051452449, 10.192459051452449, 7.192459051452449, 2.192459051452449, 10.192459051452449, 7.192459051452449, 7.192459051452449, 8.192459051452449, 3.192459051452449, 9.192459051452449, 11.192459051452449, 10.192459051452449, 2.192459051452449, 7.192459051452449, 11.192459051452449, 10.192459051452449, 11.192459051452449, 10.192459051452449, 11.192459051452449, 3.192459051452449, 8.192459051452449, 10.192459051452449, 11.192459051452449, 11.192459051452449, 6.192459051452449, 6.192459051452449, 7.192459051452449, 9.192459051452449, 11.192459051452449, 7.192459051452449, 2.192459051452449, 11.192459051452449, 7.192459051452449, 10.192459051452449, 11.192459051452449, 5.192459051452449, 3.192459051452449, 6.192459051452449, 10.192459051452449, 9.192459051452449, 4.192459051452449, 4.192459051452449, 10.192459051452449, 3.192459051452449, 8.192459051452449, 4.192459051452449, 7.192459051452449, 3.192459051452449, 6.192459051452449, 9.192459051452449, 11.192459051452449, 5.192459051452449, 11.192459051452449, 6.192459051452449, 7.192459051452449, 10.192459051452449, 3.192459051452449, 11.192459051452449, 9.192459051452449, 10.192459051452449, 4.192459051452449, 9.192459051452449, 4.192459051452449, 5.192459051452449, 6.192459051452449, 11.192459051452449, 6.192459051452449, 9.192459051452449, 8.192459051452449, 3.192459051452449, 2.192459051452449, 7.192459051452449, 7.192459051452449, 10.192459051452449, 9.192459051452449, 5.192459051452449, 11.192459051452449, 10.192459051452449, 6.192459051452449, 9.192459051452449, 9.192459051452449, 11.192459051452449, 9.192459051452449, 6.192459051452449, 7.192459051452449, 8.192459051452449, 6.192459051452449, 9.192459051452449, 4.192459051452449, 10.192459051452449, 6.192459051452449, 3.192459051452449, 7.192459051452449, 10.192459051452449, 10.192459051452449, 6.192459051452449, 2.192459051452449, 7.192459051452449, 10.192459051452449, 10.192459051452449, 6.192459051452449, 9.192459051452449, 6.192459051452449, 10.192459051452449, 6.192459051452449, 11.192459051452449, 2.192459051452449, 9.192459051452449, 9.192459051452449, 3.192459051452449, 2.192459051452449, 8.192459051452449, 11.192459051452449, 11.192459051452449, 7.192459051452449, 10.192459051452449, 8.192459051452449, 10.192459051452449, 7.192459051452449, 11.192459051452449, 8.192459051452449, 8.192459051452449, 10.192459051452449, 10.192459051452449, 6.192459051452449, 8.192459051452449, 6.192459051452449, 10.192459051452449, 9.192459051452449, 5.192459051452449, 11.192459051452449, 5.192459051452449, 6.192459051452449, 9.192459051452449, 9.192459051452449, 11.192459051452449, 11.192459051452449, 8.192459051452449, 3.192459051452449, 8.192459051452449, 6.192459051452449, 5.192459051452449, 8.192459051452449, 7.192459051452449, 9.192459051452449, 9.192459051452449, 7.192459051452449, 2.192459051452449, 10.192459051452449, 11.192459051452449, 10.192459051452449, 5.192459051452449, 10.192459051452449, 2.192459051452449, 8.192459051452449, 2.192459051452449, 8.192459051452449, 6.192459051452449, 3.192459051452449, 11.192459051452449, 4.192459051452449, 11.192459051452449, 6.192459051452449, 4.192459051452449, 8.192459051452449, 4.192459051452449, 11.192459051452449, 6.192459051452449, 10.192459051452449, 11.192459051452449, 11.192459051452449, 11.192459051452449, 11.192459051452449, 6.192459051452449, 9.192459051452449, 10.192459051452449, 6.192459051452449, 6.192459051452449, 4.192459051452449, 10.192459051452449, 11.192459051452449, 7.192459051452449, 10.192459051452449, 2.192459051452449, 5.192459051452449, 10.192459051452449, 11.192459051452449, 11.192459051452449, 11.192459051452449, 4.192459051452449, 11.192459051452449, 2.192459051452449, 8.192459051452449, 6.192459051452449, 7.192459051452449, 9.192459051452449, 5.192459051452449, 7.192459051452449, 7.192459051452449, 9.192459051452449, 9.192459051452449, 3.192459051452449, 2.192459051452449, 9.192459051452449, 11.192459051452449, 11.192459051452449, 9.192459051452449, 10.192459051452449, 9.192459051452449, 3.192459051452449, 3.192459051452449, 3.192459051452449, 7.192459051452449, 6.192459051452449, 11.192459051452449, 10.192459051452449, 9.192459051452449, 7.192459051452449, 7.192459051452449, 9.192459051452449, 4.192459051452449, 11.192459051452449, 11.192459051452449, 10.192459051452449, 9.192459051452449, 2.192459051452449, 6.192459051452449, 8.192459051452449, 10.192459051452449, 8.192459051452449, 11.192459051452449, 10.192459051452449, 11.192459051452449, 10.192459051452449, 7.192459051452449, 3.192459051452449, 8.192459051452449, 8.192459051452449, 8.192459051452449, 8.192459051452449, 10.192459051452449, 10.192459051452449, 7.192459051452449, 5.192459051452449, 11.192459051452449, 9.192459051452449, 4.192459051452449, 11.192459051452449, 9.192459051452449, 2.192459051452449, 5.192459051452449, 9.192459051452449, 10.192459051452449, 8.192459051452449, 11.192459051452449, 5.192459051452449, 8.192459051452449, 7.192459051452449, 11.192459051452449, 7.192459051452449, 11.192459051452449, 11.192459051452449, 11.192459051452449, 11.192459051452449, 5.192459051452449, 4.192459051452449, 11.192459051452449, 9.192459051452449, 3.192459051452449, 3.192459051452449, 8.192459051452449, 6.192459051452449, 2.192459051452449, 10.192459051452449, 2.192459051452449, 9.192459051452449, 10.192459051452449, 6.192459051452449, 6.192459051452449, 7.192459051452449, 8.192459051452449, 8.192459051452449, 8.192459051452449, 4.192459051452449, 11.192459051452449, 10.192459051452449, 11.192459051452449, 2.192459051452449, 10.192459051452449, 11.192459051452449, 3.192459051452449, 4.192459051452449, 5.192459051452449, 11.192459051452449, 2.192459051452449, 11.192459051452449, 11.192459051452449, 10.192459051452449, 11.192459051452449, 11.192459051452449, 4.192459051452449, 5.192459051452449, 10.192459051452449, 11.192459051452449, 10.192459051452449, 7.192459051452449, 5.192459051452449, 9.192459051452449, 10.192459051452449, 7.192459051452449, 10.192459051452449, 6.192459051452449, 3.192459051452449, 7.192459051452449, 6.192459051452449, 9.192459051452449, 11.192459051452449, 7.192459051452449, 8.192459051452449, 11.192459051452449, 11.192459051452449, 2.192459051452449, 5.192459051452449, 6.192459051452449, 2.192459051452449, 7.192459051452449, 11.192459051452449, 9.192459051452449, 3.192459051452449, 10.192459051452449, 9.192459051452449, 11.192459051452449, 9.192459051452449, 9.192459051452449, 10.192459051452449, 3.192459051452449, 9.192459051452449, 11.192459051452449, 2.192459051452449, 11.192459051452449, 11.192459051452449, 8.192459051452449, 6.192459051452449, 3.192459051452449, 11.192459051452449, 7.192459051452449, 8.192459051452449, 5.192459051452449, 7.192459051452449, 11.192459051452449, 10.192459051452449, 3.192459051452449, 6.192459051452449, 6.192459051452449, 8.192459051452449, 10.192459051452449, 5.192459051452449, 9.192459051452449, 6.192459051452449, 9.192459051452449, 5.192459051452449, 11.192459051452449, 10.192459051452449, 8.192459051452449, 6.192459051452449, 6.192459051452449, 10.192459051452449, 5.192459051452449, 11.192459051452449, 4.192459051452449, 7.192459051452449, 3.192459051452449, 8.192459051452449, 6.192459051452449, 9.192459051452449, 10.192459051452449, 11.192459051452449, 5.192459051452449, 7.192459051452449, 6.192459051452449, 3.192459051452449, 11.192459051452449, 8.192459051452449, 4.192459051452449, 8.192459051452449, 11.192459051452449, 4.192459051452449, 10.192459051452449, 6.192459051452449, 9.192459051452449, 11.192459051452449, 11.192459051452449, 9.192459051452449, 9.192459051452449, 5.192459051452449, 11.192459051452449, 7.192459051452449, 8.192459051452449, 6.192459051452449, 6.192459051452449, 10.192459051452449, 10.192459051452449, 3.192459051452449, 9.192459051452449, 6.192459051452449, 9.192459051452449, 9.192459051452449, 2.192459051452449, 11.192459051452449, 5.192459051452449, 11.192459051452449, 7.192459051452449, 4.192459051452449, 6.192459051452449, 11.192459051452449, 5.192459051452449, 7.192459051452449, 11.192459051452449, 11.192459051452449, 7.192459051452449, 8.192459051452449, 6.192459051452449, 2.192459051452449, 11.192459051452449, 10.192459051452449, 9.192459051452449, 11.192459051452449, 10.192459051452449, 5.192459051452449, 9.192459051452449, 10.192459051452449, 10.192459051452449, 11.192459051452449, 10.192459051452449, 8.192459051452449, 9.192459051452449, 9.192459051452449, 9.192459051452449, 4.192459051452449, 7.192459051452449, 3.192459051452449, 9.192459051452449, 10.192459051452449, 11.192459051452449, 10.192459051452449, 11.192459051452449, 4.192459051452449, 7.192459051452449, 8.192459051452449, 8.192459051452449, 11.192459051452449, 11.192459051452449, 4.192459051452449, 8.192459051452449, 11.192459051452449, 7.192459051452449, 5.192459051452449, 7.192459051452449, 11.192459051452449, 2.192459051452449, 10.192459051452449, 4.192459051452449, 7.192459051452449, 4.192459051452449, 11.192459051452449, 11.192459051452449, 9.192459051452449, 8.192459051452449, 7.192459051452449, 10.192459051452449, 4.192459051452449, 7.192459051452449, 9.192459051452449, 2.192459051452449, 6.192459051452449, 8.192459051452449, 6.192459051452449, 7.192459051452449, 8.192459051452449, 3.192459051452449, 7.192459051452449, 7.192459051452449, 9.192459051452449, 11.192459051452449, 9.192459051452449, 8.192459051452449, 10.192459051452449, 10.192459051452449, 7.192459051452449, 4.192459051452449, 7.192459051452449, 8.192459051452449, 11.192459051452449, 8.192459051452449, 8.192459051452449, 7.192459051452449, 5.192459051452449, 11.192459051452449, 9.192459051452449, 9.192459051452449, 8.192459051452449, 5.192459051452449, 8.192459051452449, 6.192459051452449, 8.192459051452449, 9.192459051452449, 5.192459051452449, 7.192459051452449, 11.192459051452449, 10.192459051452449, 11.192459051452449, 6.192459051452449, 8.192459051452449, 3.192459051452449, 9.192459051452449, 2.192459051452449, 10.192459051452449, 6.192459051452449, 5.192459051452449, 9.192459051452449, 3.192459051452449, 4.192459051452449, 10.192459051452449, 7.192459051452449, 9.192459051452449, 4.192459051452449, 8.192459051452449, 7.192459051452449, 5.192459051452449, 10.192459051452449, 8.192459051452449, 8.192459051452449, 8.192459051452449, 4.192459051452449, 11.192459051452449, 5.192459051452449, 8.192459051452449, 3.192459051452449, 9.192459051452449, 10.192459051452449, 10.192459051452449, 9.192459051452449, 4.192459051452449, 3.192459051452449, 8.192459051452449, 6.192459051452449, 9.192459051452449, 10.192459051452449, 11.192459051452449, 11.192459051452449, 6.192459051452449, 7.192459051452449, 11.192459051452449, 9.192459051452449, 11.192459051452449, 8.192459051452449, 3.192459051452449, 3.192459051452449, 10.192459051452449, 10.192459051452449, 2.192459051452449, 5.192459051452449, 10.192459051452449, 8.192459051452449, 9.192459051452449, 9.192459051452449, 11.192459051452449, 11.192459051452449, 3.192459051452449, 5.192459051452449, 10.192459051452449, 8.192459051452449, 2.192459051452449, 7.192459051452449, 9.192459051452449, 11.192459051452449, 9.192459051452449, 9.192459051452449, 7.192459051452449, 9.192459051452449, 10.192459051452449, 10.192459051452449, 6.192459051452449, 7.192459051452449, 7.192459051452449, 6.192459051452449, 10.192459051452449, 8.192459051452449, 6.192459051452449, 7.192459051452449, 11.192459051452449, 9.192459051452449, 5.192459051452449, 10.192459051452449, 3.192459051452449, 5.192459051452449, 9.192459051452449, 6.192459051452449, 9.192459051452449, 7.192459051452449, 7.192459051452449, 11.192459051452449, 3.192459051452449, 7.192459051452449, 5.192459051452449, 3.192459051452449, 3.192459051452449, 10.192459051452449, 11.192459051452449, 4.192459051452449, 4.192459051452449, 9.192459051452449, 10.192459051452449, 8.192459051452449, 7.192459051452449, 8.192459051452449, 11.192459051452449, 2.192459051452449, 9.192459051452449, 2.192459051452449, 9.192459051452449, 7.192459051452449, 9.192459051452449, 10.192459051452449, 8.192459051452449, 7.192459051452449, 8.192459051452449, 2.192459051452449, 8.192459051452449, 2.192459051452449, 8.192459051452449, 7.192459051452449, 9.192459051452449, 11.192459051452449, 9.192459051452449, 10.192459051452449, 6.192459051452449, 7.192459051452449, 3.192459051452449, 11.192459051452449, 10.192459051452449, 7.192459051452449, 11.192459051452449, 2.192459051452449, 11.192459051452449, 3.192459051452449, 3.192459051452449, 2.192459051452449, 10.192459051452449, 6.192459051452449, 8.192459051452449, 9.192459051452449, 11.192459051452449, 3.192459051452449, 4.192459051452449, 11.192459051452449, 10.192459051452449, 6.192459051452449, 9.192459051452449, 10.192459051452449, 10.192459051452449, 10.192459051452449, 10.192459051452449, 6.192459051452449, 11.192459051452449, 10.192459051452449, 5.192459051452449, 2.192459051452449, 10.192459051452449, 8.192459051452449, 9.192459051452449, 7.192459051452449, 6.192459051452449, 7.192459051452449, 10.192459051452449, 4.192459051452449, 11.192459051452449, 9.192459051452449, 8.192459051452449, 5.192459051452449, 6.192459051452449, 7.192459051452449, 4.192459051452449, 11.192459051452449, 8.192459051452449, 6.192459051452449, 9.192459051452449, 7.192459051452449, 6.192459051452449, 4.192459051452449, 3.192459051452449, 3.192459051452449, 11.192459051452449, 9.192459051452449, 7.192459051452449, 11.192459051452449, 7.192459051452449, 3.192459051452449, 8.192459051452449, 10.192459051452449, 9.192459051452449, 7.192459051452449, 2.192459051452449, 11.192459051452449, 5.192459051452449, 5.192459051452449, 9.192459051452449, 6.192459051452449, 10.192459051452449, 4.192459051452449, 9.192459051452449, 8.192459051452449, 10.192459051452449, 4.192459051452449, 6.192459051452449, 8.192459051452449, 10.192459051452449, 8.192459051452449, 7.192459051452449, 8.192459051452449, 7.192459051452449, 11.192459051452449, 11.192459051452449, 8.192459051452449, 7.192459051452449, 9.192459051452449, 8.192459051452449, 10.192459051452449, 6.192459051452449, 8.192459051452449, 10.192459051452449, 4.192459051452449, 11.192459051452449, 3.192459051452449, 10.192459051452449, 8.192459051452449, 8.192459051452449, 5.192459051452449, 11.192459051452449, 5.192459051452449, 11.192459051452449, 2.192459051452449, 9.192459051452449, 10.192459051452449, 10.192459051452449, 10.192459051452449, 5.192459051452449, 11.192459051452449, 9.192459051452449, 6.192459051452449, 11.192459051452449, 9.192459051452449, 10.192459051452449, 4.192459051452449, 9.192459051452449, 8.192459051452449, 4.192459051452449, 11.192459051452449, 10.192459051452449, 8.192459051452449, 5.192459051452449, 10.192459051452449, 3.192459051452449, 9.192459051452449, 7.192459051452449, 8.192459051452449, 11.192459051452449, 6.192459051452449, 9.192459051452449, 11.192459051452449, 9.192459051452449, 10.192459051452449, 7.192459051452449, 9.192459051452449, 11.192459051452449, 8.192459051452449, 6.192459051452449, 9.192459051452449, 10.192459051452449, 11.192459051452449, 8.192459051452449, 5.192459051452449, 11.192459051452449, 10.192459051452449, 7.192459051452449, 9.192459051452449, 8.192459051452449, 7.192459051452449, 5.192459051452449, 11.192459051452449, 10.192459051452449, 4.192459051452449, 11.192459051452449, 9.192459051452449, 7.192459051452449, 8.192459051452449, 9.192459051452449, 11.192459051452449, 4.192459051452449, 9.192459051452449, 7.192459051452449, 6.192459051452449, 10.192459051452449, 10.192459051452449, 2.192459051452449, 10.192459051452449, 9.192459051452449, 5.192459051452449, 10.192459051452449, 10.192459051452449, 9.192459051452449, 10.192459051452449, 10.192459051452449, 2.192459051452449, 6.192459051452449, 5.192459051452449, 11.192459051452449, 9.192459051452449, 3.192459051452449, 10.192459051452449, 2.192459051452449, 10.192459051452449, 9.192459051452449, 11.192459051452449, 10.192459051452449, 3.192459051452449, 8.192459051452449, 10.192459051452449, 4.192459051452449, 6.192459051452449, 4.192459051452449, 9.192459051452449, 4.192459051452449, 9.192459051452449, 6.192459051452449, 3.192459051452449, 8.192459051452449, 11.192459051452449, 4.192459051452449, 9.192459051452449, 6.192459051452449, 8.192459051452449, 2.192459051452449, 2.192459051452449, 5.192459051452449, 10.192459051452449, 11.192459051452449, 6.192459051452449, 2.192459051452449, 9.192459051452449, 8.192459051452449, 7.192459051452449, 5.192459051452449, 11.192459051452449, 11.192459051452449, 9.192459051452449, 2.192459051452449, 3.192459051452449, 6.192459051452449, 9.192459051452449, 11.192459051452449, 10.192459051452449, 3.192459051452449, 10.192459051452449, 3.192459051452449, 11.192459051452449, 4.192459051452449, 11.192459051452449, 9.192459051452449, 11.192459051452449, 10.192459051452449, 11.192459051452449, 11.192459051452449, 7.192459051452449, 5.192459051452449, 9.192459051452449, 8.192459051452449, 10.192459051452449, 7.192459051452449, 7.192459051452449, 10.192459051452449, 10.192459051452449, 9.192459051452449, 3.192459051452449, 9.192459051452449, 2.192459051452449, 11.192459051452449, 6.192459051452449, 11.192459051452449, 6.192459051452449, 8.192459051452449, 9.192459051452449, 8.192459051452449, 8.192459051452449, 11.192459051452449, 2.192459051452449, 4.192459051452449, 9.192459051452449, 9.192459051452449, 9.192459051452449, 11.192459051452449, 5.192459051452449, 10.192459051452449, 5.192459051452449, 7.192459051452449, 8.192459051452449, 9.192459051452449, 3.192459051452449, 9.192459051452449, 11.192459051452449, 5.192459051452449, 6.192459051452449, 9.192459051452449, 11.192459051452449, 6.192459051452449, 8.192459051452449, 10.192459051452449, 2.192459051452449, 10.192459051452449, 10.192459051452449, 10.192459051452449, 7.192459051452449, 6.192459051452449, 3.192459051452449, 11.192459051452449, 10.192459051452449, 10.192459051452449, 6.192459051452449, 5.192459051452449, 10.192459051452449, 5.192459051452449, 8.192459051452449, 11.192459051452449, 7.192459051452449, 9.192459051452449, 10.192459051452449, 8.192459051452449, 9.192459051452449, 6.192459051452449, 9.192459051452449, 10.192459051452449, 10.192459051452449, 9.192459051452449, 2.192459051452449, 9.192459051452449, 10.192459051452449, 8.192459051452449, 7.192459051452449, 6.192459051452449, 6.192459051452449, 2.192459051452449, 10.192459051452449, 6.192459051452449, 6.192459051452449, 11.192459051452449, 11.192459051452449, 11.192459051452449, 5.192459051452449, 11.192459051452449, 8.192459051452449, 9.192459051452449, 7.192459051452449, 9.192459051452449, 5.192459051452449, 10.192459051452449, 5.192459051452449, 7.192459051452449, 11.192459051452449, 6.192459051452449, 6.192459051452449, 9.192459051452449, 10.192459051452449, 11.192459051452449, 2.192459051452449, 9.192459051452449, 11.192459051452449, 8.192459051452449, 9.192459051452449, 6.192459051452449, 10.192459051452449, 10.192459051452449, 10.192459051452449, 5.192459051452449, 10.192459051452449, 7.192459051452449, 5.192459051452449, 11.192459051452449, 10.192459051452449, 3.192459051452449, 10.192459051452449, 9.192459051452449, 11.192459051452449, 11.192459051452449, 11.192459051452449, 11.192459051452449, 11.192459051452449, 7.192459051452449, 11.192459051452449, 10.192459051452449, 11.192459051452449, 10.192459051452449, 11.192459051452449, 6.192459051452449, 8.192459051452449, 11.192459051452449, 5.192459051452449, 4.192459051452449, 7.192459051452449, 11.192459051452449, 11.192459051452449, 11.192459051452449, 8.192459051452449, 6.192459051452449, 4.192459051452449, 3.192459051452449, 9.192459051452449, 9.192459051452449, 10.192459051452449, 10.192459051452449, 4.192459051452449, 2.192459051452449, 11.192459051452449, 4.192459051452449, 8.192459051452449, 9.192459051452449, 8.192459051452449, 10.192459051452449, 6.192459051452449, 11.192459051452449, 10.192459051452449, 11.192459051452449, 11.192459051452449, 11.192459051452449, 7.192459051452449, 2.192459051452449, 11.192459051452449, 10.192459051452449, 10.192459051452449, 11.192459051452449, 3.192459051452449, 7.192459051452449, 5.192459051452449, 9.192459051452449, 10.192459051452449, 7.192459051452449, 9.192459051452449, 5.192459051452449, 8.192459051452449, 7.192459051452449, 2.192459051452449, 10.192459051452449, 7.192459051452449, 9.192459051452449, 7.192459051452449, 3.192459051452449, 11.192459051452449, 10.192459051452449, 8.192459051452449, 11.192459051452449, 11.192459051452449, 6.192459051452449, 10.192459051452449, 3.192459051452449, 8.192459051452449, 10.192459051452449, 9.192459051452449, 8.192459051452449, 10.192459051452449, 9.192459051452449, 10.192459051452449, 6.192459051452449, 4.192459051452449, 10.192459051452449, 3.192459051452449, 5.192459051452449, 2.192459051452449, 5.192459051452449, 4.192459051452449, 10.192459051452449, 8.192459051452449, 5.192459051452449, 5.192459051452449, 11.192459051452449, 11.192459051452449, 3.192459051452449, 8.192459051452449, 8.192459051452449, 5.192459051452449, 9.192459051452449, 10.192459051452449, 7.192459051452449, 10.192459051452449, 11.192459051452449, 8.192459051452449, 2.192459051452449, 7.192459051452449, 11.192459051452449, 2.192459051452449, 9.192459051452449, 9.192459051452449, 9.192459051452449, 6.192459051452449, 3.192459051452449, 6.192459051452449, 8.192459051452449, 8.192459051452449, 10.192459051452449, 2.192459051452449, 11.192459051452449, 11.192459051452449, 4.192459051452449, 11.192459051452449, 5.192459051452449, 8.192459051452449, 7.192459051452449, 7.192459051452449, 10.192459051452449, 9.192459051452449, 10.192459051452449, 10.192459051452449, 8.192459051452449, 8.192459051452449, 5.192459051452449, 11.192459051452449, 7.192459051452449, 8.192459051452449, 6.192459051452449, 7.192459051452449, 10.192459051452449, 5.192459051452449, 9.192459051452449, 4.192459051452449, 2.192459051452449, 6.192459051452449, 10.192459051452449, 4.192459051452449, 11.192459051452449, 9.192459051452449, 6.192459051452449, 11.192459051452449, 5.192459051452449, 8.192459051452449, 7.192459051452449, 6.192459051452449, 5.192459051452449, 4.192459051452449, 10.192459051452449, 5.192459051452449, 11.192459051452449, 9.192459051452449, 11.192459051452449, 7.192459051452449, 8.192459051452449, 7.192459051452449, 2.192459051452449, 3.192459051452449, 10.192459051452449, 9.192459051452449, 7.192459051452449, 9.192459051452449, 9.192459051452449, 9.192459051452449, 8.192459051452449, 6.192459051452449, 6.192459051452449, 5.192459051452449, 9.192459051452449, 9.192459051452449, 8.192459051452449, 7.192459051452449, 7.192459051452449, 9.192459051452449, 8.192459051452449, 8.192459051452449, 4.192459051452449, 9.192459051452449, 5.192459051452449, 11.192459051452449, 5.192459051452449, 9.192459051452449, 10.192459051452449, 7.192459051452449, 3.192459051452449, 2.192459051452449, 9.192459051452449, 11.192459051452449, 9.192459051452449, 8.192459051452449, 10.192459051452449, 4.192459051452449, 11.192459051452449, 5.192459051452449, 10.192459051452449, 4.192459051452449, 3.192459051452449, 9.192459051452449, 6.192459051452449, 10.192459051452449, 9.192459051452449, 2.192459051452449, 6.192459051452449, 9.192459051452449, 4.192459051452449, 6.192459051452449, 7.192459051452449, 6.192459051452449, 11.192459051452449, 8.192459051452449, 9.192459051452449, 11.192459051452449, 9.192459051452449, 3.192459051452449, 11.192459051452449, 9.192459051452449, 7.192459051452449, 6.192459051452449, 8.192459051452449, 7.192459051452449, 9.192459051452449, 11.192459051452449, 7.192459051452449, 11.192459051452449, 9.192459051452449, 6.192459051452449, 10.192459051452449, 9.192459051452449, 10.192459051452449, 9.192459051452449, 7.192459051452449, 7.192459051452449, 11.192459051452449, 10.192459051452449, 9.192459051452449, 3.192459051452449, 4.192459051452449, 7.192459051452449, 3.192459051452449, 7.192459051452449, 11.192459051452449, 10.192459051452449, 4.192459051452449, 6.192459051452449, 6.192459051452449, 7.192459051452449, 4.192459051452449, 8.192459051452449, 11.192459051452449, 2.192459051452449, 6.192459051452449, 9.192459051452449, 10.192459051452449, 11.192459051452449, 7.192459051452449, 8.192459051452449, 8.192459051452449, 3.192459051452449, 2.192459051452449, 2.192459051452449, 9.192459051452449, 5.192459051452449, 8.192459051452449, 7.192459051452449, 11.192459051452449, 11.192459051452449, 2.192459051452449, 8.192459051452449, 5.192459051452449, 2.192459051452449, 9.192459051452449, 11.192459051452449, 9.192459051452449, 10.192459051452449, 7.192459051452449, 4.192459051452449, 10.192459051452449, 2.192459051452449, 9.192459051452449, 11.192459051452449, 11.192459051452449, 10.192459051452449, 10.192459051452449, 8.192459051452449, 9.192459051452449, 10.192459051452449, 3.192459051452449, 4.192459051452449, 9.192459051452449, 11.192459051452449, 11.192459051452449, 4.192459051452449, 8.192459051452449, 8.192459051452449, 11.192459051452449, 10.192459051452449, 9.192459051452449, 5.192459051452449, 3.192459051452449, 11.192459051452449, 5.192459051452449, 8.192459051452449, 10.192459051452449, 4.192459051452449, 4.192459051452449, 11.192459051452449, 4.192459051452449, 4.192459051452449, 3.192459051452449, 10.192459051452449, 11.192459051452449, 10.192459051452449, 4.192459051452449, 11.192459051452449, 11.192459051452449, 2.192459051452449, 6.192459051452449, 11.192459051452449, 8.192459051452449, 11.192459051452449, 8.192459051452449, 5.192459051452449, 11.192459051452449, 10.192459051452449, 2.192459051452449, 7.192459051452449, 4.192459051452449, 7.192459051452449, 9.192459051452449, 11.192459051452449, 10.192459051452449, 3.192459051452449, 8.192459051452449, 10.192459051452449, 9.192459051452449, 10.192459051452449, 4.192459051452449, 9.192459051452449, 10.192459051452449, 5.192459051452449, 3.192459051452449, 4.192459051452449, 3.192459051452449, 8.192459051452449, 8.192459051452449, 9.192459051452449, 9.192459051452449, 10.192459051452449, 8.192459051452449, 10.192459051452449, 10.192459051452449, 3.192459051452449, 3.192459051452449, 7.192459051452449, 11.192459051452449, 7.192459051452449, 2.192459051452449, 5.192459051452449, 6.192459051452449, 4.192459051452449, 10.192459051452449, 5.192459051452449, 3.192459051452449, 11.192459051452449, 9.192459051452449, 7.192459051452449, 11.192459051452449, 4.192459051452449, 8.192459051452449, 9.192459051452449, 11.192459051452449, 11.192459051452449, 5.192459051452449, 6.192459051452449, 11.192459051452449, 9.192459051452449, 11.192459051452449, 3.192459051452449, 3.192459051452449, 6.192459051452449, 6.192459051452449, 8.192459051452449, 5.192459051452449, 9.192459051452449, 6.192459051452449, 4.192459051452449, 9.192459051452449, 11.192459051452449, 10.192459051452449, 11.192459051452449, 10.192459051452449, 5.192459051452449, 6.192459051452449, 3.192459051452449, 6.192459051452449, 3.192459051452449, 11.192459051452449, 5.192459051452449, 4.192459051452449, 11.192459051452449, 3.192459051452449, 7.192459051452449, 9.192459051452449, 10.192459051452449, 8.192459051452449, 5.192459051452449, 11.192459051452449, 10.192459051452449, 9.192459051452449, 10.192459051452449, 9.192459051452449, 9.192459051452449, 8.192459051452449, 10.192459051452449, 9.192459051452449, 11.192459051452449, 10.192459051452449, 9.192459051452449, 6.192459051452449, 6.192459051452449, 9.192459051452449, 3.192459051452449, 5.192459051452449, 6.192459051452449, 7.192459051452449, 2.192459051452449, 11.192459051452449, 11.192459051452449, 11.192459051452449, 6.192459051452449, 10.192459051452449, 8.192459051452449, 10.192459051452449, 7.192459051452449, 11.192459051452449, 7.192459051452449, 11.192459051452449, 10.192459051452449, 10.192459051452449, 3.192459051452449, 7.192459051452449, 9.192459051452449, 10.192459051452449, 11.192459051452449, 10.192459051452449, 11.192459051452449, 6.192459051452449, 4.192459051452449, 9.192459051452449, 11.192459051452449, 7.192459051452449, 6.192459051452449, 11.192459051452449, 3.192459051452449, 2.192459051452449, 7.192459051452449, 10.192459051452449, 8.192459051452449, 6.192459051452449, 10.192459051452449, 8.192459051452449, 6.192459051452449, 10.192459051452449, 8.192459051452449, 3.192459051452449, 7.192459051452449, 2.192459051452449, 2.192459051452449, 11.192459051452449, 10.192459051452449, 10.192459051452449, 10.192459051452449, 9.192459051452449, 4.192459051452449, 2.192459051452449, 3.192459051452449, 8.192459051452449, 10.192459051452449, 9.192459051452449, 2.192459051452449, 10.192459051452449, 3.192459051452449, 11.192459051452449, 8.192459051452449, 7.192459051452449, 4.192459051452449, 4.192459051452449, 11.192459051452449, 8.192459051452449, 8.192459051452449, 10.192459051452449, 11.192459051452449, 8.192459051452449, 2.192459051452449, 10.192459051452449, 10.192459051452449, 3.192459051452449, 8.192459051452449, 7.192459051452449, 9.192459051452449, 8.192459051452449, 4.192459051452449, 10.192459051452449, 4.192459051452449, 5.192459051452449, 10.192459051452449, 4.192459051452449, 7.192459051452449, 8.192459051452449, 10.192459051452449, 4.192459051452449, 2.192459051452449, 4.192459051452449, 11.192459051452449, 7.192459051452449, 6.192459051452449, 9.192459051452449, 6.192459051452449, 5.192459051452449, 4.192459051452449, 9.192459051452449, 5.192459051452449, 3.192459051452449, 7.192459051452449, 11.192459051452449, 6.192459051452449, 6.192459051452449, 6.192459051452449, 4.192459051452449, 9.192459051452449, 10.192459051452449, 9.192459051452449, 11.192459051452449, 7.192459051452449, 5.192459051452449, 11.192459051452449, 3.192459051452449, 4.192459051452449, 10.192459051452449, 7.192459051452449, 10.192459051452449, 10.192459051452449, 9.192459051452449, 6.192459051452449, 3.192459051452449, 11.192459051452449, 10.192459051452449, 8.192459051452449, 10.192459051452449, 8.192459051452449, 2.192459051452449, 9.192459051452449, 9.192459051452449, 10.192459051452449, 7.192459051452449, 11.192459051452449, 11.192459051452449, 11.192459051452449, 9.192459051452449, 6.192459051452449, 11.192459051452449, 9.192459051452449, 2.192459051452449, 4.192459051452449, 11.192459051452449, 10.192459051452449, 2.192459051452449, 6.192459051452449, 9.192459051452449, 9.192459051452449, 7.192459051452449, 4.192459051452449, 4.192459051452449, 5.192459051452449, 4.192459051452449, 11.192459051452449, 10.192459051452449, 11.192459051452449, 3.192459051452449, 10.192459051452449, 10.192459051452449, 9.192459051452449, 6.192459051452449, 8.192459051452449, 11.192459051452449, 8.192459051452449, 11.192459051452449, 9.192459051452449, 11.192459051452449, 11.192459051452449, 7.192459051452449, 5.192459051452449, 8.192459051452449, 4.192459051452449, 9.192459051452449, 3.192459051452449, 7.192459051452449, 11.192459051452449, 10.192459051452449, 6.192459051452449, 5.192459051452449, 2.192459051452449, 4.192459051452449, 2.192459051452449, 8.192459051452449, 11.192459051452449, 9.192459051452449, 10.192459051452449, 4.192459051452449, 9.192459051452449, 9.192459051452449, 6.192459051452449, 10.192459051452449, 9.192459051452449, 9.192459051452449, 9.192459051452449, 10.192459051452449, 6.192459051452449, 8.192459051452449, 5.192459051452449, 6.192459051452449, 8.192459051452449, 6.192459051452449, 11.192459051452449, 10.192459051452449, 10.192459051452449, 8.192459051452449, 10.192459051452449, 2.192459051452449, 7.192459051452449, 11.192459051452449, 9.192459051452449, 11.192459051452449, 10.192459051452449, 10.192459051452449, 4.192459051452449, 8.192459051452449, 9.192459051452449, 11.192459051452449, 2.192459051452449, 2.192459051452449, 3.192459051452449, 6.192459051452449, 8.192459051452449, 3.192459051452449, 10.192459051452449, 7.192459051452449, 2.192459051452449, 7.192459051452449, 11.192459051452449, 6.192459051452449, 10.192459051452449, 3.192459051452449, 6.192459051452449, 7.192459051452449, 9.192459051452449, 8.192459051452449, 11.192459051452449, 8.192459051452449, 11.192459051452449, 9.192459051452449, 7.192459051452449, 10.192459051452449, 7.192459051452449, 6.192459051452449, 2.192459051452449, 10.192459051452449, 10.192459051452449, 5.192459051452449, 9.192459051452449, 10.192459051452449, 11.192459051452449, 10.192459051452449, 9.192459051452449, 10.192459051452449, 9.192459051452449, 8.192459051452449, 11.192459051452449, 9.192459051452449, 5.192459051452449, 10.192459051452449, 2.192459051452449, 3.192459051452449, 5.192459051452449, 3.192459051452449, 7.192459051452449, 8.192459051452449, 11.192459051452449, 10.192459051452449, 9.192459051452449, 9.192459051452449, 2.192459051452449, 8.192459051452449, 2.192459051452449, 8.192459051452449, 2.192459051452449, 10.192459051452449, 7.192459051452449, 11.192459051452449, 5.192459051452449, 5.192459051452449, 11.192459051452449, 7.192459051452449, 11.192459051452449, 6.192459051452449, 9.192459051452449, 11.192459051452449, 4.192459051452449, 11.192459051452449, 10.192459051452449, 7.192459051452449, 10.192459051452449, 7.192459051452449, 8.192459051452449, 11.192459051452449, 5.192459051452449, 7.192459051452449, 11.192459051452449, 9.192459051452449, 5.192459051452449, 6.192459051452449, 4.192459051452449, 2.192459051452449, 11.192459051452449, 10.192459051452449, 9.192459051452449, 10.192459051452449, 11.192459051452449, 9.192459051452449, 3.192459051452449, 11.192459051452449, 5.192459051452449, 11.192459051452449, 10.192459051452449, 4.192459051452449, 8.192459051452449, 8.192459051452449, 11.192459051452449, 9.192459051452449, 2.192459051452449, 3.192459051452449, 10.192459051452449, 9.192459051452449, 11.192459051452449, 11.192459051452449, 6.192459051452449, 5.192459051452449, 8.192459051452449, 4.192459051452449, 9.192459051452449, 5.192459051452449, 4.192459051452449, 11.192459051452449, 3.192459051452449, 6.192459051452449, 10.192459051452449, 2.192459051452449, 11.192459051452449, 10.192459051452449, 5.192459051452449, 10.192459051452449, 6.192459051452449, 6.192459051452449, 10.192459051452449, 8.192459051452449, 8.192459051452449, 10.192459051452449, 6.192459051452449, 6.192459051452449, 11.192459051452449, 8.192459051452449, 11.192459051452449, 6.192459051452449, 4.192459051452449, 5.192459051452449, 3.192459051452449, 7.192459051452449, 6.192459051452449, 3.192459051452449, 11.192459051452449, 11.192459051452449, 11.192459051452449, 9.192459051452449, 2.192459051452449, 4.192459051452449, 4.192459051452449, 7.192459051452449, 5.192459051452449, 11.192459051452449, 10.192459051452449, 6.192459051452449, 8.192459051452449, 6.192459051452449, 3.192459051452449, 11.192459051452449, 9.192459051452449, 8.192459051452449, 11.192459051452449, 10.192459051452449, 10.192459051452449, 6.192459051452449, 10.192459051452449, 10.192459051452449, 2.192459051452449, 8.192459051452449, 11.192459051452449, 7.192459051452449, 3.192459051452449, 8.192459051452449, 10.192459051452449, 8.192459051452449, 4.192459051452449, 10.192459051452449, 6.192459051452449, 11.192459051452449, 11.192459051452449, 7.192459051452449, 4.192459051452449, 6.192459051452449, 10.192459051452449, 9.192459051452449, 7.192459051452449, 5.192459051452449, 4.192459051452449, 8.192459051452449, 10.192459051452449, 11.192459051452449, 10.192459051452449, 7.192459051452449, 9.192459051452449, 11.192459051452449, 11.192459051452449, 6.192459051452449, 10.192459051452449, 8.192459051452449, 9.192459051452449, 8.192459051452449, 11.192459051452449, 5.192459051452449, 8.192459051452449, 11.192459051452449, 9.192459051452449, 10.192459051452449, 9.192459051452449, 3.192459051452449, 9.192459051452449, 11.192459051452449, 6.192459051452449, 4.192459051452449, 11.192459051452449, 10.192459051452449, 11.192459051452449, 8.192459051452449, 8.192459051452449, 10.192459051452449, 8.192459051452449, 11.192459051452449, 9.192459051452449, 10.192459051452449, 10.192459051452449, 11.192459051452449, 8.192459051452449, 10.192459051452449, 7.192459051452449, 11.192459051452449, 5.192459051452449, 11.192459051452449, 10.192459051452449, 3.192459051452449, 8.192459051452449, 11.192459051452449, 11.192459051452449, 8.192459051452449, 4.192459051452449, 11.192459051452449, 11.192459051452449, 10.192459051452449, 10.192459051452449, 6.192459051452449, 5.192459051452449, 8.192459051452449, 11.192459051452449, 7.192459051452449, 9.192459051452449, 10.192459051452449, 10.192459051452449, 9.192459051452449, 3.192459051452449, 10.192459051452449, 11.192459051452449, 8.192459051452449, 9.192459051452449, 3.192459051452449, 11.192459051452449, 5.192459051452449, 11.192459051452449, 9.192459051452449, 11.192459051452449, 9.192459051452449, 7.192459051452449, 3.192459051452449, 7.192459051452449, 4.192459051452449, 11.192459051452449, 5.192459051452449, 11.192459051452449, 11.192459051452449, 7.192459051452449, 8.192459051452449, 10.192459051452449, 10.192459051452449, 8.192459051452449, 5.192459051452449, 4.192459051452449, 6.192459051452449, 2.192459051452449, 2.192459051452449, 9.192459051452449, 5.192459051452449, 3.192459051452449, 5.192459051452449, 5.192459051452449, 4.192459051452449, 7.192459051452449, 4.192459051452449, 10.192459051452449, 9.192459051452449, 3.192459051452449, 6.192459051452449, 9.192459051452449, 10.192459051452449, 10.192459051452449, 9.192459051452449, 11.192459051452449, 2.192459051452449, 9.192459051452449, 11.192459051452449, 11.192459051452449, 11.192459051452449, 11.192459051452449, 3.192459051452449, 11.192459051452449, 6.192459051452449, 7.192459051452449, 8.192459051452449, 5.192459051452449, 11.192459051452449, 5.192459051452449, 10.192459051452449, 11.192459051452449, 11.192459051452449, 5.192459051452449, 4.192459051452449, 3.192459051452449, 5.192459051452449, 6.192459051452449, 5.192459051452449, 10.192459051452449, 5.192459051452449, 11.192459051452449, 7.192459051452449, 9.192459051452449, 7.192459051452449, 6.192459051452449, 11.192459051452449, 10.192459051452449, 11.192459051452449, 4.192459051452449, 8.192459051452449, 8.192459051452449, 11.192459051452449, 7.192459051452449, 10.192459051452449, 9.192459051452449, 10.192459051452449, 4.192459051452449, 9.192459051452449, 9.192459051452449, 8.192459051452449, 11.192459051452449, 3.192459051452449, 11.192459051452449, 3.192459051452449, 9.192459051452449, 10.192459051452449, 10.192459051452449, 11.192459051452449, 11.192459051452449, 4.192459051452449, 8.192459051452449, 11.192459051452449, 5.192459051452449, 7.192459051452449, 9.192459051452449, 6.192459051452449, 10.192459051452449, 5.192459051452449, 10.192459051452449, 5.192459051452449, 4.192459051452449, 10.192459051452449, 5.192459051452449, 5.192459051452449, 9.192459051452449, 11.192459051452449, 8.192459051452449, 5.192459051452449, 3.192459051452449, 4.192459051452449, 11.192459051452449, 10.192459051452449, 11.192459051452449, 10.192459051452449, 10.192459051452449, 9.192459051452449, 10.192459051452449, 11.192459051452449, 10.192459051452449, 11.192459051452449, 8.192459051452449, 6.192459051452449, 10.192459051452449, 3.192459051452449, 9.192459051452449, 11.192459051452449, 3.192459051452449, 11.192459051452449, 9.192459051452449, 7.192459051452449, 7.192459051452449, 10.192459051452449, 5.192459051452449, 10.192459051452449, 9.192459051452449, 7.192459051452449, 10.192459051452449, 5.192459051452449, 9.192459051452449, 7.192459051452449, 8.192459051452449, 10.192459051452449, 4.192459051452449, 9.192459051452449, 11.192459051452449, 10.192459051452449, 10.192459051452449, 8.192459051452449, 2.192459051452449, 7.192459051452449, 9.192459051452449, 7.192459051452449, 8.192459051452449, 11.192459051452449, 11.192459051452449, 11.192459051452449, 11.192459051452449, 4.192459051452449, 8.192459051452449, 8.192459051452449, 10.192459051452449, 9.192459051452449, 11.192459051452449, 5.192459051452449, 5.192459051452449, 10.192459051452449, 11.192459051452449, 11.192459051452449, 6.192459051452449, 9.192459051452449, 11.192459051452449, 11.192459051452449, 5.192459051452449, 3.192459051452449, 5.192459051452449, 11.192459051452449, 7.192459051452449, 11.192459051452449, 9.192459051452449, 6.192459051452449, 9.192459051452449, 10.192459051452449, 8.192459051452449, 2.192459051452449, 10.192459051452449, 11.192459051452449, 11.192459051452449, 7.192459051452449, 10.192459051452449, 11.192459051452449, 8.192459051452449, 10.192459051452449, 9.192459051452449, 3.192459051452449, 11.192459051452449, 5.192459051452449, 10.192459051452449, 7.192459051452449, 11.192459051452449, 8.192459051452449, 11.192459051452449, 5.192459051452449, 8.192459051452449, 5.192459051452449, 3.192459051452449, 5.192459051452449, 3.192459051452449, 7.192459051452449, 10.192459051452449, 7.192459051452449, 9.192459051452449, 10.192459051452449, 11.192459051452449, 7.192459051452449, 9.192459051452449, 6.192459051452449, 9.192459051452449, 6.192459051452449, 9.192459051452449, 6.192459051452449, 11.192459051452449, 9.192459051452449, 4.192459051452449, 3.192459051452449, 10.192459051452449, 6.192459051452449, 4.192459051452449, 10.192459051452449, 11.192459051452449, 2.192459051452449, 11.192459051452449, 9.192459051452449, 5.192459051452449, 8.192459051452449, 10.192459051452449, 10.192459051452449, 7.192459051452449, 4.192459051452449, 11.192459051452449, 6.192459051452449, 11.192459051452449, 3.192459051452449, 8.192459051452449, 5.192459051452449, 7.192459051452449, 9.192459051452449, 8.192459051452449, 2.192459051452449, 10.192459051452449, 11.192459051452449, 2.192459051452449, 9.192459051452449, 6.192459051452449, 8.192459051452449, 9.192459051452449, 7.192459051452449, 4.192459051452449, 2.192459051452449, 10.192459051452449, 10.192459051452449, 10.192459051452449, 5.192459051452449, 8.192459051452449, 8.192459051452449, 2.192459051452449, 7.192459051452449, 2.192459051452449, 11.192459051452449, 2.192459051452449, 10.192459051452449, 5.192459051452449, 3.192459051452449, 11.192459051452449, 10.192459051452449, 9.192459051452449, 2.192459051452449, 10.192459051452449, 6.192459051452449, 8.192459051452449, 9.192459051452449, 7.192459051452449, 11.192459051452449, 11.192459051452449, 10.192459051452449, 9.192459051452449, 11.192459051452449, 8.192459051452449, 10.192459051452449, 8.192459051452449, 11.192459051452449, 11.192459051452449, 5.192459051452449, 2.192459051452449, 9.192459051452449, 10.192459051452449, 3.192459051452449, 5.192459051452449, 6.192459051452449, 3.192459051452449, 11.192459051452449, 6.192459051452449, 4.192459051452449, 11.192459051452449, 11.192459051452449, 10.192459051452449, 7.192459051452449, 4.192459051452449, 11.192459051452449, 5.192459051452449, 2.192459051452449, 11.192459051452449, 10.192459051452449, 5.192459051452449, 10.192459051452449, 5.192459051452449, 6.192459051452449, 10.192459051452449, 3.192459051452449, 8.192459051452449, 7.192459051452449, 7.192459051452449, 6.192459051452449, 5.192459051452449, 2.192459051452449, 3.192459051452449, 10.192459051452449, 2.192459051452449, 10.192459051452449, 3.192459051452449, 11.192459051452449, 8.192459051452449, 10.192459051452449, 5.192459051452449, 11.192459051452449, 11.192459051452449, 11.192459051452449, 8.192459051452449, 10.192459051452449, 3.192459051452449, 11.192459051452449, 7.192459051452449, 9.192459051452449, 6.192459051452449, 10.192459051452449, 10.192459051452449, 10.192459051452449, 11.192459051452449, 11.192459051452449, 4.192459051452449, 11.192459051452449, 10.192459051452449, 3.192459051452449, 8.192459051452449, 10.192459051452449, 5.192459051452449, 5.192459051452449, 10.192459051452449, 6.192459051452449, 10.192459051452449, 3.192459051452449, 11.192459051452449, 9.192459051452449, 4.192459051452449, 3.192459051452449, 11.192459051452449, 3.192459051452449, 11.192459051452449, 10.192459051452449, 11.192459051452449, 4.192459051452449, 10.192459051452449, 9.192459051452449, 3.192459051452449, 5.192459051452449, 2.192459051452449, 5.192459051452449, 3.192459051452449, 8.192459051452449, 11.192459051452449, 9.192459051452449, 8.192459051452449, 10.192459051452449, 9.192459051452449, 5.192459051452449, 6.192459051452449, 6.192459051452449, 11.192459051452449, 2.192459051452449, 8.192459051452449, 6.192459051452449, 10.192459051452449, 10.192459051452449, 11.192459051452449, 10.192459051452449, 6.192459051452449, 8.192459051452449, 11.192459051452449, 3.192459051452449, 5.192459051452449, 10.192459051452449, 9.192459051452449, 5.192459051452449, 5.192459051452449, 11.192459051452449, 7.192459051452449, 4.192459051452449, 8.192459051452449, 7.192459051452449, 2.192459051452449, 4.192459051452449, 2.192459051452449, 11.192459051452449, 5.192459051452449, 9.192459051452449, 8.192459051452449, 11.192459051452449, 8.192459051452449, 7.192459051452449, 5.192459051452449, 11.192459051452449, 11.192459051452449, 9.192459051452449, 3.192459051452449, 11.192459051452449, 6.192459051452449, 8.192459051452449, 2.192459051452449, 11.192459051452449, 4.192459051452449, 11.192459051452449, 5.192459051452449, 9.192459051452449, 10.192459051452449, 6.192459051452449, 10.192459051452449, 10.192459051452449, 9.192459051452449, 3.192459051452449, 8.192459051452449, 9.192459051452449, 11.192459051452449, 4.192459051452449, 7.192459051452449, 9.192459051452449, 9.192459051452449, 3.192459051452449, 8.192459051452449, 4.192459051452449, 5.192459051452449, 5.192459051452449, 9.192459051452449, 10.192459051452449, 6.192459051452449, 11.192459051452449, 10.192459051452449, 10.192459051452449, 11.192459051452449, 8.192459051452449, 11.192459051452449, 6.192459051452449, 10.192459051452449, 4.192459051452449, 10.192459051452449, 9.192459051452449, 8.192459051452449, 11.192459051452449, 8.192459051452449, 8.192459051452449, 8.192459051452449, 9.192459051452449, 9.192459051452449, 5.192459051452449, 11.192459051452449, 11.192459051452449, 10.192459051452449, 2.192459051452449, 11.192459051452449, 9.192459051452449, 10.192459051452449, 5.192459051452449, 7.192459051452449, 7.192459051452449, 9.192459051452449, 8.192459051452449, 7.192459051452449, 9.192459051452449, 5.192459051452449, 8.192459051452449, 6.192459051452449, 8.192459051452449, 2.192459051452449, 8.192459051452449, 8.192459051452449, 7.192459051452449, 8.192459051452449, 4.192459051452449, 3.192459051452449, 3.192459051452449, 10.192459051452449, 9.192459051452449, 10.192459051452449, 7.192459051452449, 7.192459051452449, 4.192459051452449, 10.192459051452449, 5.192459051452449, 2.192459051452449, 7.192459051452449, 10.192459051452449, 2.192459051452449, 10.192459051452449, 4.192459051452449, 8.192459051452449, 7.192459051452449, 10.192459051452449, 7.192459051452449, 11.192459051452449, 6.192459051452449, 9.192459051452449, 6.192459051452449, 6.192459051452449, 4.192459051452449, 8.192459051452449, 8.192459051452449, 11.192459051452449, 10.192459051452449, 10.192459051452449, 11.192459051452449, 10.192459051452449, 10.192459051452449, 3.192459051452449, 10.192459051452449, 8.192459051452449, 7.192459051452449, 8.192459051452449, 9.192459051452449, 7.192459051452449, 6.192459051452449, 11.192459051452449, 10.192459051452449, 2.192459051452449, 8.192459051452449, 8.192459051452449, 6.192459051452449, 11.192459051452449, 10.192459051452449, 8.192459051452449, 11.192459051452449, 8.192459051452449, 3.192459051452449, 5.192459051452449, 10.192459051452449, 9.192459051452449, 9.192459051452449, 4.192459051452449, 5.192459051452449, 6.192459051452449, 10.192459051452449, 10.192459051452449, 9.192459051452449, 8.192459051452449, 2.192459051452449, 4.192459051452449, 4.192459051452449, 9.192459051452449, 4.192459051452449, 11.192459051452449, 10.192459051452449, 9.192459051452449, 8.192459051452449, 8.192459051452449, 6.192459051452449, 10.192459051452449, 6.192459051452449, 9.192459051452449, 5.192459051452449, 10.192459051452449, 10.192459051452449, 10.192459051452449, 9.192459051452449, 11.192459051452449, 10.192459051452449, 8.192459051452449, 9.192459051452449, 10.192459051452449, 9.192459051452449, 9.192459051452449, 3.192459051452449, 8.192459051452449, 11.192459051452449, 10.192459051452449, 10.192459051452449, 8.192459051452449, 6.192459051452449, 6.192459051452449, 10.192459051452449, 3.192459051452449, 9.192459051452449, 10.192459051452449, 6.192459051452449, 4.192459051452449, 2.192459051452449, 10.192459051452449, 5.192459051452449, 10.192459051452449, 3.192459051452449, 8.192459051452449, 8.192459051452449, 3.192459051452449, 6.192459051452449, 7.192459051452449, 7.192459051452449, 9.192459051452449, 10.192459051452449, 7.192459051452449, 11.192459051452449, 10.192459051452449, 11.192459051452449, 2.192459051452449, 7.192459051452449, 7.192459051452449, 6.192459051452449, 3.192459051452449, 11.192459051452449, 10.192459051452449, 11.192459051452449, 11.192459051452449, 11.192459051452449, 9.192459051452449, 10.192459051452449, 11.192459051452449, 7.192459051452449, 9.192459051452449, 10.192459051452449, 4.192459051452449, 11.192459051452449, 7.192459051452449, 8.192459051452449, 10.192459051452449, 3.192459051452449, 4.192459051452449, 3.192459051452449, 7.192459051452449, 8.192459051452449, 2.192459051452449, 9.192459051452449, 10.192459051452449, 7.192459051452449, 8.192459051452449, 5.192459051452449, 9.192459051452449, 11.192459051452449, 9.192459051452449, 11.192459051452449, 8.192459051452449, 3.192459051452449, 2.192459051452449, 5.192459051452449, 11.192459051452449, 10.192459051452449, 2.192459051452449, 8.192459051452449, 2.192459051452449, 4.192459051452449, 8.192459051452449, 2.192459051452449, 9.192459051452449, 10.192459051452449, 2.192459051452449, 2.192459051452449, 3.192459051452449, 8.192459051452449, 11.192459051452449, 8.192459051452449, 6.192459051452449, 11.192459051452449, 5.192459051452449, 10.192459051452449, 5.192459051452449, 8.192459051452449, 6.192459051452449, 2.192459051452449, 10.192459051452449, 5.192459051452449, 5.192459051452449, 6.192459051452449, 7.192459051452449, 10.192459051452449, 5.192459051452449, 11.192459051452449, 6.192459051452449, 3.192459051452449, 11.192459051452449, 5.192459051452449, 2.192459051452449, 11.192459051452449, 9.192459051452449, 7.192459051452449, 7.192459051452449, 3.192459051452449, 6.192459051452449, 6.192459051452449, 7.192459051452449, 11.192459051452449, 5.192459051452449, 2.192459051452449, 10.192459051452449, 10.192459051452449, 10.192459051452449, 7.192459051452449, 8.192459051452449, 2.192459051452449, 4.192459051452449, 4.192459051452449, 11.192459051452449, 5.192459051452449, 3.192459051452449, 10.192459051452449, 6.192459051452449, 6.192459051452449, 3.192459051452449, 5.192459051452449, 10.192459051452449, 4.192459051452449, 4.192459051452449, 8.192459051452449, 10.192459051452449, 11.192459051452449, 7.192459051452449, 10.192459051452449, 3.192459051452449, 5.192459051452449, 10.192459051452449, 7.192459051452449, 3.192459051452449, 6.192459051452449, 11.192459051452449, 11.192459051452449, 10.192459051452449, 11.192459051452449, 2.192459051452449, 10.192459051452449, 11.192459051452449, 3.192459051452449, 2.192459051452449, 10.192459051452449, 4.192459051452449, 3.192459051452449, 3.192459051452449, 11.192459051452449, 6.192459051452449, 9.192459051452449, 11.192459051452449, 7.192459051452449, 10.192459051452449, 8.192459051452449, 11.192459051452449, 7.192459051452449, 6.192459051452449, 6.192459051452449, 10.192459051452449, 9.192459051452449, 11.192459051452449, 2.192459051452449, 6.192459051452449, 6.192459051452449, 11.192459051452449, 5.192459051452449, 6.192459051452449, 11.192459051452449, 8.192459051452449, 10.192459051452449, 7.192459051452449, 9.192459051452449, 10.192459051452449, 11.192459051452449, 10.192459051452449, 3.192459051452449, 8.192459051452449, 2.192459051452449, 8.192459051452449, 9.192459051452449, 10.192459051452449, 11.192459051452449, 6.192459051452449, 8.192459051452449, 11.192459051452449, 10.192459051452449, 3.192459051452449, 5.192459051452449, 10.192459051452449, 11.192459051452449, 3.192459051452449, 11.192459051452449, 6.192459051452449, 8.192459051452449, 6.192459051452449, 6.192459051452449, 7.192459051452449, 8.192459051452449, 3.192459051452449, 5.192459051452449, 4.192459051452449, 11.192459051452449, 2.192459051452449, 8.192459051452449, 10.192459051452449, 4.192459051452449, 11.192459051452449, 8.192459051452449, 2.192459051452449, 11.192459051452449, 4.192459051452449, 9.192459051452449, 10.192459051452449, 3.192459051452449, 5.192459051452449, 6.192459051452449, 8.192459051452449, 6.192459051452449, 9.192459051452449, 5.192459051452449, 8.192459051452449, 6.192459051452449, 10.192459051452449, 7.192459051452449, 2.192459051452449, 11.192459051452449, 5.192459051452449, 11.192459051452449, 7.192459051452449, 3.192459051452449, 10.192459051452449, 7.192459051452449, 4.192459051452449, 8.192459051452449, 11.192459051452449, 6.192459051452449, 11.192459051452449, 8.192459051452449, 7.192459051452449, 9.192459051452449, 11.192459051452449, 9.192459051452449, 10.192459051452449, 5.192459051452449, 5.192459051452449, 10.192459051452449, 2.192459051452449, 8.192459051452449, 7.192459051452449, 4.192459051452449, 6.192459051452449, 8.192459051452449, 7.192459051452449, 11.192459051452449, 2.192459051452449, 2.192459051452449, 4.192459051452449, 10.192459051452449, 6.192459051452449, 4.192459051452449, 10.192459051452449, 10.192459051452449, 10.192459051452449, 11.192459051452449, 9.192459051452449, 11.192459051452449, 8.192459051452449, 3.192459051452449, 6.192459051452449, 5.192459051452449, 8.192459051452449, 10.192459051452449, 10.192459051452449, 8.192459051452449, 11.192459051452449, 3.192459051452449, 9.192459051452449, 9.192459051452449, 8.192459051452449, 5.192459051452449, 7.192459051452449, 10.192459051452449, 11.192459051452449, 10.192459051452449, 11.192459051452449, 11.192459051452449, 10.192459051452449, 10.192459051452449, 11.192459051452449, 7.192459051452449, 2.192459051452449, 11.192459051452449, 8.192459051452449, 8.192459051452449, 6.192459051452449, 9.192459051452449, 8.192459051452449, 11.192459051452449, 5.192459051452449, 9.192459051452449, 10.192459051452449, 5.192459051452449, 6.192459051452449, 2.192459051452449, 3.192459051452449, 10.192459051452449, 11.192459051452449, 9.192459051452449, 3.192459051452449, 6.192459051452449, 6.192459051452449, 9.192459051452449, 9.192459051452449, 8.192459051452449, 11.192459051452449, 4.192459051452449, 9.192459051452449, 4.192459051452449, 7.192459051452449, 10.192459051452449, 8.192459051452449, 8.192459051452449, 8.192459051452449, 11.192459051452449, 8.192459051452449, 4.192459051452449, 7.192459051452449, 8.192459051452449, 8.192459051452449, 9.192459051452449, 4.192459051452449, 4.192459051452449, 11.192459051452449, 9.192459051452449, 4.192459051452449, 10.192459051452449, 9.192459051452449, 3.192459051452449, 11.192459051452449, 9.192459051452449, 7.192459051452449, 6.192459051452449, 6.192459051452449, 7.192459051452449, 4.192459051452449, 10.192459051452449, 7.192459051452449, 6.192459051452449, 11.192459051452449, 11.192459051452449, 2.192459051452449, 5.192459051452449, 10.192459051452449, 9.192459051452449, 9.192459051452449, 10.192459051452449, 10.192459051452449, 9.192459051452449, 5.192459051452449, 9.192459051452449, 11.192459051452449, 7.192459051452449, 2.192459051452449, 11.192459051452449, 8.192459051452449, 11.192459051452449, 11.192459051452449, 9.192459051452449, 11.192459051452449, 8.192459051452449, 10.192459051452449, 3.192459051452449, 11.192459051452449, 9.192459051452449, 7.192459051452449, 2.192459051452449, 11.192459051452449, 6.192459051452449, 7.192459051452449, 10.192459051452449, 4.192459051452449, 3.192459051452449, 10.192459051452449, 9.192459051452449, 10.192459051452449, 2.192459051452449, 9.192459051452449, 4.192459051452449, 10.192459051452449, 9.192459051452449, 3.192459051452449, 11.192459051452449, 3.192459051452449, 6.192459051452449, 9.192459051452449, 6.192459051452449, 5.192459051452449, 9.192459051452449, 10.192459051452449, 11.192459051452449, 5.192459051452449, 8.192459051452449, 10.192459051452449, 11.192459051452449, 2.192459051452449, 10.192459051452449, 9.192459051452449, 7.192459051452449, 8.192459051452449, 11.192459051452449, 11.192459051452449, 10.192459051452449, 6.192459051452449, 6.192459051452449, 4.192459051452449, 7.192459051452449, 8.192459051452449, 10.192459051452449, 2.192459051452449, 4.192459051452449, 7.192459051452449, 8.192459051452449, 11.192459051452449, 10.192459051452449, 5.192459051452449, 4.192459051452449, 10.192459051452449, 9.192459051452449, 10.192459051452449, 8.192459051452449, 6.192459051452449, 3.192459051452449, 9.192459051452449, 8.192459051452449, 10.192459051452449, 4.192459051452449, 8.192459051452449, 2.192459051452449, 9.192459051452449, 11.192459051452449, 10.192459051452449, 11.192459051452449, 11.192459051452449, 3.192459051452449, 9.192459051452449, 9.192459051452449, 9.192459051452449, 9.192459051452449, 10.192459051452449, 8.192459051452449, 6.192459051452449, 9.192459051452449, 9.192459051452449, 11.192459051452449, 8.192459051452449, 4.192459051452449, 10.192459051452449, 8.192459051452449, 8.192459051452449, 6.192459051452449, 11.192459051452449, 3.192459051452449, 9.192459051452449, 10.192459051452449, 8.192459051452449, 6.192459051452449, 11.192459051452449, 7.192459051452449, 10.192459051452449, 5.192459051452449, 11.192459051452449, 10.192459051452449, 11.192459051452449, 10.192459051452449, 10.192459051452449, 10.192459051452449, 5.192459051452449, 10.192459051452449, 10.192459051452449, 11.192459051452449, 8.192459051452449, 11.192459051452449, 4.192459051452449, 10.192459051452449, 7.192459051452449, 5.192459051452449, 5.192459051452449, 6.192459051452449, 10.192459051452449, 9.192459051452449, 6.192459051452449, 9.192459051452449, 11.192459051452449, 3.192459051452449, 11.192459051452449, 4.192459051452449, 8.192459051452449, 3.192459051452449, 11.192459051452449, 3.192459051452449, 9.192459051452449, 10.192459051452449, 8.192459051452449, 2.192459051452449, 4.192459051452449, 11.192459051452449, 6.192459051452449, 11.192459051452449, 6.192459051452449, 3.192459051452449, 3.192459051452449, 7.192459051452449, 7.192459051452449, 9.192459051452449, 4.192459051452449, 2.192459051452449, 9.192459051452449, 4.192459051452449, 3.192459051452449, 11.192459051452449, 2.192459051452449, 3.192459051452449, 11.192459051452449, 10.192459051452449, 9.192459051452449, 10.192459051452449, 10.192459051452449, 11.192459051452449, 11.192459051452449, 11.192459051452449, 2.192459051452449, 9.192459051452449, 9.192459051452449, 8.192459051452449, 10.192459051452449, 9.192459051452449, 8.192459051452449, 8.192459051452449, 6.192459051452449, 10.192459051452449, 11.192459051452449, 6.192459051452449, 10.192459051452449, 11.192459051452449, 11.192459051452449, 11.192459051452449, 5.192459051452449, 9.192459051452449, 5.192459051452449, 9.192459051452449, 11.192459051452449, 6.192459051452449, 7.192459051452449, 4.192459051452449, 11.192459051452449, 10.192459051452449, 2.192459051452449, 2.192459051452449, 11.192459051452449, 10.192459051452449, 11.192459051452449, 6.192459051452449, 9.192459051452449, 9.192459051452449, 4.192459051452449, 9.192459051452449, 7.192459051452449, 2.192459051452449, 7.192459051452449, 8.192459051452449, 7.192459051452449, 10.192459051452449, 10.192459051452449, 9.192459051452449, 8.192459051452449, 10.192459051452449, 7.192459051452449, 10.192459051452449, 8.192459051452449, 10.192459051452449, 9.192459051452449, 7.192459051452449, 9.192459051452449, 8.192459051452449, 4.192459051452449, 9.192459051452449, 5.192459051452449, 9.192459051452449, 8.192459051452449, 11.192459051452449, 10.192459051452449, 7.192459051452449, 8.192459051452449, 11.192459051452449, 11.192459051452449, 2.192459051452449, 2.192459051452449, 10.192459051452449, 8.192459051452449, 11.192459051452449, 10.192459051452449, 5.192459051452449, 4.192459051452449, 10.192459051452449, 7.192459051452449, 10.192459051452449, 5.192459051452449, 6.192459051452449, 8.192459051452449, 5.192459051452449, 11.192459051452449, 9.192459051452449, 11.192459051452449, 11.192459051452449, 10.192459051452449, 10.192459051452449, 10.192459051452449, 9.192459051452449, 9.192459051452449, 8.192459051452449, 7.192459051452449, 7.192459051452449, 8.192459051452449, 7.192459051452449, 10.192459051452449, 9.192459051452449, 8.192459051452449, 5.192459051452449, 11.192459051452449, 10.192459051452449, 2.192459051452449, 3.192459051452449, 10.192459051452449, 11.192459051452449, 11.192459051452449, 4.192459051452449, 7.192459051452449, 6.192459051452449, 10.192459051452449, 10.192459051452449, 11.192459051452449, 7.192459051452449, 11.192459051452449, 8.192459051452449, 5.192459051452449, 2.192459051452449, 6.192459051452449, 7.192459051452449, 10.192459051452449, 9.192459051452449, 4.192459051452449, 5.192459051452449, 8.192459051452449, 3.192459051452449, 2.192459051452449, 4.192459051452449, 10.192459051452449, 7.192459051452449, 8.192459051452449, 4.192459051452449, 11.192459051452449, 2.192459051452449, 5.192459051452449, 10.192459051452449, 11.192459051452449, 7.192459051452449, 5.192459051452449, 6.192459051452449, 9.192459051452449, 10.192459051452449, 11.192459051452449, 11.192459051452449, 6.192459051452449, 11.192459051452449, 11.192459051452449, 9.192459051452449, 2.192459051452449, 9.192459051452449, 2.192459051452449, 7.192459051452449, 10.192459051452449, 10.192459051452449, 11.192459051452449, 8.192459051452449, 11.192459051452449, 11.192459051452449, 9.192459051452449, 2.192459051452449, 5.192459051452449, 11.192459051452449, 6.192459051452449, 2.192459051452449, 6.192459051452449, 10.192459051452449, 9.192459051452449, 8.192459051452449, 10.192459051452449, 11.192459051452449, 10.192459051452449, 2.192459051452449, 8.192459051452449, 3.192459051452449, 9.192459051452449, 10.192459051452449, 11.192459051452449, 2.192459051452449, 8.192459051452449, 2.192459051452449, 8.192459051452449, 5.192459051452449, 6.192459051452449, 3.192459051452449, 11.192459051452449, 9.192459051452449, 7.192459051452449, 4.192459051452449, 2.192459051452449, 9.192459051452449, 3.192459051452449, 9.192459051452449, 7.192459051452449, 9.192459051452449, 7.192459051452449, 10.192459051452449, 7.192459051452449, 9.192459051452449, 5.192459051452449, 7.192459051452449, 11.192459051452449, 7.192459051452449, 8.192459051452449, 10.192459051452449, 11.192459051452449, 7.192459051452449, 11.192459051452449, 10.192459051452449, 8.192459051452449, 11.192459051452449, 11.192459051452449, 8.192459051452449, 2.192459051452449, 4.192459051452449, 5.192459051452449, 4.192459051452449, 8.192459051452449, 4.192459051452449, 8.192459051452449, 7.192459051452449, 9.192459051452449, 6.192459051452449, 2.192459051452449, 7.192459051452449, 3.192459051452449, 9.192459051452449, 3.192459051452449, 9.192459051452449, 6.192459051452449, 4.192459051452449, 7.192459051452449, 3.192459051452449, 2.192459051452449, 6.192459051452449, 11.192459051452449, 9.192459051452449, 4.192459051452449, 7.192459051452449, 7.192459051452449, 8.192459051452449, 11.192459051452449, 4.192459051452449, 8.192459051452449, 4.192459051452449, 11.192459051452449, 6.192459051452449, 4.192459051452449, 8.192459051452449, 10.192459051452449, 10.192459051452449, 9.192459051452449, 8.192459051452449, 8.192459051452449, 9.192459051452449, 11.192459051452449, 10.192459051452449, 10.192459051452449, 3.192459051452449, 3.192459051452449, 4.192459051452449, 10.192459051452449, 8.192459051452449, 3.192459051452449, 7.192459051452449, 10.192459051452449, 8.192459051452449, 5.192459051452449, 6.192459051452449, 2.192459051452449, 7.192459051452449, 5.192459051452449, 6.192459051452449, 5.192459051452449, 11.192459051452449, 9.192459051452449, 6.192459051452449, 3.192459051452449, 11.192459051452449, 9.192459051452449, 7.192459051452449, 5.192459051452449, 3.192459051452449, 11.192459051452449, 8.192459051452449, 3.192459051452449, 9.192459051452449, 10.192459051452449, 11.192459051452449, 11.192459051452449, 10.192459051452449, 5.192459051452449, 9.192459051452449, 8.192459051452449, 9.192459051452449, 8.192459051452449, 11.192459051452449, 8.192459051452449, 10.192459051452449, 10.192459051452449, 8.192459051452449, 9.192459051452449, 8.192459051452449, 2.192459051452449, 6.192459051452449, 6.192459051452449, 9.192459051452449, 7.192459051452449, 11.192459051452449, 6.192459051452449, 3.192459051452449, 2.192459051452449, 6.192459051452449, 11.192459051452449, 10.192459051452449, 10.192459051452449, 9.192459051452449, 11.192459051452449, 2.192459051452449, 6.192459051452449, 9.192459051452449, 11.192459051452449, 5.192459051452449, 9.192459051452449, 8.192459051452449, 9.192459051452449, 10.192459051452449, 10.192459051452449, 2.192459051452449, 11.192459051452449, 10.192459051452449, 10.192459051452449, 9.192459051452449, 4.192459051452449, 7.192459051452449, 9.192459051452449, 11.192459051452449, 8.192459051452449, 7.192459051452449, 3.192459051452449, 4.192459051452449, 11.192459051452449, 2.192459051452449, 5.192459051452449, 8.192459051452449, 11.192459051452449, 5.192459051452449, 8.192459051452449, 7.192459051452449, 8.192459051452449, 4.192459051452449, 2.192459051452449, 7.192459051452449, 4.192459051452449, 7.192459051452449, 11.192459051452449, 6.192459051452449, 8.192459051452449, 11.192459051452449, 10.192459051452449, 7.192459051452449, 2.192459051452449, 8.192459051452449, 11.192459051452449, 9.192459051452449, 9.192459051452449, 5.192459051452449, 9.192459051452449, 7.192459051452449, 9.192459051452449, 9.192459051452449, 10.192459051452449, 6.192459051452449, 2.192459051452449, 11.192459051452449, 9.192459051452449, 5.192459051452449, 6.192459051452449, 11.192459051452449, 2.192459051452449, 11.192459051452449, 6.192459051452449, 6.192459051452449, 9.192459051452449, 6.192459051452449, 6.192459051452449, 7.192459051452449, 9.192459051452449, 10.192459051452449, 4.192459051452449, 10.192459051452449, 7.192459051452449, 9.192459051452449, 3.192459051452449, 9.192459051452449, 9.192459051452449, 4.192459051452449, 5.192459051452449, 9.192459051452449, 5.192459051452449, 5.192459051452449, 10.192459051452449, 8.192459051452449, 8.192459051452449, 2.192459051452449, 3.192459051452449, 11.192459051452449, 10.192459051452449, 10.192459051452449, 6.192459051452449, 8.192459051452449, 9.192459051452449, 9.192459051452449, 10.192459051452449, 6.192459051452449, 9.192459051452449, 2.192459051452449, 11.192459051452449, 4.192459051452449, 9.192459051452449, 7.192459051452449, 11.192459051452449, 7.192459051452449, 9.192459051452449, 8.192459051452449, 9.192459051452449, 5.192459051452449, 10.192459051452449, 8.192459051452449, 10.192459051452449, 6.192459051452449, 7.192459051452449, 10.192459051452449, 9.192459051452449, 5.192459051452449, 10.192459051452449, 8.192459051452449, 9.192459051452449, 11.192459051452449, 8.192459051452449, 5.192459051452449, 6.192459051452449, 5.192459051452449, 7.192459051452449, 4.192459051452449, 10.192459051452449, 4.192459051452449, 2.192459051452449, 11.192459051452449, 11.192459051452449, 2.192459051452449, 6.192459051452449, 8.192459051452449, 5.192459051452449, 6.192459051452449, 9.192459051452449, 7.192459051452449, 9.192459051452449, 2.192459051452449, 9.192459051452449, 4.192459051452449, 2.192459051452449, 4.192459051452449, 4.192459051452449, 8.192459051452449, 11.192459051452449, 9.192459051452449, 5.192459051452449, 9.192459051452449, 2.192459051452449, 11.192459051452449, 11.192459051452449, 9.192459051452449, 11.192459051452449, 11.192459051452449, 8.192459051452449, 11.192459051452449, 7.192459051452449, 3.192459051452449, 6.192459051452449, 10.192459051452449, 9.192459051452449, 11.192459051452449, 9.192459051452449, 11.192459051452449, 6.192459051452449, 9.192459051452449, 10.192459051452449, 10.192459051452449, 11.192459051452449, 8.192459051452449, 5.192459051452449, 9.192459051452449, 3.192459051452449, 6.192459051452449, 2.192459051452449, 10.192459051452449, 7.192459051452449, 7.192459051452449, 4.192459051452449, 4.192459051452449, 2.192459051452449, 11.192459051452449, 3.192459051452449, 3.192459051452449, 3.192459051452449, 5.192459051452449, 6.192459051452449, 10.192459051452449, 3.192459051452449, 5.192459051452449, 10.192459051452449, 8.192459051452449, 2.192459051452449, 11.192459051452449, 10.192459051452449, 7.192459051452449, 4.192459051452449, 10.192459051452449, 10.192459051452449, 11.192459051452449, 8.192459051452449, 10.192459051452449, 9.192459051452449, 11.192459051452449, 11.192459051452449, 10.192459051452449, 9.192459051452449, 6.192459051452449, 3.192459051452449, 11.192459051452449, 8.192459051452449, 11.192459051452449, 5.192459051452449, 9.192459051452449, 2.192459051452449, 5.192459051452449, 11.192459051452449, 7.192459051452449, 9.192459051452449, 3.192459051452449, 6.192459051452449, 7.192459051452449, 11.192459051452449, 4.192459051452449, 2.192459051452449, 10.192459051452449, 11.192459051452449, 3.192459051452449, 3.192459051452449, 3.192459051452449, 5.192459051452449, 2.192459051452449, 2.192459051452449, 10.192459051452449, 6.192459051452449, 3.192459051452449, 10.192459051452449, 7.192459051452449, 9.192459051452449, 6.192459051452449, 7.192459051452449, 7.192459051452449, 4.192459051452449, 8.192459051452449, 8.192459051452449, 6.192459051452449, 5.192459051452449, 3.192459051452449, 11.192459051452449, 10.192459051452449, 11.192459051452449, 6.192459051452449, 3.192459051452449, 10.192459051452449, 11.192459051452449, 6.192459051452449, 11.192459051452449, 6.192459051452449, 10.192459051452449, 5.192459051452449, 10.192459051452449, 11.192459051452449, 11.192459051452449, 11.192459051452449, 11.192459051452449, 10.192459051452449, 11.192459051452449, 9.192459051452449, 6.192459051452449, 11.192459051452449, 2.192459051452449, 5.192459051452449, 10.192459051452449, 9.192459051452449, 3.192459051452449, 9.192459051452449, 11.192459051452449, 6.192459051452449, 4.192459051452449, 10.192459051452449, 6.192459051452449, 10.192459051452449, 8.192459051452449, 4.192459051452449, 4.192459051452449, 3.192459051452449, 7.192459051452449, 7.192459051452449, 4.192459051452449, 6.192459051452449, 11.192459051452449, 7.192459051452449, 5.192459051452449, 10.192459051452449, 7.192459051452449, 5.192459051452449, 6.192459051452449, 3.192459051452449, 3.192459051452449, 11.192459051452449, 5.192459051452449, 11.192459051452449, 7.192459051452449, 7.192459051452449, 11.192459051452449, 6.192459051452449, 9.192459051452449, 3.192459051452449, 11.192459051452449, 10.192459051452449, 8.192459051452449, 6.192459051452449, 10.192459051452449, 9.192459051452449, 11.192459051452449, 4.192459051452449, 10.192459051452449, 8.192459051452449, 11.192459051452449, 11.192459051452449, 11.192459051452449, 9.192459051452449, 6.192459051452449, 10.192459051452449, 4.192459051452449, 10.192459051452449, 11.192459051452449, 10.192459051452449, 9.192459051452449, 10.192459051452449, 10.192459051452449, 8.192459051452449, 9.192459051452449, 7.192459051452449, 9.192459051452449, 7.192459051452449, 10.192459051452449, 8.192459051452449, 10.192459051452449, 4.192459051452449, 10.192459051452449, 6.192459051452449, 10.192459051452449, 10.192459051452449, 11.192459051452449, 2.192459051452449, 4.192459051452449, 9.192459051452449, 10.192459051452449, 5.192459051452449, 10.192459051452449, 5.192459051452449, 3.192459051452449, 11.192459051452449, 7.192459051452449, 9.192459051452449, 6.192459051452449, 7.192459051452449, 9.192459051452449, 5.192459051452449, 10.192459051452449, 5.192459051452449, 4.192459051452449, 3.192459051452449, 10.192459051452449, 7.192459051452449, 4.192459051452449, 10.192459051452449, 9.192459051452449, 10.192459051452449, 7.192459051452449, 10.192459051452449, 10.192459051452449, 4.192459051452449, 11.192459051452449, 10.192459051452449, 8.192459051452449, 11.192459051452449, 7.192459051452449, 10.192459051452449, 11.192459051452449, 6.192459051452449, 5.192459051452449, 3.192459051452449, 8.192459051452449, 9.192459051452449, 8.192459051452449, 6.192459051452449, 3.192459051452449, 5.192459051452449, 7.192459051452449, 11.192459051452449, 6.192459051452449, 2.192459051452449, 8.192459051452449, 8.192459051452449, 8.192459051452449, 10.192459051452449, 2.192459051452449, 11.192459051452449, 6.192459051452449, 11.192459051452449, 7.192459051452449, 11.192459051452449, 9.192459051452449, 7.192459051452449, 9.192459051452449, 2.192459051452449, 5.192459051452449, 6.192459051452449, 8.192459051452449, 6.192459051452449, 8.192459051452449, 8.192459051452449, 4.192459051452449, 10.192459051452449, 9.192459051452449, 7.192459051452449, 9.192459051452449, 9.192459051452449, 11.192459051452449, 10.192459051452449, 9.192459051452449, 9.192459051452449, 11.192459051452449, 9.192459051452449, 3.192459051452449, 5.192459051452449, 9.192459051452449, 6.192459051452449, 6.192459051452449, 11.192459051452449, 11.192459051452449, 8.192459051452449, 10.192459051452449, 7.192459051452449, 8.192459051452449, 11.192459051452449, 4.192459051452449, 4.192459051452449, 3.192459051452449, 11.192459051452449, 3.192459051452449, 11.192459051452449, 4.192459051452449, 7.192459051452449, 9.192459051452449, 9.192459051452449, 11.192459051452449, 5.192459051452449, 9.192459051452449, 10.192459051452449, 2.192459051452449, 11.192459051452449, 9.192459051452449, 10.192459051452449, 10.192459051452449, 6.192459051452449, 11.192459051452449, 11.192459051452449, 7.192459051452449, 11.192459051452449, 8.192459051452449, 2.192459051452449, 7.192459051452449, 3.192459051452449, 10.192459051452449, 11.192459051452449, 7.192459051452449, 8.192459051452449, 8.192459051452449, 10.192459051452449, 2.192459051452449, 7.192459051452449, 10.192459051452449, 10.192459051452449, 8.192459051452449, 11.192459051452449, 11.192459051452449, 2.192459051452449, 10.192459051452449, 4.192459051452449, 8.192459051452449, 11.192459051452449, 11.192459051452449, 8.192459051452449, 6.192459051452449, 4.192459051452449, 4.192459051452449, 11.192459051452449, 2.192459051452449, 10.192459051452449, 2.192459051452449, 4.192459051452449, 6.192459051452449, 11.192459051452449, 10.192459051452449, 10.192459051452449, 11.192459051452449, 3.192459051452449, 4.192459051452449, 4.192459051452449, 8.192459051452449, 7.192459051452449, 7.192459051452449, 6.192459051452449, 2.192459051452449, 2.192459051452449, 3.192459051452449, 2.192459051452449, 11.192459051452449, 11.192459051452449, 2.192459051452449, 7.192459051452449, 7.192459051452449, 9.192459051452449, 11.192459051452449, 4.192459051452449, 9.192459051452449, 9.192459051452449, 11.192459051452449, 6.192459051452449, 9.192459051452449, 3.192459051452449, 7.192459051452449, 11.192459051452449, 10.192459051452449, 6.192459051452449, 8.192459051452449, 9.192459051452449, 8.192459051452449, 7.192459051452449, 9.192459051452449, 10.192459051452449, 7.192459051452449, 11.192459051452449, 9.192459051452449, 4.192459051452449, 11.192459051452449, 3.192459051452449, 7.192459051452449, 9.192459051452449, 10.192459051452449, 9.192459051452449, 11.192459051452449, 2.192459051452449, 9.192459051452449, 6.192459051452449, 9.192459051452449, 7.192459051452449, 11.192459051452449, 11.192459051452449, 2.192459051452449, 2.192459051452449, 2.192459051452449, 6.192459051452449, 9.192459051452449, 8.192459051452449, 4.192459051452449, 2.192459051452449, 10.192459051452449, 4.192459051452449, 7.192459051452449, 2.192459051452449, 8.192459051452449, 11.192459051452449, 11.192459051452449, 9.192459051452449, 11.192459051452449, 10.192459051452449, 7.192459051452449, 6.192459051452449, 7.192459051452449, 5.192459051452449, 7.192459051452449, 11.192459051452449, 7.192459051452449, 11.192459051452449, 3.192459051452449, 10.192459051452449, 6.192459051452449, 3.192459051452449, 10.192459051452449, 8.192459051452449, 10.192459051452449, 10.192459051452449, 4.192459051452449, 11.192459051452449, 3.192459051452449, 9.192459051452449, 11.192459051452449, 3.192459051452449, 2.192459051452449, 6.192459051452449, 11.192459051452449, 4.192459051452449, 8.192459051452449, 6.192459051452449, 11.192459051452449, 6.192459051452449, 5.192459051452449, 10.192459051452449, 6.192459051452449, 3.192459051452449, 10.192459051452449, 11.192459051452449, 4.192459051452449, 4.192459051452449, 11.192459051452449, 11.192459051452449, 9.192459051452449, 6.192459051452449, 10.192459051452449, 10.192459051452449, 11.192459051452449, 11.192459051452449, 5.192459051452449, 7.192459051452449, 9.192459051452449, 6.192459051452449, 4.192459051452449, 11.192459051452449, 8.192459051452449, 9.192459051452449, 7.192459051452449, 6.192459051452449, 10.192459051452449, 3.192459051452449, 5.192459051452449, 9.192459051452449, 4.192459051452449, 4.192459051452449, 10.192459051452449, 4.192459051452449, 8.192459051452449, 9.192459051452449, 10.192459051452449, 11.192459051452449, 10.192459051452449, 5.192459051452449, 10.192459051452449, 4.192459051452449, 9.192459051452449, 7.192459051452449, 7.192459051452449, 9.192459051452449, 7.192459051452449, 7.192459051452449, 5.192459051452449, 8.192459051452449, 11.192459051452449, 5.192459051452449, 7.192459051452449, 9.192459051452449, 9.192459051452449, 7.192459051452449, 9.192459051452449, 5.192459051452449, 3.192459051452449, 11.192459051452449, 8.192459051452449, 8.192459051452449, 2.192459051452449, 8.192459051452449, 9.192459051452449, 9.192459051452449, 4.192459051452449, 7.192459051452449, 4.192459051452449, 6.192459051452449, 7.192459051452449, 9.192459051452449, 4.192459051452449, 10.192459051452449, 10.192459051452449, 7.192459051452449, 8.192459051452449, 4.192459051452449, 7.192459051452449, 11.192459051452449, 2.192459051452449, 7.192459051452449, 11.192459051452449, 2.192459051452449, 9.192459051452449, 9.192459051452449, 10.192459051452449, 4.192459051452449, 6.192459051452449, 8.192459051452449, 9.192459051452449, 10.192459051452449, 11.192459051452449, 6.192459051452449, 8.192459051452449, 7.192459051452449, 5.192459051452449, 10.192459051452449, 10.192459051452449, 6.192459051452449, 4.192459051452449, 3.192459051452449, 9.192459051452449, 5.192459051452449, 3.192459051452449, 9.192459051452449, 4.192459051452449, 4.192459051452449, 7.192459051452449, 9.192459051452449, 7.192459051452449, 9.192459051452449, 6.192459051452449, 6.192459051452449, 9.192459051452449, 6.192459051452449, 10.192459051452449, 9.192459051452449, 3.192459051452449, 9.192459051452449, 9.192459051452449, 9.192459051452449, 8.192459051452449, 10.192459051452449, 4.192459051452449, 10.192459051452449, 9.192459051452449, 11.192459051452449, 6.192459051452449, 5.192459051452449, 7.192459051452449, 5.192459051452449, 9.192459051452449, 7.192459051452449, 10.192459051452449, 8.192459051452449, 11.192459051452449, 9.192459051452449, 7.192459051452449, 3.192459051452449, 2.192459051452449, 7.192459051452449, 8.192459051452449, 9.192459051452449, 6.192459051452449, 6.192459051452449, 6.192459051452449, 4.192459051452449, 8.192459051452449, 10.192459051452449, 5.192459051452449, 4.192459051452449, 10.192459051452449, 9.192459051452449, 6.192459051452449, 10.192459051452449, 5.192459051452449, 6.192459051452449, 7.192459051452449, 7.192459051452449, 11.192459051452449, 5.192459051452449, 8.192459051452449, 8.192459051452449, 9.192459051452449, 8.192459051452449, 11.192459051452449, 8.192459051452449, 10.192459051452449, 9.192459051452449, 9.192459051452449, 7.192459051452449, 9.192459051452449, 9.192459051452449, 11.192459051452449, 10.192459051452449, 11.192459051452449, 7.192459051452449, 11.192459051452449, 5.192459051452449, 5.192459051452449, 9.192459051452449, 9.192459051452449, 8.192459051452449, 11.192459051452449, 5.192459051452449, 9.192459051452449, 7.192459051452449, 10.192459051452449, 5.192459051452449, 9.192459051452449, 3.192459051452449, 11.192459051452449, 9.192459051452449, 7.192459051452449, 4.192459051452449, 8.192459051452449, 5.192459051452449, 9.192459051452449, 11.192459051452449, 10.192459051452449, 6.192459051452449, 7.192459051452449, 5.192459051452449, 11.192459051452449, 10.192459051452449, 8.192459051452449, 8.192459051452449, 10.192459051452449, 11.192459051452449, 10.192459051452449, 9.192459051452449, 8.192459051452449, 2.192459051452449, 8.192459051452449, 8.192459051452449, 7.192459051452449, 10.192459051452449, 8.192459051452449, 10.192459051452449, 9.192459051452449, 8.192459051452449, 3.192459051452449, 4.192459051452449, 10.192459051452449, 9.192459051452449, 9.192459051452449, 10.192459051452449, 7.192459051452449, 4.192459051452449, 6.192459051452449, 5.192459051452449, 3.192459051452449, 11.192459051452449, 6.192459051452449, 11.192459051452449, 4.192459051452449, 10.192459051452449, 10.192459051452449, 9.192459051452449, 11.192459051452449, 6.192459051452449, 11.192459051452449, 8.192459051452449, 10.192459051452449, 10.192459051452449, 2.192459051452449, 10.192459051452449, 6.192459051452449, 9.192459051452449, 3.192459051452449, 10.192459051452449, 11.192459051452449, 4.192459051452449, 10.192459051452449, 7.192459051452449, 2.192459051452449, 7.192459051452449, 11.192459051452449, 9.192459051452449, 11.192459051452449, 3.192459051452449, 7.192459051452449, 5.192459051452449, 5.192459051452449, 5.192459051452449, 10.192459051452449, 9.192459051452449, 3.192459051452449, 9.192459051452449, 9.192459051452449, 7.192459051452449, 9.192459051452449, 9.192459051452449, 11.192459051452449, 10.192459051452449, 2.192459051452449, 6.192459051452449, 11.192459051452449, 4.192459051452449, 8.192459051452449, 11.192459051452449, 8.192459051452449, 11.192459051452449, 7.192459051452449, 4.192459051452449, 6.192459051452449, 6.192459051452449, 8.192459051452449, 11.192459051452449, 10.192459051452449, 6.192459051452449, 10.192459051452449, 5.192459051452449, 10.192459051452449, 7.192459051452449, 7.192459051452449, 8.192459051452449, 7.192459051452449, 10.192459051452449, 9.192459051452449, 10.192459051452449, 8.192459051452449, 9.192459051452449, 4.192459051452449, 6.192459051452449, 2.192459051452449, 11.192459051452449, 7.192459051452449, 11.192459051452449, 3.192459051452449, 8.192459051452449, 3.192459051452449, 3.192459051452449, 6.192459051452449, 5.192459051452449, 10.192459051452449, 9.192459051452449, 11.192459051452449, 7.192459051452449, 11.192459051452449, 7.192459051452449, 11.192459051452449, 9.192459051452449, 3.192459051452449, 7.192459051452449, 8.192459051452449, 5.192459051452449, 5.192459051452449, 8.192459051452449, 3.192459051452449, 2.192459051452449, 5.192459051452449, 11.192459051452449, 5.192459051452449, 6.192459051452449, 5.192459051452449, 5.192459051452449, 11.192459051452449, 2.192459051452449, 5.192459051452449, 7.192459051452449, 10.192459051452449, 4.192459051452449, 6.192459051452449, 8.192459051452449, 4.192459051452449, 6.192459051452449, 3.192459051452449, 9.192459051452449, 9.192459051452449, 10.192459051452449, 3.192459051452449, 9.192459051452449, 7.192459051452449, 9.192459051452449, 11.192459051452449, 4.192459051452449, 5.192459051452449, 10.192459051452449, 11.192459051452449, 10.192459051452449, 2.192459051452449, 9.192459051452449, 10.192459051452449, 11.192459051452449, 8.192459051452449, 10.192459051452449, 10.192459051452449, 11.192459051452449, 11.192459051452449, 11.192459051452449, 9.192459051452449, 7.192459051452449, 7.192459051452449, 7.192459051452449, 3.192459051452449, 11.192459051452449, 7.192459051452449, 7.192459051452449, 2.192459051452449, 9.192459051452449, 3.192459051452449, 8.192459051452449, 9.192459051452449, 9.192459051452449, 8.192459051452449, 8.192459051452449, 8.192459051452449, 10.192459051452449, 11.192459051452449, 10.192459051452449, 9.192459051452449, 4.192459051452449, 11.192459051452449, 10.192459051452449, 6.192459051452449, 7.192459051452449, 3.192459051452449, 10.192459051452449, 8.192459051452449, 4.192459051452449, 11.192459051452449, 8.192459051452449, 6.192459051452449, 6.192459051452449, 11.192459051452449, 8.192459051452449, 2.192459051452449, 9.192459051452449, 9.192459051452449, 5.192459051452449, 6.192459051452449, 9.192459051452449, 5.192459051452449, 6.192459051452449, 4.192459051452449, 5.192459051452449, 11.192459051452449, 8.192459051452449, 8.192459051452449, 9.192459051452449, 9.192459051452449, 9.192459051452449, 10.192459051452449, 9.192459051452449, 11.192459051452449, 4.192459051452449, 3.192459051452449, 4.192459051452449, 10.192459051452449, 4.192459051452449, 10.192459051452449, 11.192459051452449, 3.192459051452449, 10.192459051452449, 2.192459051452449, 5.192459051452449, 9.192459051452449, 7.192459051452449, 4.192459051452449, 7.192459051452449, 4.192459051452449, 8.192459051452449, 5.192459051452449, 4.192459051452449, 7.192459051452449, 6.192459051452449, 10.192459051452449, 11.192459051452449, 2.192459051452449, 6.192459051452449, 3.192459051452449, 4.192459051452449, 6.192459051452449, 9.192459051452449, 2.192459051452449, 8.192459051452449, 8.192459051452449, 4.192459051452449, 10.192459051452449, 5.192459051452449, 11.192459051452449, 6.192459051452449, 8.192459051452449, 10.192459051452449, 6.192459051452449, 11.192459051452449, 11.192459051452449, 11.192459051452449, 7.192459051452449, 10.192459051452449, 10.192459051452449, 11.192459051452449, 11.192459051452449, 5.192459051452449, 5.192459051452449, 10.192459051452449, 6.192459051452449, 10.192459051452449, 7.192459051452449, 4.192459051452449, 9.192459051452449, 11.192459051452449, 4.192459051452449, 5.192459051452449, 11.192459051452449, 8.192459051452449, 6.192459051452449, 8.192459051452449, 5.192459051452449, 7.192459051452449, 11.192459051452449, 3.192459051452449, 11.192459051452449, 11.192459051452449, 11.192459051452449, 8.192459051452449, 7.192459051452449, 9.192459051452449, 5.192459051452449, 11.192459051452449, 6.192459051452449, 11.192459051452449, 10.192459051452449, 11.192459051452449, 3.192459051452449, 7.192459051452449, 4.192459051452449, 9.192459051452449, 11.192459051452449, 6.192459051452449, 11.192459051452449, 11.192459051452449, 11.192459051452449, 10.192459051452449, 5.192459051452449, 11.192459051452449, 10.192459051452449, 3.192459051452449, 10.192459051452449, 10.192459051452449, 6.192459051452449, 6.192459051452449, 10.192459051452449, 2.192459051452449, 6.192459051452449, 5.192459051452449, 5.192459051452449, 7.192459051452449, 4.192459051452449, 10.192459051452449, 11.192459051452449, 8.192459051452449, 9.192459051452449, 9.192459051452449, 2.192459051452449, 2.192459051452449, 10.192459051452449, 2.192459051452449, 3.192459051452449, 4.192459051452449, 5.192459051452449, 9.192459051452449, 11.192459051452449, 10.192459051452449, 6.192459051452449, 8.192459051452449, 9.192459051452449, 10.192459051452449, 5.192459051452449, 6.192459051452449, 9.192459051452449, 10.192459051452449, 2.192459051452449, 4.192459051452449, 11.192459051452449, 4.192459051452449, 3.192459051452449, 10.192459051452449, 9.192459051452449, 10.192459051452449, 7.192459051452449, 6.192459051452449, 9.192459051452449, 10.192459051452449, 10.192459051452449, 11.192459051452449, 11.192459051452449, 6.192459051452449, 10.192459051452449, 7.192459051452449, 11.192459051452449, 11.192459051452449, 3.192459051452449, 2.192459051452449, 5.192459051452449, 7.192459051452449, 9.192459051452449, 7.192459051452449, 8.192459051452449, 9.192459051452449, 8.192459051452449, 4.192459051452449, 11.192459051452449, 11.192459051452449, 2.192459051452449, 2.192459051452449, 9.192459051452449, 5.192459051452449, 11.192459051452449, 10.192459051452449, 3.192459051452449, 6.192459051452449, 5.192459051452449, 10.192459051452449, 9.192459051452449, 9.192459051452449, 9.192459051452449, 8.192459051452449, 5.192459051452449, 9.192459051452449, 5.192459051452449, 11.192459051452449, 9.192459051452449, 7.192459051452449, 7.192459051452449, 8.192459051452449, 2.192459051452449, 10.192459051452449, 9.192459051452449, 10.192459051452449, 11.192459051452449, 6.192459051452449, 6.192459051452449, 9.192459051452449, 9.192459051452449, 3.192459051452449, 11.192459051452449, 6.192459051452449, 5.192459051452449, 11.192459051452449, 6.192459051452449, 9.192459051452449, 8.192459051452449, 8.192459051452449, 10.192459051452449, 2.192459051452449, 7.192459051452449, 11.192459051452449, 6.192459051452449, 5.192459051452449, 3.192459051452449, 11.192459051452449, 11.192459051452449, 10.192459051452449, 11.192459051452449, 10.192459051452449, 7.192459051452449, 7.192459051452449, 8.192459051452449, 10.192459051452449, 2.192459051452449, 7.192459051452449, 5.192459051452449, 6.192459051452449, 11.192459051452449, 7.192459051452449, 9.192459051452449, 9.192459051452449, 8.192459051452449, 4.192459051452449, 11.192459051452449, 9.192459051452449, 6.192459051452449, 6.192459051452449, 5.192459051452449, 5.192459051452449, 6.192459051452449, 10.192459051452449, 7.192459051452449, 9.192459051452449, 11.192459051452449, 6.192459051452449, 11.192459051452449, 10.192459051452449, 10.192459051452449, 11.192459051452449, 2.192459051452449, 11.192459051452449, 5.192459051452449, 9.192459051452449, 8.192459051452449, 10.192459051452449, 10.192459051452449, 9.192459051452449, 7.192459051452449, 10.192459051452449, 8.192459051452449, 10.192459051452449, 9.192459051452449, 8.192459051452449, 6.192459051452449, 7.192459051452449, 8.192459051452449, 11.192459051452449, 5.192459051452449, 6.192459051452449, 6.192459051452449, 4.192459051452449, 11.192459051452449, 9.192459051452449, 10.192459051452449, 11.192459051452449, 9.192459051452449, 5.192459051452449, 11.192459051452449, 5.192459051452449, 5.192459051452449, 6.192459051452449, 10.192459051452449, 7.192459051452449, 5.192459051452449, 2.192459051452449, 11.192459051452449, 11.192459051452449, 10.192459051452449, 5.192459051452449, 7.192459051452449, 5.192459051452449, 11.192459051452449, 10.192459051452449, 3.192459051452449, 10.192459051452449, 5.192459051452449, 4.192459051452449, 10.192459051452449, 8.192459051452449, 10.192459051452449, 2.192459051452449, 6.192459051452449, 11.192459051452449, 5.192459051452449, 4.192459051452449, 9.192459051452449, 9.192459051452449, 9.192459051452449, 9.192459051452449, 9.192459051452449, 4.192459051452449, 6.192459051452449, 9.192459051452449, 11.192459051452449, 10.192459051452449, 11.192459051452449, 5.192459051452449, 6.192459051452449, 8.192459051452449, 11.192459051452449, 7.192459051452449, 8.192459051452449, 7.192459051452449, 3.192459051452449, 9.192459051452449, 3.192459051452449, 4.192459051452449, 8.192459051452449, 10.192459051452449, 9.192459051452449, 3.192459051452449, 11.192459051452449, 11.192459051452449, 11.192459051452449, 10.192459051452449, 11.192459051452449, 2.192459051452449, 10.192459051452449, 9.192459051452449, 6.192459051452449, 8.192459051452449, 5.192459051452449, 2.192459051452449, 10.192459051452449, 4.192459051452449, 2.192459051452449, 4.192459051452449, 5.192459051452449, 9.192459051452449, 8.192459051452449, 10.192459051452449, 11.192459051452449, 8.192459051452449, 7.192459051452449, 8.192459051452449, 8.192459051452449, 8.192459051452449, 11.192459051452449, 8.192459051452449, 5.192459051452449, 5.192459051452449, 5.192459051452449, 4.192459051452449, 11.192459051452449, 11.192459051452449, 9.192459051452449, 5.192459051452449, 4.192459051452449, 10.192459051452449, 8.192459051452449, 8.192459051452449, 8.192459051452449, 11.192459051452449, 9.192459051452449, 9.192459051452449, 9.192459051452449, 6.192459051452449, 4.192459051452449, 6.192459051452449, 9.192459051452449, 8.192459051452449, 9.192459051452449, 9.192459051452449, 9.192459051452449, 6.192459051452449, 3.192459051452449, 11.192459051452449, 10.192459051452449, 2.192459051452449, 10.192459051452449, 5.192459051452449, 7.192459051452449, 10.192459051452449, 10.192459051452449, 6.192459051452449, 7.192459051452449, 11.192459051452449, 8.192459051452449, 4.192459051452449, 8.192459051452449, 5.192459051452449, 10.192459051452449, 11.192459051452449, 2.192459051452449, 8.192459051452449, 4.192459051452449, 2.192459051452449, 8.192459051452449, 10.192459051452449, 11.192459051452449, 3.192459051452449, 7.192459051452449, 8.192459051452449, 7.192459051452449, 6.192459051452449, 6.192459051452449, 5.192459051452449, 8.192459051452449, 5.192459051452449, 2.192459051452449, 10.192459051452449, 9.192459051452449, 8.192459051452449, 4.192459051452449, 11.192459051452449, 3.192459051452449, 11.192459051452449, 3.192459051452449, 10.192459051452449, 7.192459051452449, 8.192459051452449, 3.192459051452449, 6.192459051452449, 4.192459051452449, 11.192459051452449, 2.192459051452449, 7.192459051452449, 10.192459051452449, 11.192459051452449, 7.192459051452449, 10.192459051452449, 9.192459051452449, 6.192459051452449, 11.192459051452449, 7.192459051452449, 11.192459051452449, 11.192459051452449, 11.192459051452449, 4.192459051452449, 10.192459051452449, 11.192459051452449, 3.192459051452449, 9.192459051452449, 3.192459051452449, 7.192459051452449, 9.192459051452449, 8.192459051452449, 8.192459051452449, 9.192459051452449, 10.192459051452449, 11.192459051452449, 4.192459051452449, 10.192459051452449, 4.192459051452449, 9.192459051452449, 7.192459051452449, 11.192459051452449, 11.192459051452449, 2.192459051452449, 8.192459051452449, 10.192459051452449, 8.192459051452449, 6.192459051452449, 5.192459051452449, 8.192459051452449, 7.192459051452449, 5.192459051452449, 8.192459051452449, 9.192459051452449, 10.192459051452449, 5.192459051452449, 10.192459051452449, 10.192459051452449, 11.192459051452449, 7.192459051452449, 2.192459051452449, 6.192459051452449, 11.192459051452449, 3.192459051452449, 10.192459051452449, 11.192459051452449, 11.192459051452449, 11.192459051452449, 7.192459051452449, 10.192459051452449, 10.192459051452449, 9.192459051452449, 5.192459051452449, 7.192459051452449, 10.192459051452449, 11.192459051452449, 6.192459051452449, 9.192459051452449, 7.192459051452449, 10.192459051452449, 11.192459051452449, 11.192459051452449, 9.192459051452449, 11.192459051452449, 9.192459051452449, 7.192459051452449, 7.192459051452449, 11.192459051452449, 5.192459051452449, 11.192459051452449, 2.192459051452449, 7.192459051452449, 3.192459051452449, 6.192459051452449, 11.192459051452449, 6.192459051452449, 11.192459051452449, 5.192459051452449, 11.192459051452449, 3.192459051452449, 11.192459051452449, 2.192459051452449, 2.192459051452449, 7.192459051452449, 9.192459051452449, 9.192459051452449, 10.192459051452449, 9.192459051452449, 10.192459051452449, 9.192459051452449, 6.192459051452449, 5.192459051452449, 3.192459051452449, 6.192459051452449, 8.192459051452449, 7.192459051452449, 9.192459051452449, 6.192459051452449, 10.192459051452449, 5.192459051452449, 11.192459051452449, 2.192459051452449, 8.192459051452449, 10.192459051452449, 10.192459051452449, 6.192459051452449, 11.192459051452449, 10.192459051452449, 6.192459051452449, 10.192459051452449, 10.192459051452449, 9.192459051452449, 2.192459051452449, 5.192459051452449, 11.192459051452449, 9.192459051452449, 4.192459051452449, 10.192459051452449, 10.192459051452449, 11.192459051452449, 11.192459051452449, 10.192459051452449, 10.192459051452449, 9.192459051452449, 6.192459051452449, 6.192459051452449, 11.192459051452449, 4.192459051452449, 8.192459051452449, 7.192459051452449, 8.192459051452449, 4.192459051452449, 7.192459051452449, 11.192459051452449, 11.192459051452449, 10.192459051452449, 6.192459051452449, 2.192459051452449, 8.192459051452449, 11.192459051452449, 9.192459051452449, 9.192459051452449, 8.192459051452449, 6.192459051452449, 5.192459051452449, 6.192459051452449, 5.192459051452449, 7.192459051452449, 10.192459051452449, 11.192459051452449, 9.192459051452449, 8.192459051452449, 2.192459051452449, 10.192459051452449, 8.192459051452449, 10.192459051452449, 10.192459051452449, 9.192459051452449, 6.192459051452449, 11.192459051452449, 7.192459051452449, 8.192459051452449, 7.192459051452449, 10.192459051452449, 11.192459051452449, 8.192459051452449, 8.192459051452449, 11.192459051452449, 11.192459051452449, 7.192459051452449, 10.192459051452449, 11.192459051452449, 8.192459051452449, 6.192459051452449, 3.192459051452449, 2.192459051452449, 10.192459051452449, 10.192459051452449, 3.192459051452449, 11.192459051452449, 3.192459051452449, 2.192459051452449, 11.192459051452449, 6.192459051452449, 11.192459051452449, 11.192459051452449, 6.192459051452449, 5.192459051452449, 4.192459051452449, 10.192459051452449, 10.192459051452449, 10.192459051452449, 6.192459051452449, 8.192459051452449, 3.192459051452449, 7.192459051452449, 5.192459051452449, 8.192459051452449, 2.192459051452449, 11.192459051452449, 9.192459051452449, 8.192459051452449, 8.192459051452449, 11.192459051452449, 7.192459051452449, 7.192459051452449, 2.192459051452449, 10.192459051452449, 11.192459051452449, 11.192459051452449, 11.192459051452449, 11.192459051452449, 9.192459051452449, 5.192459051452449, 10.192459051452449, 11.192459051452449, 9.192459051452449, 6.192459051452449, 4.192459051452449, 7.192459051452449, 7.192459051452449, 6.192459051452449, 5.192459051452449, 5.192459051452449, 5.192459051452449, 2.192459051452449, 4.192459051452449, 2.192459051452449, 10.192459051452449, 11.192459051452449, 6.192459051452449, 3.192459051452449, 10.192459051452449, 7.192459051452449, 10.192459051452449, 4.192459051452449, 9.192459051452449, 6.192459051452449, 7.192459051452449, 10.192459051452449, 5.192459051452449, 11.192459051452449, 6.192459051452449, 8.192459051452449, 7.192459051452449, 3.192459051452449, 7.192459051452449, 4.192459051452449, 7.192459051452449, 4.192459051452449, 9.192459051452449, 2.192459051452449, 3.192459051452449, 8.192459051452449, 11.192459051452449, 8.192459051452449, 10.192459051452449, 10.192459051452449, 11.192459051452449, 8.192459051452449, 5.192459051452449, 9.192459051452449, 3.192459051452449, 2.192459051452449, 7.192459051452449, 7.192459051452449, 4.192459051452449, 7.192459051452449, 3.192459051452449, 5.192459051452449, 6.192459051452449, 8.192459051452449, 3.192459051452449, 10.192459051452449, 5.192459051452449, 8.192459051452449, 7.192459051452449, 4.192459051452449, 8.192459051452449, 6.192459051452449, 9.192459051452449, 4.192459051452449, 8.192459051452449, 4.192459051452449, 7.192459051452449, 11.192459051452449, 11.192459051452449, 8.192459051452449, 10.192459051452449, 5.192459051452449, 6.192459051452449, 11.192459051452449, 4.192459051452449, 5.192459051452449, 5.192459051452449, 10.192459051452449, 10.192459051452449, 7.192459051452449, 10.192459051452449, 9.192459051452449, 8.192459051452449, 8.192459051452449, 9.192459051452449, 2.192459051452449, 11.192459051452449, 5.192459051452449, 4.192459051452449, 8.192459051452449, 10.192459051452449, 10.192459051452449, 9.192459051452449, 7.192459051452449, 11.192459051452449, 11.192459051452449, 11.192459051452449, 10.192459051452449, 5.192459051452449, 6.192459051452449, 4.192459051452449, 4.192459051452449, 8.192459051452449, 9.192459051452449, 11.192459051452449, 7.192459051452449, 6.192459051452449, 6.192459051452449, 10.192459051452449, 5.192459051452449, 10.192459051452449, 11.192459051452449, 11.192459051452449, 5.192459051452449, 5.192459051452449, 11.192459051452449, 9.192459051452449, 11.192459051452449, 5.192459051452449, 10.192459051452449, 9.192459051452449, 4.192459051452449, 11.192459051452449, 11.192459051452449, 10.192459051452449, 10.192459051452449, 8.192459051452449, 7.192459051452449, 11.192459051452449, 11.192459051452449, 10.192459051452449, 11.192459051452449, 5.192459051452449, 5.192459051452449, 5.192459051452449, 7.192459051452449, 3.192459051452449, 8.192459051452449, 8.192459051452449, 2.192459051452449, 10.192459051452449, 10.192459051452449, 10.192459051452449, 11.192459051452449, 8.192459051452449, 3.192459051452449, 10.192459051452449, 9.192459051452449, 11.192459051452449, 10.192459051452449, 8.192459051452449, 10.192459051452449, 9.192459051452449, 11.192459051452449, 4.192459051452449, 10.192459051452449, 11.192459051452449, 9.192459051452449, 4.192459051452449, 11.192459051452449, 11.192459051452449, 11.192459051452449, 8.192459051452449, 8.192459051452449, 9.192459051452449, 3.192459051452449, 11.192459051452449, 2.192459051452449, 5.192459051452449, 11.192459051452449, 3.192459051452449, 10.192459051452449, 11.192459051452449, 10.192459051452449, 8.192459051452449, 4.192459051452449, 10.192459051452449, 10.192459051452449, 6.192459051452449, 10.192459051452449, 9.192459051452449, 6.192459051452449, 10.192459051452449, 10.192459051452449, 3.192459051452449, 2.192459051452449, 9.192459051452449, 5.192459051452449, 2.192459051452449, 6.192459051452449, 8.192459051452449, 9.192459051452449, 8.192459051452449, 10.192459051452449, 11.192459051452449, 10.192459051452449, 7.192459051452449, 8.192459051452449, 8.192459051452449, 10.192459051452449, 8.192459051452449, 5.192459051452449, 11.192459051452449, 5.192459051452449, 9.192459051452449, 4.192459051452449, 9.192459051452449, 8.192459051452449, 5.192459051452449, 4.192459051452449, 7.192459051452449, 9.192459051452449, 7.192459051452449, 7.192459051452449, 9.192459051452449, 8.192459051452449, 8.192459051452449, 4.192459051452449, 7.192459051452449, 8.192459051452449, 11.192459051452449, 9.192459051452449, 11.192459051452449, 8.192459051452449, 4.192459051452449, 11.192459051452449, 7.192459051452449, 11.192459051452449, 2.192459051452449, 11.192459051452449, 3.192459051452449, 7.192459051452449, 10.192459051452449, 6.192459051452449, 6.192459051452449, 8.192459051452449, 8.192459051452449, 7.192459051452449, 10.192459051452449, 10.192459051452449, 5.192459051452449, 11.192459051452449, 10.192459051452449, 11.192459051452449, 9.192459051452449, 6.192459051452449, 10.192459051452449, 4.192459051452449, 8.192459051452449, 10.192459051452449, 11.192459051452449, 6.192459051452449, 8.192459051452449, 10.192459051452449, 11.192459051452449, 11.192459051452449, 9.192459051452449, 6.192459051452449, 11.192459051452449, 11.192459051452449, 4.192459051452449, 4.192459051452449, 11.192459051452449, 7.192459051452449, 9.192459051452449, 7.192459051452449, 10.192459051452449, 3.192459051452449, 8.192459051452449, 7.192459051452449, 11.192459051452449, 10.192459051452449, 10.192459051452449, 2.192459051452449, 10.192459051452449, 8.192459051452449, 8.192459051452449, 9.192459051452449, 7.192459051452449, 11.192459051452449, 11.192459051452449, 5.192459051452449, 9.192459051452449, 5.192459051452449, 10.192459051452449, 11.192459051452449, 5.192459051452449, 4.192459051452449, 11.192459051452449, 5.192459051452449, 2.192459051452449, 9.192459051452449, 11.192459051452449, 7.192459051452449, 3.192459051452449, 5.192459051452449, 10.192459051452449, 2.192459051452449, 11.192459051452449, 4.192459051452449, 5.192459051452449, 11.192459051452449, 9.192459051452449, 7.192459051452449, 6.192459051452449, 9.192459051452449, 9.192459051452449, 7.192459051452449, 9.192459051452449, 8.192459051452449, 6.192459051452449, 10.192459051452449, 11.192459051452449, 8.192459051452449, 9.192459051452449, 7.192459051452449, 4.192459051452449, 7.192459051452449, 8.192459051452449, 6.192459051452449, 7.192459051452449, 9.192459051452449, 2.192459051452449, 5.192459051452449, 9.192459051452449, 11.192459051452449, 2.192459051452449, 7.192459051452449, 8.192459051452449, 7.192459051452449, 7.192459051452449, 2.192459051452449, 5.192459051452449, 8.192459051452449, 3.192459051452449, 11.192459051452449, 6.192459051452449, 11.192459051452449, 10.192459051452449, 11.192459051452449, 11.192459051452449, 2.192459051452449, 10.192459051452449, 5.192459051452449, 8.192459051452449, 11.192459051452449, 8.192459051452449, 11.192459051452449, 9.192459051452449, 9.192459051452449, 11.192459051452449, 6.192459051452449, 9.192459051452449, 9.192459051452449, 8.192459051452449, 2.192459051452449, 6.192459051452449, 4.192459051452449, 7.192459051452449, 11.192459051452449, 11.192459051452449, 8.192459051452449, 9.192459051452449, 11.192459051452449, 6.192459051452449, 11.192459051452449, 11.192459051452449, 5.192459051452449, 5.192459051452449, 10.192459051452449, 9.192459051452449, 9.192459051452449, 10.192459051452449, 7.192459051452449, 11.192459051452449, 7.192459051452449, 11.192459051452449, 4.192459051452449, 5.192459051452449, 9.192459051452449, 4.192459051452449, 11.192459051452449, 9.192459051452449, 11.192459051452449, 11.192459051452449, 7.192459051452449, 8.192459051452449, 10.192459051452449, 2.192459051452449, 9.192459051452449, 10.192459051452449, 7.192459051452449, 9.192459051452449, 9.192459051452449, 10.192459051452449, 5.192459051452449, 4.192459051452449, 4.192459051452449, 7.192459051452449, 11.192459051452449, 10.192459051452449, 9.192459051452449, 11.192459051452449, 2.192459051452449, 9.192459051452449, 8.192459051452449, 11.192459051452449, 7.192459051452449, 11.192459051452449, 9.192459051452449, 10.192459051452449, 8.192459051452449, 4.192459051452449, 11.192459051452449, 5.192459051452449, 9.192459051452449, 5.192459051452449, 9.192459051452449, 9.192459051452449, 4.192459051452449, 4.192459051452449, 10.192459051452449, 7.192459051452449, 2.192459051452449, 5.192459051452449, 11.192459051452449, 5.192459051452449, 3.192459051452449, 6.192459051452449, 5.192459051452449, 10.192459051452449, 6.192459051452449, 4.192459051452449, 8.192459051452449, 9.192459051452449, 11.192459051452449, 4.192459051452449, 11.192459051452449, 3.192459051452449, 11.192459051452449, 7.192459051452449, 8.192459051452449, 7.192459051452449, 10.192459051452449, 2.192459051452449, 6.192459051452449, 11.192459051452449, 11.192459051452449, 5.192459051452449, 5.192459051452449, 10.192459051452449, 11.192459051452449, 8.192459051452449, 6.192459051452449, 10.192459051452449, 5.192459051452449, 9.192459051452449, 9.192459051452449, 9.192459051452449, 9.192459051452449, 10.192459051452449, 5.192459051452449, 10.192459051452449, 10.192459051452449, 9.192459051452449, 3.192459051452449, 11.192459051452449, 8.192459051452449, 5.192459051452449, 5.192459051452449, 11.192459051452449, 7.192459051452449, 9.192459051452449, 8.192459051452449, 11.192459051452449, 9.192459051452449, 6.192459051452449, 11.192459051452449, 10.192459051452449, 10.192459051452449, 8.192459051452449, 8.192459051452449, 11.192459051452449, 7.192459051452449, 2.192459051452449, 11.192459051452449, 8.192459051452449, 8.192459051452449, 10.192459051452449, 3.192459051452449, 4.192459051452449, 11.192459051452449, 11.192459051452449, 10.192459051452449, 7.192459051452449, 11.192459051452449, 8.192459051452449, 11.192459051452449, 5.192459051452449, 5.192459051452449, 3.192459051452449, 9.192459051452449, 9.192459051452449, 10.192459051452449, 10.192459051452449, 5.192459051452449, 10.192459051452449, 11.192459051452449, 11.192459051452449, 9.192459051452449, 6.192459051452449, 11.192459051452449, 9.192459051452449, 9.192459051452449, 10.192459051452449, 11.192459051452449, 5.192459051452449, 9.192459051452449, 8.192459051452449, 4.192459051452449, 6.192459051452449, 3.192459051452449, 6.192459051452449, 8.192459051452449, 2.192459051452449, 8.192459051452449, 10.192459051452449, 3.192459051452449, 4.192459051452449, 9.192459051452449, 3.192459051452449, 5.192459051452449, 4.192459051452449, 10.192459051452449, 9.192459051452449, 10.192459051452449, 10.192459051452449, 8.192459051452449, 3.192459051452449, 11.192459051452449, 5.192459051452449, 6.192459051452449, 8.192459051452449, 8.192459051452449, 10.192459051452449, 6.192459051452449, 11.192459051452449, 11.192459051452449, 11.192459051452449, 9.192459051452449, 3.192459051452449, 11.192459051452449, 2.192459051452449, 8.192459051452449, 8.192459051452449, 8.192459051452449, 5.192459051452449, 2.192459051452449, 6.192459051452449, 8.192459051452449, 9.192459051452449, 2.192459051452449, 9.192459051452449, 10.192459051452449, 6.192459051452449, 2.192459051452449, 7.192459051452449, 10.192459051452449, 6.192459051452449, 10.192459051452449, 8.192459051452449, 2.192459051452449, 9.192459051452449, 6.192459051452449, 10.192459051452449, 11.192459051452449, 8.192459051452449, 6.192459051452449, 8.192459051452449, 5.192459051452449, 10.192459051452449, 7.192459051452449, 3.192459051452449, 5.192459051452449, 8.192459051452449, 4.192459051452449, 9.192459051452449, 6.192459051452449, 6.192459051452449, 4.192459051452449, 6.192459051452449, 10.192459051452449, 11.192459051452449, 6.192459051452449, 3.192459051452449, 4.192459051452449, 11.192459051452449, 6.192459051452449, 2.192459051452449, 7.192459051452449, 6.192459051452449, 10.192459051452449, 7.192459051452449, 11.192459051452449, 10.192459051452449, 3.192459051452449, 11.192459051452449, 8.192459051452449, 9.192459051452449, 7.192459051452449, 3.192459051452449, 9.192459051452449, 2.192459051452449, 8.192459051452449, 9.192459051452449, 8.192459051452449, 8.192459051452449, 8.192459051452449, 3.192459051452449, 7.192459051452449, 11.192459051452449, 8.192459051452449, 10.192459051452449, 7.192459051452449, 7.192459051452449, 3.192459051452449, 5.192459051452449, 10.192459051452449, 11.192459051452449, 8.192459051452449, 10.192459051452449, 10.192459051452449, 2.192459051452449, 9.192459051452449, 10.192459051452449, 6.192459051452449, 7.192459051452449, 11.192459051452449, 10.192459051452449, 6.192459051452449, 11.192459051452449, 9.192459051452449, 11.192459051452449, 8.192459051452449, 3.192459051452449, 4.192459051452449, 9.192459051452449, 5.192459051452449, 11.192459051452449, 3.192459051452449, 6.192459051452449, 5.192459051452449, 10.192459051452449, 5.192459051452449, 6.192459051452449, 11.192459051452449, 6.192459051452449, 10.192459051452449, 6.192459051452449, 11.192459051452449, 11.192459051452449, 5.192459051452449, 11.192459051452449, 8.192459051452449, 9.192459051452449, 7.192459051452449, 2.192459051452449, 10.192459051452449, 3.192459051452449, 9.192459051452449, 9.192459051452449, 5.192459051452449, 8.192459051452449, 11.192459051452449, 5.192459051452449, 3.192459051452449, 7.192459051452449, 8.192459051452449, 11.192459051452449, 10.192459051452449, 6.192459051452449, 11.192459051452449, 11.192459051452449, 10.192459051452449, 11.192459051452449, 2.192459051452449, 5.192459051452449, 10.192459051452449, 5.192459051452449, 10.192459051452449, 9.192459051452449, 9.192459051452449, 11.192459051452449, 9.192459051452449, 6.192459051452449, 8.192459051452449, 5.192459051452449, 9.192459051452449, 9.192459051452449, 11.192459051452449, 8.192459051452449, 7.192459051452449, 11.192459051452449, 5.192459051452449, 11.192459051452449, 3.192459051452449, 7.192459051452449, 2.192459051452449, 9.192459051452449, 10.192459051452449, 2.192459051452449, 9.192459051452449, 4.192459051452449, 11.192459051452449, 3.192459051452449, 3.192459051452449, 3.192459051452449, 6.192459051452449, 9.192459051452449, 4.192459051452449, 8.192459051452449, 11.192459051452449, 7.192459051452449, 2.192459051452449, 6.192459051452449, 11.192459051452449, 4.192459051452449, 5.192459051452449, 10.192459051452449, 9.192459051452449, 8.192459051452449, 10.192459051452449, 6.192459051452449, 4.192459051452449, 10.192459051452449, 8.192459051452449, 9.192459051452449, 7.192459051452449, 11.192459051452449, 8.192459051452449, 4.192459051452449, 10.192459051452449, 2.192459051452449, 9.192459051452449, 9.192459051452449, 10.192459051452449, 7.192459051452449, 5.192459051452449, 11.192459051452449, 7.192459051452449, 10.192459051452449, 10.192459051452449, 5.192459051452449, 9.192459051452449, 11.192459051452449, 10.192459051452449, 10.192459051452449, 7.192459051452449, 11.192459051452449, 11.192459051452449, 11.192459051452449, 11.192459051452449, 7.192459051452449, 9.192459051452449, 9.192459051452449, 9.192459051452449, 10.192459051452449, 7.192459051452449, 9.192459051452449, 9.192459051452449, 8.192459051452449, 6.192459051452449, 6.192459051452449, 11.192459051452449, 7.192459051452449, 10.192459051452449, 10.192459051452449, 7.192459051452449, 11.192459051452449, 4.192459051452449, 4.192459051452449, 2.192459051452449, 6.192459051452449, 8.192459051452449, 7.192459051452449, 4.192459051452449, 10.192459051452449, 8.192459051452449, 4.192459051452449, 10.192459051452449, 6.192459051452449, 11.192459051452449, 2.192459051452449, 8.192459051452449, 4.192459051452449, 11.192459051452449, 9.192459051452449, 11.192459051452449, 10.192459051452449, 10.192459051452449, 9.192459051452449, 5.192459051452449, 5.192459051452449, 4.192459051452449, 5.192459051452449, 8.192459051452449, 9.192459051452449, 11.192459051452449, 11.192459051452449, 8.192459051452449, 5.192459051452449, 5.192459051452449, 5.192459051452449, 11.192459051452449, 2.192459051452449, 8.192459051452449, 10.192459051452449, 10.192459051452449, 9.192459051452449, 6.192459051452449, 11.192459051452449, 3.192459051452449, 10.192459051452449, 9.192459051452449, 5.192459051452449, 5.192459051452449, 4.192459051452449, 10.192459051452449, 7.192459051452449, 11.192459051452449, 10.192459051452449, 8.192459051452449, 5.192459051452449, 11.192459051452449, 7.192459051452449, 10.192459051452449, 11.192459051452449, 9.192459051452449, 11.192459051452449, 8.192459051452449, 8.192459051452449, 5.192459051452449, 10.192459051452449, 3.192459051452449, 7.192459051452449, 11.192459051452449, 8.192459051452449, 11.192459051452449, 8.192459051452449, 6.192459051452449, 10.192459051452449, 7.192459051452449, 5.192459051452449, 9.192459051452449, 10.192459051452449, 3.192459051452449, 9.192459051452449, 9.192459051452449, 6.192459051452449, 11.192459051452449, 9.192459051452449, 6.192459051452449, 6.192459051452449, 8.192459051452449, 10.192459051452449, 8.192459051452449, 10.192459051452449, 11.192459051452449, 7.192459051452449, 2.192459051452449, 4.192459051452449, 2.192459051452449, 10.192459051452449, 7.192459051452449, 10.192459051452449, 6.192459051452449, 11.192459051452449, 6.192459051452449, 5.192459051452449, 5.192459051452449, 9.192459051452449, 10.192459051452449, 3.192459051452449, 5.192459051452449, 5.192459051452449, 5.192459051452449, 6.192459051452449, 10.192459051452449, 7.192459051452449, 8.192459051452449, 11.192459051452449, 7.192459051452449, 10.192459051452449, 11.192459051452449, 7.192459051452449, 10.192459051452449, 11.192459051452449, 10.192459051452449, 11.192459051452449, 6.192459051452449, 11.192459051452449, 7.192459051452449, 8.192459051452449, 9.192459051452449, 10.192459051452449, 11.192459051452449, 10.192459051452449, 2.192459051452449, 5.192459051452449, 7.192459051452449, 11.192459051452449, 11.192459051452449, 7.192459051452449, 4.192459051452449, 6.192459051452449, 5.192459051452449, 7.192459051452449, 5.192459051452449, 11.192459051452449, 6.192459051452449, 2.192459051452449, 3.192459051452449, 6.192459051452449, 3.192459051452449, 3.192459051452449, 10.192459051452449, 11.192459051452449, 5.192459051452449, 9.192459051452449, 11.192459051452449, 9.192459051452449, 11.192459051452449, 4.192459051452449, 4.192459051452449, 5.192459051452449, 6.192459051452449, 11.192459051452449, 5.192459051452449, 2.192459051452449, 11.192459051452449, 2.192459051452449, 6.192459051452449, 9.192459051452449, 9.192459051452449, 6.192459051452449, 11.192459051452449, 11.192459051452449, 11.192459051452449, 3.192459051452449, 10.192459051452449, 5.192459051452449, 8.192459051452449, 5.192459051452449, 6.192459051452449, 8.192459051452449, 10.192459051452449, 2.192459051452449, 11.192459051452449, 11.192459051452449, 5.192459051452449, 5.192459051452449, 7.192459051452449, 10.192459051452449, 8.192459051452449, 2.192459051452449, 5.192459051452449, 11.192459051452449, 4.192459051452449, 11.192459051452449, 9.192459051452449, 2.192459051452449, 8.192459051452449, 11.192459051452449, 9.192459051452449, 11.192459051452449, 9.192459051452449, 8.192459051452449, 10.192459051452449, 2.192459051452449, 10.192459051452449, 10.192459051452449, 5.192459051452449, 8.192459051452449, 8.192459051452449, 9.192459051452449, 7.192459051452449, 7.192459051452449, 10.192459051452449, 9.192459051452449, 10.192459051452449, 7.192459051452449, 5.192459051452449, 7.192459051452449, 10.192459051452449, 8.192459051452449, 11.192459051452449, 5.192459051452449, 6.192459051452449, 7.192459051452449, 6.192459051452449, 11.192459051452449, 5.192459051452449, 3.192459051452449, 11.192459051452449, 11.192459051452449, 7.192459051452449, 9.192459051452449, 6.192459051452449, 9.192459051452449, 11.192459051452449, 5.192459051452449, 6.192459051452449, 7.192459051452449, 6.192459051452449, 5.192459051452449, 8.192459051452449, 11.192459051452449, 3.192459051452449, 7.192459051452449, 2.192459051452449, 8.192459051452449, 9.192459051452449, 11.192459051452449, 5.192459051452449, 3.192459051452449, 10.192459051452449, 7.192459051452449, 9.192459051452449, 8.192459051452449, 11.192459051452449, 9.192459051452449, 11.192459051452449, 6.192459051452449, 4.192459051452449, 10.192459051452449, 10.192459051452449, 11.192459051452449, 2.192459051452449, 11.192459051452449, 4.192459051452449, 6.192459051452449, 7.192459051452449, 4.192459051452449, 10.192459051452449, 11.192459051452449, 3.192459051452449, 10.192459051452449, 6.192459051452449, 11.192459051452449, 6.192459051452449, 6.192459051452449, 8.192459051452449, 2.192459051452449, 5.192459051452449, 9.192459051452449, 8.192459051452449, 5.192459051452449, 8.192459051452449, 11.192459051452449, 11.192459051452449, 10.192459051452449, 5.192459051452449, 11.192459051452449, 2.192459051452449, 5.192459051452449, 11.192459051452449, 9.192459051452449, 6.192459051452449, 9.192459051452449, 8.192459051452449, 10.192459051452449, 3.192459051452449, 8.192459051452449, 5.192459051452449, 2.192459051452449, 7.192459051452449, 9.192459051452449, 3.192459051452449, 4.192459051452449, 11.192459051452449, 8.192459051452449, 7.192459051452449, 9.192459051452449, 3.192459051452449, 9.192459051452449, 5.192459051452449, 10.192459051452449, 11.192459051452449, 6.192459051452449, 8.192459051452449, 10.192459051452449, 2.192459051452449, 10.192459051452449, 5.192459051452449, 8.192459051452449, 11.192459051452449, 10.192459051452449, 10.192459051452449, 11.192459051452449, 7.192459051452449, 6.192459051452449, 6.192459051452449, 11.192459051452449, 7.192459051452449, 11.192459051452449, 7.192459051452449, 11.192459051452449, 11.192459051452449, 5.192459051452449, 11.192459051452449, 4.192459051452449, 2.192459051452449, 11.192459051452449, 4.192459051452449, 6.192459051452449, 5.192459051452449, 5.192459051452449, 11.192459051452449, 4.192459051452449, 3.192459051452449, 11.192459051452449, 5.192459051452449, 3.192459051452449, 8.192459051452449, 4.192459051452449, 10.192459051452449, 6.192459051452449, 10.192459051452449, 9.192459051452449, 10.192459051452449, 7.192459051452449, 2.192459051452449, 4.192459051452449, 8.192459051452449, 8.192459051452449, 11.192459051452449, 11.192459051452449, 9.192459051452449, 3.192459051452449, 4.192459051452449, 9.192459051452449, 7.192459051452449, 7.192459051452449, 2.192459051452449, 3.192459051452449, 10.192459051452449, 8.192459051452449, 4.192459051452449, 11.192459051452449, 6.192459051452449, 7.192459051452449, 11.192459051452449, 3.192459051452449, 10.192459051452449, 11.192459051452449, 3.192459051452449, 5.192459051452449, 3.192459051452449, 2.192459051452449, 5.192459051452449, 3.192459051452449, 10.192459051452449, 11.192459051452449, 10.192459051452449, 6.192459051452449, 6.192459051452449, 5.192459051452449, 11.192459051452449, 9.192459051452449, 11.192459051452449, 8.192459051452449, 5.192459051452449, 11.192459051452449, 6.192459051452449, 9.192459051452449, 8.192459051452449, 9.192459051452449, 11.192459051452449, 11.192459051452449, 9.192459051452449, 11.192459051452449, 11.192459051452449, 10.192459051452449, 11.192459051452449, 3.192459051452449, 10.192459051452449, 11.192459051452449, 6.192459051452449, 3.192459051452449, 10.192459051452449, 11.192459051452449, 11.192459051452449, 9.192459051452449, 8.192459051452449, 11.192459051452449, 7.192459051452449, 11.192459051452449, 11.192459051452449, 2.192459051452449, 11.192459051452449, 7.192459051452449, 11.192459051452449, 11.192459051452449, 11.192459051452449, 6.192459051452449, 11.192459051452449, 2.192459051452449, 9.192459051452449, 7.192459051452449, 11.192459051452449, 11.192459051452449, 11.192459051452449, 7.192459051452449, 8.192459051452449, 10.192459051452449, 11.192459051452449, 11.192459051452449, 9.192459051452449, 9.192459051452449, 8.192459051452449, 6.192459051452449, 9.192459051452449, 8.192459051452449, 3.192459051452449, 5.192459051452449, 2.192459051452449, 10.192459051452449, 4.192459051452449, 8.192459051452449, 8.192459051452449, 8.192459051452449, 9.192459051452449, 6.192459051452449, 11.192459051452449, 11.192459051452449, 3.192459051452449, 10.192459051452449, 7.192459051452449, 11.192459051452449, 8.192459051452449, 9.192459051452449, 3.192459051452449, 3.192459051452449, 6.192459051452449, 7.192459051452449, 3.192459051452449, 11.192459051452449, 3.192459051452449, 5.192459051452449, 8.192459051452449, 3.192459051452449, 11.192459051452449, 2.192459051452449, 5.192459051452449, 8.192459051452449, 9.192459051452449, 6.192459051452449, 9.192459051452449, 9.192459051452449, 6.192459051452449, 4.192459051452449, 9.192459051452449, 2.192459051452449, 6.192459051452449, 6.192459051452449, 4.192459051452449, 4.192459051452449, 5.192459051452449, 9.192459051452449, 6.192459051452449, 6.192459051452449, 5.192459051452449, 2.192459051452449, 10.192459051452449, 9.192459051452449, 7.192459051452449, 9.192459051452449, 9.192459051452449, 7.192459051452449, 11.192459051452449, 9.192459051452449, 11.192459051452449, 10.192459051452449, 4.192459051452449, 9.192459051452449, 4.192459051452449, 11.192459051452449, 10.192459051452449, 6.192459051452449, 3.192459051452449, 9.192459051452449, 6.192459051452449, 9.192459051452449, 9.192459051452449, 5.192459051452449, 8.192459051452449, 10.192459051452449, 7.192459051452449, 3.192459051452449, 5.192459051452449, 11.192459051452449, 8.192459051452449, 9.192459051452449, 2.192459051452449, 7.192459051452449, 7.192459051452449, 11.192459051452449, 8.192459051452449, 3.192459051452449, 6.192459051452449, 11.192459051452449, 5.192459051452449, 9.192459051452449, 10.192459051452449, 8.192459051452449, 11.192459051452449, 7.192459051452449, 2.192459051452449, 9.192459051452449, 7.192459051452449, 11.192459051452449, 10.192459051452449, 3.192459051452449, 4.192459051452449, 9.192459051452449, 11.192459051452449, 7.192459051452449, 11.192459051452449, 2.192459051452449, 10.192459051452449, 10.192459051452449, 7.192459051452449, 10.192459051452449, 8.192459051452449, 10.192459051452449, 7.192459051452449, 11.192459051452449, 11.192459051452449, 8.192459051452449, 9.192459051452449, 10.192459051452449, 4.192459051452449, 9.192459051452449, 4.192459051452449, 5.192459051452449, 2.192459051452449, 11.192459051452449, 6.192459051452449, 5.192459051452449, 10.192459051452449, 10.192459051452449, 8.192459051452449, 7.192459051452449, 5.192459051452449, 3.192459051452449, 5.192459051452449, 10.192459051452449, 11.192459051452449, 5.192459051452449, 6.192459051452449, 8.192459051452449, 4.192459051452449, 9.192459051452449, 11.192459051452449, 8.192459051452449, 5.192459051452449, 8.192459051452449, 11.192459051452449, 11.192459051452449, 10.192459051452449, 11.192459051452449, 5.192459051452449, 11.192459051452449, 3.192459051452449, 3.192459051452449, 9.192459051452449, 11.192459051452449, 9.192459051452449, 3.192459051452449, 2.192459051452449, 11.192459051452449, 11.192459051452449, 4.192459051452449, 10.192459051452449, 10.192459051452449, 6.192459051452449, 9.192459051452449, 11.192459051452449, 10.192459051452449, 7.192459051452449, 9.192459051452449, 8.192459051452449, 7.192459051452449, 5.192459051452449, 10.192459051452449, 5.192459051452449, 8.192459051452449, 10.192459051452449, 11.192459051452449, 4.192459051452449, 3.192459051452449, 8.192459051452449, 2.192459051452449, 5.192459051452449, 9.192459051452449, 2.192459051452449, 8.192459051452449, 10.192459051452449, 11.192459051452449, 6.192459051452449, 10.192459051452449, 11.192459051452449, 8.192459051452449, 7.192459051452449, 7.192459051452449, 8.192459051452449, 3.192459051452449, 7.192459051452449, 9.192459051452449, 10.192459051452449, 4.192459051452449, 11.192459051452449, 7.192459051452449, 4.192459051452449, 8.192459051452449, 7.192459051452449, 6.192459051452449, 5.192459051452449, 8.192459051452449, 6.192459051452449, 11.192459051452449, 7.192459051452449, 8.192459051452449, 11.192459051452449, 11.192459051452449, 10.192459051452449, 8.192459051452449, 9.192459051452449, 10.192459051452449, 5.192459051452449, 6.192459051452449, 11.192459051452449, 4.192459051452449, 8.192459051452449, 10.192459051452449, 10.192459051452449, 3.192459051452449, 10.192459051452449, 11.192459051452449, 3.192459051452449, 6.192459051452449, 7.192459051452449, 11.192459051452449, 9.192459051452449, 8.192459051452449, 7.192459051452449, 5.192459051452449, 4.192459051452449, 2.192459051452449, 10.192459051452449, 9.192459051452449, 5.192459051452449, 11.192459051452449, 11.192459051452449, 6.192459051452449, 8.192459051452449, 2.192459051452449, 11.192459051452449, 2.192459051452449, 11.192459051452449, 7.192459051452449, 10.192459051452449, 8.192459051452449, 8.192459051452449, 3.192459051452449, 4.192459051452449, 11.192459051452449, 3.192459051452449, 2.192459051452449, 5.192459051452449, 11.192459051452449, 11.192459051452449, 7.192459051452449, 8.192459051452449, 2.192459051452449, 11.192459051452449, 7.192459051452449, 6.192459051452449, 5.192459051452449, 11.192459051452449, 4.192459051452449, 11.192459051452449, 7.192459051452449, 11.192459051452449, 7.192459051452449, 8.192459051452449, 4.192459051452449, 3.192459051452449, 9.192459051452449, 5.192459051452449, 10.192459051452449, 2.192459051452449, 4.192459051452449, 11.192459051452449, 10.192459051452449, 2.192459051452449, 8.192459051452449, 11.192459051452449, 4.192459051452449, 10.192459051452449, 10.192459051452449, 7.192459051452449, 10.192459051452449, 6.192459051452449, 10.192459051452449, 4.192459051452449, 7.192459051452449, 7.192459051452449, 7.192459051452449, 4.192459051452449, 6.192459051452449, 3.192459051452449, 11.192459051452449, 11.192459051452449, 11.192459051452449, 6.192459051452449, 7.192459051452449, 5.192459051452449, 11.192459051452449, 4.192459051452449, 7.192459051452449, 4.192459051452449, 11.192459051452449, 11.192459051452449, 9.192459051452449, 9.192459051452449, 7.192459051452449, 11.192459051452449, 11.192459051452449, 11.192459051452449, 11.192459051452449, 11.192459051452449, 10.192459051452449, 4.192459051452449, 10.192459051452449, 6.192459051452449, 11.192459051452449, 3.192459051452449, 6.192459051452449, 6.192459051452449, 6.192459051452449, 11.192459051452449, 4.192459051452449, 10.192459051452449, 5.192459051452449, 3.192459051452449, 6.192459051452449, 3.192459051452449, 6.192459051452449, 11.192459051452449, 9.192459051452449, 6.192459051452449, 7.192459051452449, 7.192459051452449, 11.192459051452449, 10.192459051452449, 6.192459051452449, 11.192459051452449, 9.192459051452449, 11.192459051452449, 10.192459051452449, 9.192459051452449, 6.192459051452449, 10.192459051452449, 5.192459051452449, 8.192459051452449, 4.192459051452449, 6.192459051452449, 6.192459051452449, 7.192459051452449, 11.192459051452449, 6.192459051452449, 3.192459051452449, 4.192459051452449, 3.192459051452449, 5.192459051452449, 4.192459051452449, 6.192459051452449, 5.192459051452449, 2.192459051452449, 5.192459051452449, 6.192459051452449, 2.192459051452449, 10.192459051452449, 8.192459051452449, 7.192459051452449, 10.192459051452449, 6.192459051452449, 8.192459051452449, 5.192459051452449, 5.192459051452449, 10.192459051452449, 9.192459051452449, 8.192459051452449, 10.192459051452449, 11.192459051452449, 8.192459051452449, 8.192459051452449, 10.192459051452449, 7.192459051452449, 7.192459051452449, 10.192459051452449, 9.192459051452449, 6.192459051452449, 4.192459051452449, 9.192459051452449, 9.192459051452449, 7.192459051452449, 10.192459051452449, 2.192459051452449, 10.192459051452449, 10.192459051452449, 8.192459051452449, 7.192459051452449, 4.192459051452449, 10.192459051452449, 10.192459051452449, 2.192459051452449, 9.192459051452449, 10.192459051452449, 5.192459051452449, 8.192459051452449, 11.192459051452449, 4.192459051452449, 11.192459051452449, 8.192459051452449, 4.192459051452449, 11.192459051452449, 7.192459051452449, 7.192459051452449, 8.192459051452449, 6.192459051452449, 9.192459051452449, 11.192459051452449, 9.192459051452449, 11.192459051452449, 11.192459051452449, 7.192459051452449, 11.192459051452449, 8.192459051452449, 11.192459051452449, 8.192459051452449, 2.192459051452449, 9.192459051452449, 11.192459051452449, 11.192459051452449, 8.192459051452449, 7.192459051452449, 8.192459051452449, 3.192459051452449, 11.192459051452449, 7.192459051452449, 7.192459051452449, 7.192459051452449, 11.192459051452449, 2.192459051452449, 6.192459051452449, 9.192459051452449, 11.192459051452449, 11.192459051452449, 8.192459051452449, 8.192459051452449, 2.192459051452449, 9.192459051452449, 4.192459051452449, 10.192459051452449, 3.192459051452449, 2.192459051452449, 9.192459051452449, 11.192459051452449, 3.192459051452449, 3.192459051452449, 11.192459051452449, 3.192459051452449, 7.192459051452449, 9.192459051452449, 11.192459051452449, 7.192459051452449, 8.192459051452449, 9.192459051452449, 11.192459051452449, 2.192459051452449, 10.192459051452449, 8.192459051452449, 2.192459051452449, 10.192459051452449, 11.192459051452449, 10.192459051452449, 3.192459051452449, 5.192459051452449, 2.192459051452449, 8.192459051452449, 7.192459051452449, 11.192459051452449, 9.192459051452449, 8.192459051452449, 9.192459051452449, 11.192459051452449, 4.192459051452449, 8.192459051452449, 4.192459051452449, 8.192459051452449, 10.192459051452449, 10.192459051452449, 6.192459051452449, 10.192459051452449, 9.192459051452449, 6.192459051452449, 2.192459051452449, 6.192459051452449, 6.192459051452449, 11.192459051452449, 9.192459051452449, 9.192459051452449, 9.192459051452449, 9.192459051452449, 7.192459051452449, 11.192459051452449, 7.192459051452449, 10.192459051452449, 8.192459051452449, 11.192459051452449, 4.192459051452449, 5.192459051452449, 2.192459051452449, 11.192459051452449, 8.192459051452449, 10.192459051452449, 4.192459051452449, 5.192459051452449, 3.192459051452449, 5.192459051452449, 8.192459051452449, 10.192459051452449, 11.192459051452449, 10.192459051452449, 10.192459051452449, 8.192459051452449, 9.192459051452449, 11.192459051452449, 11.192459051452449, 3.192459051452449, 7.192459051452449, 6.192459051452449, 8.192459051452449, 11.192459051452449, 2.192459051452449, 11.192459051452449, 10.192459051452449, 2.192459051452449, 8.192459051452449, 7.192459051452449, 11.192459051452449, 9.192459051452449, 8.192459051452449, 11.192459051452449, 9.192459051452449, 4.192459051452449, 2.192459051452449, 11.192459051452449, 8.192459051452449, 10.192459051452449, 2.192459051452449, 11.192459051452449, 11.192459051452449, 6.192459051452449, 2.192459051452449, 6.192459051452449, 3.192459051452449, 8.192459051452449, 11.192459051452449, 9.192459051452449, 10.192459051452449, 11.192459051452449, 6.192459051452449, 7.192459051452449, 8.192459051452449, 9.192459051452449, 4.192459051452449, 5.192459051452449, 7.192459051452449, 8.192459051452449, 7.192459051452449, 7.192459051452449, 9.192459051452449, 10.192459051452449, 10.192459051452449, 8.192459051452449, 10.192459051452449, 10.192459051452449, 10.192459051452449, 4.192459051452449, 9.192459051452449, 10.192459051452449, 10.192459051452449, 11.192459051452449, 11.192459051452449, 6.192459051452449, 3.192459051452449, 7.192459051452449, 3.192459051452449, 11.192459051452449, 7.192459051452449, 2.192459051452449, 11.192459051452449, 8.192459051452449, 8.192459051452449, 4.192459051452449, 6.192459051452449, 10.192459051452449, 11.192459051452449, 10.192459051452449, 5.192459051452449, 2.192459051452449, 8.192459051452449, 11.192459051452449, 11.192459051452449, 10.192459051452449, 11.192459051452449, 10.192459051452449, 2.192459051452449, 10.192459051452449, 8.192459051452449, 5.192459051452449, 4.192459051452449, 3.192459051452449, 2.192459051452449, 3.192459051452449, 9.192459051452449, 11.192459051452449, 11.192459051452449, 8.192459051452449, 5.192459051452449, 4.192459051452449, 6.192459051452449, 4.192459051452449, 9.192459051452449, 6.192459051452449, 11.192459051452449, 9.192459051452449, 6.192459051452449, 9.192459051452449, 11.192459051452449, 8.192459051452449, 4.192459051452449, 7.192459051452449, 4.192459051452449, 10.192459051452449, 7.192459051452449, 10.192459051452449, 6.192459051452449, 7.192459051452449, 10.192459051452449, 11.192459051452449, 7.192459051452449, 10.192459051452449, 3.192459051452449, 7.192459051452449, 6.192459051452449, 11.192459051452449, 11.192459051452449, 6.192459051452449, 9.192459051452449, 11.192459051452449, 10.192459051452449, 11.192459051452449, 4.192459051452449, 8.192459051452449, 4.192459051452449, 4.192459051452449, 8.192459051452449, 11.192459051452449, 10.192459051452449, 7.192459051452449, 3.192459051452449, 8.192459051452449, 5.192459051452449, 10.192459051452449, 8.192459051452449, 9.192459051452449, 11.192459051452449, 4.192459051452449, 9.192459051452449, 7.192459051452449, 11.192459051452449, 6.192459051452449, 7.192459051452449, 9.192459051452449, 7.192459051452449, 7.192459051452449, 3.192459051452449, 5.192459051452449, 11.192459051452449, 4.192459051452449, 3.192459051452449, 10.192459051452449, 10.192459051452449, 10.192459051452449, 7.192459051452449, 7.192459051452449, 9.192459051452449, 8.192459051452449, 8.192459051452449, 4.192459051452449, 2.192459051452449, 11.192459051452449, 8.192459051452449, 8.192459051452449, 7.192459051452449, 7.192459051452449, 11.192459051452449, 7.192459051452449, 11.192459051452449, 10.192459051452449, 2.192459051452449, 11.192459051452449, 7.192459051452449, 9.192459051452449, 5.192459051452449, 11.192459051452449, 3.192459051452449, 11.192459051452449, 11.192459051452449, 9.192459051452449, 3.192459051452449, 6.192459051452449, 8.192459051452449, 11.192459051452449, 7.192459051452449, 9.192459051452449, 11.192459051452449, 6.192459051452449, 11.192459051452449, 9.192459051452449, 9.192459051452449, 8.192459051452449, 11.192459051452449, 4.192459051452449, 3.192459051452449, 6.192459051452449, 7.192459051452449, 11.192459051452449, 11.192459051452449, 6.192459051452449, 3.192459051452449, 7.192459051452449, 2.192459051452449, 3.192459051452449, 7.192459051452449, 11.192459051452449, 5.192459051452449, 9.192459051452449, 7.192459051452449, 11.192459051452449, 9.192459051452449, 2.192459051452449, 8.192459051452449, 5.192459051452449, 10.192459051452449, 9.192459051452449, 3.192459051452449, 9.192459051452449, 7.192459051452449, 10.192459051452449, 2.192459051452449, 7.192459051452449, 9.192459051452449, 11.192459051452449, 11.192459051452449, 2.192459051452449, 11.192459051452449, 11.192459051452449, 2.192459051452449, 3.192459051452449, 6.192459051452449, 10.192459051452449, 11.192459051452449, 3.192459051452449, 9.192459051452449, 6.192459051452449, 9.192459051452449, 11.192459051452449, 11.192459051452449, 8.192459051452449, 6.192459051452449, 4.192459051452449, 9.192459051452449, 8.192459051452449, 10.192459051452449, 11.192459051452449, 9.192459051452449, 2.192459051452449, 2.192459051452449, 11.192459051452449, 11.192459051452449, 10.192459051452449, 4.192459051452449, 7.192459051452449, 4.192459051452449, 11.192459051452449, 5.192459051452449, 10.192459051452449, 10.192459051452449, 10.192459051452449, 5.192459051452449, 11.192459051452449, 5.192459051452449, 11.192459051452449, 6.192459051452449, 11.192459051452449, 11.192459051452449, 11.192459051452449, 3.192459051452449, 9.192459051452449, 10.192459051452449, 8.192459051452449, 3.192459051452449, 2.192459051452449, 6.192459051452449, 11.192459051452449, 10.192459051452449, 6.192459051452449, 7.192459051452449, 11.192459051452449, 10.192459051452449, 10.192459051452449, 11.192459051452449, 3.192459051452449, 10.192459051452449, 10.192459051452449, 4.192459051452449, 9.192459051452449, 8.192459051452449, 11.192459051452449, 5.192459051452449, 6.192459051452449, 9.192459051452449, 8.192459051452449, 11.192459051452449, 9.192459051452449, 11.192459051452449, 10.192459051452449, 6.192459051452449, 4.192459051452449, 7.192459051452449, 8.192459051452449, 6.192459051452449, 5.192459051452449, 9.192459051452449, 6.192459051452449, 9.192459051452449, 5.192459051452449, 10.192459051452449, 9.192459051452449, 9.192459051452449, 10.192459051452449, 7.192459051452449, 7.192459051452449, 9.192459051452449, 10.192459051452449, 11.192459051452449, 4.192459051452449, 10.192459051452449, 10.192459051452449, 10.192459051452449, 7.192459051452449, 8.192459051452449, 7.192459051452449, 7.192459051452449, 6.192459051452449, 5.192459051452449, 9.192459051452449, 4.192459051452449, 5.192459051452449, 8.192459051452449, 9.192459051452449, 10.192459051452449, 9.192459051452449, 10.192459051452449, 5.192459051452449, 10.192459051452449, 6.192459051452449, 11.192459051452449, 2.192459051452449, 8.192459051452449, 6.192459051452449, 9.192459051452449, 3.192459051452449, 11.192459051452449, 3.192459051452449, 11.192459051452449, 6.192459051452449, 9.192459051452449, 11.192459051452449, 9.192459051452449, 5.192459051452449, 5.192459051452449, 11.192459051452449, 9.192459051452449, 3.192459051452449, 6.192459051452449, 5.192459051452449, 11.192459051452449, 11.192459051452449, 10.192459051452449, 8.192459051452449, 7.192459051452449, 9.192459051452449, 9.192459051452449, 2.192459051452449, 10.192459051452449, 2.192459051452449, 8.192459051452449, 10.192459051452449, 6.192459051452449, 5.192459051452449, 8.192459051452449, 6.192459051452449, 9.192459051452449, 11.192459051452449, 11.192459051452449, 4.192459051452449, 9.192459051452449, 7.192459051452449, 9.192459051452449, 2.192459051452449, 5.192459051452449, 10.192459051452449, 8.192459051452449, 4.192459051452449, 2.192459051452449, 9.192459051452449, 8.192459051452449, 8.192459051452449, 8.192459051452449, 9.192459051452449, 8.192459051452449, 4.192459051452449, 11.192459051452449, 8.192459051452449, 9.192459051452449, 10.192459051452449, 11.192459051452449, 10.192459051452449, 11.192459051452449, 10.192459051452449, 6.192459051452449, 9.192459051452449, 3.192459051452449, 8.192459051452449, 9.192459051452449, 8.192459051452449, 10.192459051452449, 6.192459051452449, 10.192459051452449, 6.192459051452449, 6.192459051452449, 11.192459051452449, 11.192459051452449, 10.192459051452449, 7.192459051452449, 10.192459051452449, 10.192459051452449, 8.192459051452449, 7.192459051452449, 7.192459051452449, 2.192459051452449, 11.192459051452449, 11.192459051452449, 6.192459051452449, 4.192459051452449, 6.192459051452449, 9.192459051452449, 4.192459051452449, 7.192459051452449, 8.192459051452449, 4.192459051452449, 5.192459051452449, 11.192459051452449, 8.192459051452449, 3.192459051452449, 5.192459051452449, 10.192459051452449, 5.192459051452449, 10.192459051452449, 7.192459051452449, 11.192459051452449, 3.192459051452449, 8.192459051452449, 6.192459051452449, 11.192459051452449, 7.192459051452449, 4.192459051452449, 4.192459051452449, 5.192459051452449, 3.192459051452449, 10.192459051452449, 9.192459051452449, 9.192459051452449, 10.192459051452449, 6.192459051452449, 11.192459051452449, 11.192459051452449, 11.192459051452449, 10.192459051452449, 11.192459051452449, 10.192459051452449, 9.192459051452449, 4.192459051452449, 10.192459051452449, 4.192459051452449, 11.192459051452449, 9.192459051452449, 10.192459051452449, 6.192459051452449, 7.192459051452449, 8.192459051452449, 7.192459051452449, 9.192459051452449, 10.192459051452449, 10.192459051452449, 11.192459051452449, 7.192459051452449, 10.192459051452449, 11.192459051452449, 10.192459051452449, 10.192459051452449, 10.192459051452449, 11.192459051452449, 8.192459051452449, 9.192459051452449, 4.192459051452449, 10.192459051452449, 5.192459051452449, 8.192459051452449, 8.192459051452449, 4.192459051452449, 6.192459051452449, 9.192459051452449, 10.192459051452449, 8.192459051452449, 11.192459051452449, 3.192459051452449, 7.192459051452449, 8.192459051452449, 3.192459051452449, 11.192459051452449, 10.192459051452449, 9.192459051452449, 9.192459051452449, 6.192459051452449, 11.192459051452449, 4.192459051452449, 7.192459051452449, 4.192459051452449, 6.192459051452449, 8.192459051452449, 7.192459051452449, 10.192459051452449, 10.192459051452449, 11.192459051452449, 3.192459051452449, 10.192459051452449, 11.192459051452449, 11.192459051452449, 10.192459051452449, 11.192459051452449, 9.192459051452449, 8.192459051452449, 11.192459051452449, 9.192459051452449, 7.192459051452449, 8.192459051452449, 4.192459051452449, 9.192459051452449, 7.192459051452449, 8.192459051452449, 10.192459051452449, 4.192459051452449, 5.192459051452449, 8.192459051452449, 3.192459051452449, 2.192459051452449, 11.192459051452449, 11.192459051452449, 10.192459051452449, 10.192459051452449, 11.192459051452449, 5.192459051452449, 6.192459051452449, 10.192459051452449, 6.192459051452449, 2.192459051452449, 8.192459051452449, 11.192459051452449, 10.192459051452449, 4.192459051452449, 9.192459051452449, 7.192459051452449, 2.192459051452449, 7.192459051452449, 8.192459051452449, 2.192459051452449, 5.192459051452449, 8.192459051452449, 10.192459051452449, 11.192459051452449, 10.192459051452449, 11.192459051452449, 10.192459051452449, 8.192459051452449, 11.192459051452449, 9.192459051452449, 3.192459051452449, 8.192459051452449, 7.192459051452449, 3.192459051452449, 10.192459051452449, 7.192459051452449, 2.192459051452449, 10.192459051452449, 4.192459051452449, 9.192459051452449, 10.192459051452449, 10.192459051452449, 9.192459051452449, 8.192459051452449, 10.192459051452449, 5.192459051452449, 11.192459051452449, 7.192459051452449, 9.192459051452449, 11.192459051452449, 3.192459051452449, 6.192459051452449, 10.192459051452449, 11.192459051452449, 8.192459051452449, 6.192459051452449, 4.192459051452449, 4.192459051452449, 6.192459051452449, 11.192459051452449, 9.192459051452449, 6.192459051452449, 9.192459051452449, 3.192459051452449, 3.192459051452449, 10.192459051452449, 8.192459051452449, 2.192459051452449, 5.192459051452449, 3.192459051452449, 7.192459051452449, 8.192459051452449, 9.192459051452449, 11.192459051452449, 8.192459051452449, 7.192459051452449, 11.192459051452449, 9.192459051452449, 10.192459051452449, 8.192459051452449, 11.192459051452449, 10.192459051452449, 8.192459051452449, 7.192459051452449, 10.192459051452449, 3.192459051452449, 10.192459051452449, 11.192459051452449, 7.192459051452449, 11.192459051452449, 11.192459051452449, 9.192459051452449, 11.192459051452449, 11.192459051452449, 7.192459051452449, 11.192459051452449, 11.192459051452449, 6.192459051452449, 11.192459051452449, 8.192459051452449, 9.192459051452449, 2.192459051452449, 4.192459051452449, 8.192459051452449, 11.192459051452449, 10.192459051452449, 8.192459051452449, 6.192459051452449, 2.192459051452449, 11.192459051452449, 5.192459051452449, 10.192459051452449, 11.192459051452449, 7.192459051452449, 4.192459051452449, 4.192459051452449, 9.192459051452449, 4.192459051452449, 11.192459051452449, 8.192459051452449, 11.192459051452449, 8.192459051452449, 9.192459051452449, 8.192459051452449, 6.192459051452449, 8.192459051452449, 9.192459051452449, 10.192459051452449, 3.192459051452449, 10.192459051452449, 9.192459051452449, 9.192459051452449, 6.192459051452449, 8.192459051452449, 9.192459051452449, 7.192459051452449, 8.192459051452449, 2.192459051452449, 5.192459051452449, 8.192459051452449, 8.192459051452449, 3.192459051452449, 10.192459051452449, 8.192459051452449, 8.192459051452449, 10.192459051452449, 11.192459051452449, 11.192459051452449, 10.192459051452449, 7.192459051452449, 8.192459051452449, 6.192459051452449, 8.192459051452449, 7.192459051452449, 8.192459051452449, 5.192459051452449, 10.192459051452449, 5.192459051452449, 2.192459051452449, 6.192459051452449, 9.192459051452449, 9.192459051452449, 9.192459051452449, 11.192459051452449, 4.192459051452449, 2.192459051452449, 11.192459051452449, 9.192459051452449, 8.192459051452449, 11.192459051452449, 4.192459051452449, 10.192459051452449, 10.192459051452449, 11.192459051452449, 6.192459051452449, 4.192459051452449, 5.192459051452449, 9.192459051452449, 11.192459051452449, 8.192459051452449, 10.192459051452449, 9.192459051452449, 5.192459051452449, 10.192459051452449, 10.192459051452449, 6.192459051452449, 8.192459051452449, 11.192459051452449, 2.192459051452449, 9.192459051452449, 10.192459051452449, 2.192459051452449, 8.192459051452449, 8.192459051452449, 2.192459051452449, 10.192459051452449, 11.192459051452449, 6.192459051452449, 4.192459051452449, 10.192459051452449, 11.192459051452449, 10.192459051452449, 8.192459051452449, 3.192459051452449, 10.192459051452449, 11.192459051452449, 11.192459051452449, 7.192459051452449, 3.192459051452449, 10.192459051452449, 11.192459051452449, 10.192459051452449, 8.192459051452449, 3.192459051452449, 10.192459051452449, 10.192459051452449, 7.192459051452449, 5.192459051452449, 11.192459051452449, 9.192459051452449, 8.192459051452449, 6.192459051452449, 11.192459051452449, 6.192459051452449, 9.192459051452449, 8.192459051452449, 5.192459051452449, 6.192459051452449, 10.192459051452449, 11.192459051452449, 11.192459051452449, 9.192459051452449, 10.192459051452449, 6.192459051452449, 8.192459051452449, 7.192459051452449, 11.192459051452449, 11.192459051452449, 10.192459051452449, 7.192459051452449, 8.192459051452449, 8.192459051452449, 5.192459051452449, 11.192459051452449, 6.192459051452449, 8.192459051452449, 11.192459051452449, 8.192459051452449, 9.192459051452449, 3.192459051452449, 9.192459051452449, 11.192459051452449, 10.192459051452449, 11.192459051452449, 4.192459051452449, 11.192459051452449, 6.192459051452449, 10.192459051452449, 11.192459051452449, 7.192459051452449, 4.192459051452449, 9.192459051452449, 5.192459051452449, 5.192459051452449, 8.192459051452449, 10.192459051452449, 11.192459051452449, 8.192459051452449, 11.192459051452449, 4.192459051452449, 11.192459051452449, 9.192459051452449, 11.192459051452449, 11.192459051452449, 7.192459051452449, 8.192459051452449, 11.192459051452449, 10.192459051452449, 6.192459051452449, 6.192459051452449, 11.192459051452449, 11.192459051452449, 11.192459051452449, 2.192459051452449, 11.192459051452449, 9.192459051452449, 9.192459051452449, 10.192459051452449, 8.192459051452449, 9.192459051452449, 11.192459051452449, 6.192459051452449, 11.192459051452449, 10.192459051452449, 3.192459051452449, 9.192459051452449, 11.192459051452449, 10.192459051452449, 3.192459051452449, 9.192459051452449, 8.192459051452449, 4.192459051452449, 11.192459051452449, 11.192459051452449, 11.192459051452449, 8.192459051452449, 6.192459051452449, 11.192459051452449, 6.192459051452449, 9.192459051452449, 8.192459051452449, 9.192459051452449, 6.192459051452449, 11.192459051452449, 7.192459051452449, 8.192459051452449, 5.192459051452449, 11.192459051452449, 3.192459051452449, 10.192459051452449, 11.192459051452449, 8.192459051452449, 10.192459051452449, 9.192459051452449, 8.192459051452449, 6.192459051452449, 11.192459051452449, 9.192459051452449, 8.192459051452449, 9.192459051452449, 3.192459051452449, 8.192459051452449, 8.192459051452449, 9.192459051452449, 2.192459051452449, 10.192459051452449, 4.192459051452449, 10.192459051452449, 2.192459051452449, 8.192459051452449, 9.192459051452449, 10.192459051452449, 10.192459051452449, 9.192459051452449, 10.192459051452449, 8.192459051452449, 9.192459051452449, 9.192459051452449, 7.192459051452449, 8.192459051452449, 5.192459051452449, 4.192459051452449, 9.192459051452449, 11.192459051452449, 8.192459051452449, 9.192459051452449, 11.192459051452449, 2.192459051452449, 8.192459051452449, 7.192459051452449, 9.192459051452449, 10.192459051452449, 11.192459051452449, 9.192459051452449, 11.192459051452449, 10.192459051452449, 4.192459051452449, 10.192459051452449, 5.192459051452449, 11.192459051452449, 6.192459051452449, 10.192459051452449, 10.192459051452449, 11.192459051452449, 4.192459051452449, 7.192459051452449, 6.192459051452449, 8.192459051452449, 6.192459051452449, 11.192459051452449, 9.192459051452449, 9.192459051452449, 9.192459051452449, 5.192459051452449, 8.192459051452449, 10.192459051452449, 7.192459051452449, 8.192459051452449, 10.192459051452449, 6.192459051452449, 2.192459051452449, 9.192459051452449, 8.192459051452449, 8.192459051452449, 7.192459051452449, 3.192459051452449, 4.192459051452449, 11.192459051452449, 5.192459051452449, 9.192459051452449, 7.192459051452449, 8.192459051452449, 10.192459051452449, 8.192459051452449, 3.192459051452449, 3.192459051452449, 8.192459051452449, 10.192459051452449, 4.192459051452449, 5.192459051452449, 6.192459051452449, 4.192459051452449, 6.192459051452449, 9.192459051452449, 11.192459051452449, 8.192459051452449, 6.192459051452449, 10.192459051452449, 11.192459051452449, 11.192459051452449, 4.192459051452449, 8.192459051452449, 10.192459051452449, 2.192459051452449, 8.192459051452449, 9.192459051452449, 6.192459051452449, 10.192459051452449, 8.192459051452449, 9.192459051452449, 7.192459051452449, 11.192459051452449, 9.192459051452449, 3.192459051452449, 11.192459051452449, 11.192459051452449, 6.192459051452449, 11.192459051452449, 6.192459051452449, 2.192459051452449, 9.192459051452449, 11.192459051452449, 8.192459051452449, 10.192459051452449, 6.192459051452449, 11.192459051452449, 10.192459051452449, 2.192459051452449, 4.192459051452449, 11.192459051452449, 11.192459051452449, 3.192459051452449, 5.192459051452449, 4.192459051452449, 10.192459051452449, 9.192459051452449, 3.192459051452449, 10.192459051452449, 9.192459051452449, 5.192459051452449, 3.192459051452449, 2.192459051452449, 8.192459051452449, 4.192459051452449, 4.192459051452449, 5.192459051452449, 11.192459051452449, 7.192459051452449, 9.192459051452449, 11.192459051452449, 4.192459051452449, 2.192459051452449, 9.192459051452449, 8.192459051452449, 7.192459051452449, 11.192459051452449, 5.192459051452449, 7.192459051452449, 9.192459051452449, 7.192459051452449, 10.192459051452449, 7.192459051452449, 11.192459051452449, 4.192459051452449, 3.192459051452449, 4.192459051452449, 7.192459051452449, 9.192459051452449, 11.192459051452449, 9.192459051452449, 8.192459051452449, 10.192459051452449, 2.192459051452449, 5.192459051452449, 3.192459051452449, 6.192459051452449, 11.192459051452449, 11.192459051452449, 11.192459051452449, 6.192459051452449, 4.192459051452449, 4.192459051452449, 10.192459051452449, 9.192459051452449, 9.192459051452449, 11.192459051452449, 5.192459051452449, 10.192459051452449, 3.192459051452449, 7.192459051452449, 8.192459051452449, 5.192459051452449, 8.192459051452449, 5.192459051452449, 6.192459051452449, 10.192459051452449, 3.192459051452449, 4.192459051452449, 11.192459051452449, 8.192459051452449, 7.192459051452449, 11.192459051452449, 5.192459051452449, 9.192459051452449, 7.192459051452449, 10.192459051452449, 8.192459051452449, 6.192459051452449, 9.192459051452449, 7.192459051452449, 6.192459051452449, 7.192459051452449, 10.192459051452449, 8.192459051452449, 3.192459051452449, 6.192459051452449, 3.192459051452449, 9.192459051452449, 11.192459051452449, 5.192459051452449, 11.192459051452449, 9.192459051452449, 2.192459051452449, 11.192459051452449, 2.192459051452449, 9.192459051452449, 9.192459051452449, 7.192459051452449, 11.192459051452449, 5.192459051452449, 5.192459051452449, 10.192459051452449, 11.192459051452449, 11.192459051452449, 7.192459051452449, 4.192459051452449, 8.192459051452449, 10.192459051452449, 9.192459051452449, 7.192459051452449, 8.192459051452449, 8.192459051452449, 8.192459051452449, 5.192459051452449, 8.192459051452449, 6.192459051452449, 5.192459051452449, 11.192459051452449, 6.192459051452449, 2.192459051452449, 10.192459051452449, 9.192459051452449, 7.192459051452449, 10.192459051452449, 6.192459051452449, 7.192459051452449, 10.192459051452449, 6.192459051452449, 10.192459051452449, 9.192459051452449, 9.192459051452449, 4.192459051452449, 7.192459051452449, 7.192459051452449, 11.192459051452449, 5.192459051452449, 10.192459051452449, 9.192459051452449, 9.192459051452449, 6.192459051452449, 5.192459051452449, 3.192459051452449, 10.192459051452449, 10.192459051452449, 6.192459051452449, 7.192459051452449, 11.192459051452449, 3.192459051452449, 11.192459051452449, 10.192459051452449, 3.192459051452449, 9.192459051452449, 4.192459051452449, 5.192459051452449, 7.192459051452449, 7.192459051452449, 11.192459051452449, 9.192459051452449, 4.192459051452449, 3.192459051452449, 7.192459051452449, 9.192459051452449, 2.192459051452449, 8.192459051452449, 11.192459051452449, 9.192459051452449, 11.192459051452449, 6.192459051452449, 3.192459051452449, 9.192459051452449, 10.192459051452449, 6.192459051452449, 4.192459051452449, 6.192459051452449, 3.192459051452449, 8.192459051452449, 8.192459051452449, 4.192459051452449, 3.192459051452449, 11.192459051452449, 3.192459051452449, 9.192459051452449, 2.192459051452449, 4.192459051452449, 10.192459051452449, 11.192459051452449, 11.192459051452449, 4.192459051452449, 7.192459051452449, 4.192459051452449, 9.192459051452449, 11.192459051452449, 6.192459051452449, 11.192459051452449, 11.192459051452449, 2.192459051452449, 4.192459051452449, 10.192459051452449, 6.192459051452449, 10.192459051452449, 4.192459051452449, 10.192459051452449, 9.192459051452449, 4.192459051452449, 9.192459051452449, 11.192459051452449, 4.192459051452449, 3.192459051452449, 3.192459051452449, 6.192459051452449, 9.192459051452449, 3.192459051452449, 10.192459051452449, 10.192459051452449, 10.192459051452449, 2.192459051452449, 10.192459051452449, 6.192459051452449, 10.192459051452449, 8.192459051452449, 4.192459051452449, 11.192459051452449, 7.192459051452449, 3.192459051452449, 9.192459051452449, 8.192459051452449, 8.192459051452449, 8.192459051452449, 11.192459051452449, 3.192459051452449, 7.192459051452449, 8.192459051452449, 11.192459051452449, 7.192459051452449, 3.192459051452449, 9.192459051452449, 2.192459051452449, 8.192459051452449, 8.192459051452449, 11.192459051452449, 9.192459051452449, 3.192459051452449, 9.192459051452449, 7.192459051452449, 11.192459051452449, 3.192459051452449, 9.192459051452449, 8.192459051452449, 7.192459051452449, 9.192459051452449, 4.192459051452449, 5.192459051452449, 6.192459051452449, 10.192459051452449, 6.192459051452449, 11.192459051452449, 11.192459051452449, 9.192459051452449, 11.192459051452449, 5.192459051452449, 8.192459051452449, 4.192459051452449, 3.192459051452449, 8.192459051452449, 9.192459051452449, 8.192459051452449, 5.192459051452449, 10.192459051452449, 3.192459051452449, 10.192459051452449, 6.192459051452449, 10.192459051452449, 11.192459051452449, 7.192459051452449, 10.192459051452449, 7.192459051452449, 9.192459051452449, 8.192459051452449, 10.192459051452449, 9.192459051452449, 11.192459051452449, 10.192459051452449, 6.192459051452449, 9.192459051452449, 8.192459051452449, 11.192459051452449, 6.192459051452449, 11.192459051452449, 11.192459051452449, 11.192459051452449, 5.192459051452449, 11.192459051452449, 6.192459051452449, 9.192459051452449, 5.192459051452449, 4.192459051452449, 4.192459051452449, 4.192459051452449, 9.192459051452449, 10.192459051452449, 11.192459051452449, 11.192459051452449, 6.192459051452449, 6.192459051452449, 6.192459051452449, 4.192459051452449, 9.192459051452449, 8.192459051452449, 10.192459051452449, 6.192459051452449, 8.192459051452449, 6.192459051452449, 10.192459051452449, 10.192459051452449, 5.192459051452449, 4.192459051452449, 4.192459051452449, 11.192459051452449, 3.192459051452449, 11.192459051452449, 10.192459051452449, 8.192459051452449, 11.192459051452449, 2.192459051452449, 8.192459051452449, 10.192459051452449, 9.192459051452449, 4.192459051452449, 9.192459051452449, 6.192459051452449, 3.192459051452449, 8.192459051452449, 2.192459051452449, 10.192459051452449, 10.192459051452449, 10.192459051452449, 7.192459051452449, 7.192459051452449, 7.192459051452449, 10.192459051452449, 6.192459051452449, 7.192459051452449, 10.192459051452449, 11.192459051452449, 8.192459051452449, 4.192459051452449, 4.192459051452449, 11.192459051452449, 6.192459051452449, 8.192459051452449, 8.192459051452449, 6.192459051452449, 7.192459051452449, 2.192459051452449, 8.192459051452449, 9.192459051452449, 6.192459051452449, 3.192459051452449, 11.192459051452449, 7.192459051452449, 10.192459051452449, 11.192459051452449, 10.192459051452449, 7.192459051452449, 9.192459051452449, 7.192459051452449, 6.192459051452449, 8.192459051452449, 10.192459051452449, 7.192459051452449, 8.192459051452449, 11.192459051452449, 9.192459051452449, 2.192459051452449, 10.192459051452449, 11.192459051452449, 5.192459051452449, 7.192459051452449, 6.192459051452449, 7.192459051452449, 11.192459051452449, 6.192459051452449, 9.192459051452449, 11.192459051452449, 2.192459051452449, 11.192459051452449, 11.192459051452449, 2.192459051452449, 5.192459051452449, 10.192459051452449, 6.192459051452449, 11.192459051452449, 10.192459051452449, 11.192459051452449, 2.192459051452449, 8.192459051452449, 5.192459051452449, 11.192459051452449, 10.192459051452449, 9.192459051452449, 3.192459051452449, 5.192459051452449, 11.192459051452449, 3.192459051452449, 3.192459051452449, 11.192459051452449, 10.192459051452449, 7.192459051452449, 5.192459051452449, 11.192459051452449, 3.192459051452449, 9.192459051452449, 5.192459051452449, 9.192459051452449, 10.192459051452449, 10.192459051452449, 6.192459051452449, 6.192459051452449, 11.192459051452449, 8.192459051452449, 6.192459051452449, 10.192459051452449, 9.192459051452449, 3.192459051452449, 11.192459051452449, 6.192459051452449, 11.192459051452449, 5.192459051452449, 11.192459051452449, 11.192459051452449, 3.192459051452449, 6.192459051452449, 3.192459051452449, 6.192459051452449, 10.192459051452449, 9.192459051452449, 9.192459051452449, 7.192459051452449, 3.192459051452449, 2.192459051452449, 10.192459051452449, 6.192459051452449, 8.192459051452449, 8.192459051452449, 10.192459051452449, 8.192459051452449, 5.192459051452449, 5.192459051452449, 6.192459051452449, 8.192459051452449, 3.192459051452449, 3.192459051452449, 11.192459051452449, 10.192459051452449, 5.192459051452449, 5.192459051452449, 11.192459051452449, 8.192459051452449, 8.192459051452449, 8.192459051452449, 9.192459051452449, 5.192459051452449, 7.192459051452449, 11.192459051452449, 11.192459051452449, 9.192459051452449, 3.192459051452449, 7.192459051452449, 10.192459051452449, 6.192459051452449, 8.192459051452449, 8.192459051452449, 11.192459051452449, 9.192459051452449, 7.192459051452449, 10.192459051452449, 3.192459051452449, 9.192459051452449, 7.192459051452449, 2.192459051452449, 9.192459051452449, 9.192459051452449, 9.192459051452449, 8.192459051452449, 6.192459051452449, 2.192459051452449, 11.192459051452449, 7.192459051452449, 7.192459051452449, 7.192459051452449, 10.192459051452449, 5.192459051452449, 10.192459051452449, 9.192459051452449, 11.192459051452449, 8.192459051452449, 10.192459051452449, 9.192459051452449, 3.192459051452449, 11.192459051452449, 8.192459051452449, 6.192459051452449, 7.192459051452449, 4.192459051452449, 3.192459051452449, 4.192459051452449, 4.192459051452449, 11.192459051452449, 4.192459051452449, 11.192459051452449, 4.192459051452449, 2.192459051452449, 11.192459051452449, 8.192459051452449, 10.192459051452449, 5.192459051452449, 4.192459051452449, 7.192459051452449, 11.192459051452449, 9.192459051452449, 5.192459051452449, 5.192459051452449, 9.192459051452449, 3.192459051452449, 9.192459051452449, 10.192459051452449, 10.192459051452449, 9.192459051452449, 4.192459051452449, 2.192459051452449, 6.192459051452449, 8.192459051452449, 4.192459051452449, 7.192459051452449, 10.192459051452449, 10.192459051452449, 11.192459051452449, 2.192459051452449, 9.192459051452449, 11.192459051452449, 5.192459051452449, 3.192459051452449, 11.192459051452449, 8.192459051452449, 3.192459051452449, 8.192459051452449, 11.192459051452449, 8.192459051452449, 7.192459051452449, 10.192459051452449, 6.192459051452449, 10.192459051452449, 7.192459051452449, 8.192459051452449, 3.192459051452449, 11.192459051452449, 10.192459051452449, 7.192459051452449, 11.192459051452449, 9.192459051452449, 8.192459051452449, 10.192459051452449, 7.192459051452449, 10.192459051452449, 10.192459051452449, 9.192459051452449, 8.192459051452449, 11.192459051452449, 8.192459051452449, 4.192459051452449, 10.192459051452449, 10.192459051452449, 9.192459051452449, 3.192459051452449, 8.192459051452449, 7.192459051452449, 11.192459051452449, 7.192459051452449, 10.192459051452449, 4.192459051452449, 11.192459051452449, 10.192459051452449, 10.192459051452449, 11.192459051452449, 2.192459051452449, 7.192459051452449, 11.192459051452449, 9.192459051452449, 5.192459051452449, 8.192459051452449, 4.192459051452449, 8.192459051452449, 8.192459051452449, 5.192459051452449, 11.192459051452449, 5.192459051452449, 7.192459051452449, 3.192459051452449, 11.192459051452449, 4.192459051452449, 11.192459051452449, 11.192459051452449, 10.192459051452449, 9.192459051452449, 10.192459051452449, 10.192459051452449, 7.192459051452449, 6.192459051452449, 10.192459051452449, 9.192459051452449, 8.192459051452449, 5.192459051452449, 2.192459051452449, 6.192459051452449, 6.192459051452449, 9.192459051452449, 11.192459051452449, 8.192459051452449, 2.192459051452449, 9.192459051452449, 5.192459051452449, 7.192459051452449, 6.192459051452449, 6.192459051452449, 10.192459051452449, 8.192459051452449, 6.192459051452449, 11.192459051452449, 3.192459051452449, 5.192459051452449, 6.192459051452449, 8.192459051452449, 11.192459051452449, 8.192459051452449, 9.192459051452449, 2.192459051452449, 11.192459051452449, 6.192459051452449, 7.192459051452449, 5.192459051452449, 6.192459051452449, 4.192459051452449, 11.192459051452449, 6.192459051452449, 11.192459051452449, 10.192459051452449, 4.192459051452449, 7.192459051452449, 9.192459051452449, 3.192459051452449, 4.192459051452449, 9.192459051452449, 10.192459051452449, 11.192459051452449, 4.192459051452449, 9.192459051452449, 11.192459051452449, 6.192459051452449, 10.192459051452449, 11.192459051452449, 9.192459051452449, 6.192459051452449, 11.192459051452449, 9.192459051452449, 8.192459051452449, 3.192459051452449, 7.192459051452449, 4.192459051452449, 4.192459051452449, 11.192459051452449, 11.192459051452449, 8.192459051452449, 5.192459051452449, 9.192459051452449, 9.192459051452449, 11.192459051452449, 8.192459051452449, 10.192459051452449, 8.192459051452449, 5.192459051452449, 9.192459051452449, 9.192459051452449, 7.192459051452449, 10.192459051452449, 6.192459051452449, 6.192459051452449, 3.192459051452449, 10.192459051452449, 11.192459051452449, 2.192459051452449, 6.192459051452449, 7.192459051452449, 2.192459051452449, 8.192459051452449, 2.192459051452449, 4.192459051452449, 3.192459051452449, 2.192459051452449, 6.192459051452449, 3.192459051452449, 11.192459051452449, 9.192459051452449, 9.192459051452449, 11.192459051452449, 9.192459051452449, 9.192459051452449, 7.192459051452449, 11.192459051452449, 6.192459051452449, 8.192459051452449, 10.192459051452449, 10.192459051452449, 11.192459051452449, 10.192459051452449, 5.192459051452449, 8.192459051452449, 4.192459051452449, 10.192459051452449, 6.192459051452449, 4.192459051452449, 7.192459051452449, 11.192459051452449, 8.192459051452449, 8.192459051452449, 3.192459051452449, 11.192459051452449, 4.192459051452449, 9.192459051452449, 6.192459051452449, 8.192459051452449, 5.192459051452449, 6.192459051452449, 11.192459051452449, 8.192459051452449, 11.192459051452449, 2.192459051452449, 11.192459051452449, 5.192459051452449, 9.192459051452449, 9.192459051452449, 10.192459051452449, 8.192459051452449, 5.192459051452449, 4.192459051452449, 2.192459051452449, 6.192459051452449, 11.192459051452449, 10.192459051452449, 10.192459051452449, 11.192459051452449, 7.192459051452449, 11.192459051452449, 9.192459051452449, 5.192459051452449, 6.192459051452449, 7.192459051452449, 5.192459051452449, 10.192459051452449, 9.192459051452449, 3.192459051452449, 5.192459051452449, 9.192459051452449, 10.192459051452449, 10.192459051452449, 9.192459051452449, 6.192459051452449, 10.192459051452449, 4.192459051452449, 5.192459051452449, 11.192459051452449, 8.192459051452449, 3.192459051452449, 5.192459051452449, 11.192459051452449, 10.192459051452449, 5.192459051452449, 2.192459051452449, 11.192459051452449, 9.192459051452449, 10.192459051452449, 11.192459051452449, 10.192459051452449, 3.192459051452449, 11.192459051452449, 9.192459051452449, 9.192459051452449, 10.192459051452449, 5.192459051452449, 8.192459051452449, 11.192459051452449, 3.192459051452449, 8.192459051452449, 8.192459051452449, 9.192459051452449, 4.192459051452449, 9.192459051452449, 10.192459051452449, 5.192459051452449, 3.192459051452449, 10.192459051452449, 11.192459051452449, 9.192459051452449, 7.192459051452449, 3.192459051452449, 8.192459051452449, 7.192459051452449, 7.192459051452449, 11.192459051452449, 6.192459051452449, 2.192459051452449, 6.192459051452449, 11.192459051452449, 5.192459051452449, 8.192459051452449, 11.192459051452449, 10.192459051452449, 7.192459051452449, 9.192459051452449, 10.192459051452449, 7.192459051452449, 11.192459051452449, 6.192459051452449, 8.192459051452449, 7.192459051452449, 10.192459051452449, 9.192459051452449, 8.192459051452449, 8.192459051452449, 7.192459051452449, 10.192459051452449, 3.192459051452449, 5.192459051452449, 7.192459051452449, 8.192459051452449, 9.192459051452449, 7.192459051452449, 8.192459051452449, 11.192459051452449, 10.192459051452449, 11.192459051452449, 10.192459051452449, 9.192459051452449, 6.192459051452449, 9.192459051452449, 11.192459051452449, 9.192459051452449, 4.192459051452449, 3.192459051452449, 10.192459051452449, 8.192459051452449, 5.192459051452449, 11.192459051452449, 5.192459051452449, 11.192459051452449, 2.192459051452449, 10.192459051452449, 2.192459051452449, 6.192459051452449, 10.192459051452449, 10.192459051452449, 11.192459051452449, 11.192459051452449, 10.192459051452449, 9.192459051452449, 11.192459051452449, 8.192459051452449, 5.192459051452449, 11.192459051452449, 8.192459051452449, 8.192459051452449, 9.192459051452449, 9.192459051452449, 8.192459051452449, 4.192459051452449, 7.192459051452449, 3.192459051452449, 5.192459051452449, 8.192459051452449, 5.192459051452449, 4.192459051452449, 10.192459051452449, 9.192459051452449, 10.192459051452449, 11.192459051452449, 9.192459051452449, 9.192459051452449, 11.192459051452449, 11.192459051452449, 7.192459051452449, 5.192459051452449, 2.192459051452449, 7.192459051452449, 11.192459051452449, 10.192459051452449, 9.192459051452449, 9.192459051452449, 4.192459051452449, 11.192459051452449, 11.192459051452449, 6.192459051452449, 11.192459051452449, 4.192459051452449, 8.192459051452449, 10.192459051452449, 10.192459051452449, 10.192459051452449, 8.192459051452449, 7.192459051452449, 11.192459051452449, 10.192459051452449, 6.192459051452449, 6.192459051452449, 3.192459051452449, 10.192459051452449, 4.192459051452449, 11.192459051452449, 10.192459051452449, 5.192459051452449, 9.192459051452449, 6.192459051452449, 7.192459051452449, 7.192459051452449, 6.192459051452449, 11.192459051452449, 8.192459051452449, 8.192459051452449, 11.192459051452449, 9.192459051452449, 9.192459051452449, 8.192459051452449, 9.192459051452449, 7.192459051452449, 11.192459051452449, 7.192459051452449, 8.192459051452449, 5.192459051452449, 10.192459051452449, 7.192459051452449, 10.192459051452449, 6.192459051452449, 2.192459051452449, 8.192459051452449, 11.192459051452449, 5.192459051452449, 10.192459051452449, 8.192459051452449, 7.192459051452449, 8.192459051452449, 11.192459051452449, 2.192459051452449, 9.192459051452449, 11.192459051452449, 3.192459051452449, 10.192459051452449, 5.192459051452449, 6.192459051452449, 5.192459051452449, 10.192459051452449, 3.192459051452449, 9.192459051452449, 5.192459051452449, 7.192459051452449, 11.192459051452449, 11.192459051452449, 8.192459051452449, 10.192459051452449, 9.192459051452449, 5.192459051452449, 9.192459051452449, 7.192459051452449, 8.192459051452449, 9.192459051452449, 11.192459051452449, 11.192459051452449, 6.192459051452449, 4.192459051452449, 11.192459051452449, 10.192459051452449, 5.192459051452449, 9.192459051452449, 6.192459051452449, 6.192459051452449, 11.192459051452449, 7.192459051452449, 10.192459051452449, 8.192459051452449, 5.192459051452449, 3.192459051452449, 7.192459051452449, 9.192459051452449, 9.192459051452449, 5.192459051452449, 2.192459051452449, 5.192459051452449, 6.192459051452449, 7.192459051452449, 11.192459051452449, 11.192459051452449, 3.192459051452449, 5.192459051452449, 7.192459051452449, 9.192459051452449, 8.192459051452449, 8.192459051452449, 8.192459051452449, 3.192459051452449, 9.192459051452449, 11.192459051452449, 7.192459051452449, 4.192459051452449, 11.192459051452449, 3.192459051452449, 8.192459051452449, 2.192459051452449, 9.192459051452449, 4.192459051452449, 10.192459051452449, 11.192459051452449, 4.192459051452449, 3.192459051452449, 5.192459051452449, 8.192459051452449, 2.192459051452449, 7.192459051452449, 7.192459051452449, 5.192459051452449, 4.192459051452449, 6.192459051452449, 10.192459051452449, 9.192459051452449, 5.192459051452449, 3.192459051452449, 7.192459051452449, 7.192459051452449, 8.192459051452449, 11.192459051452449, 8.192459051452449, 9.192459051452449, 11.192459051452449, 7.192459051452449, 9.192459051452449, 5.192459051452449, 10.192459051452449, 9.192459051452449, 3.192459051452449, 7.192459051452449, 11.192459051452449, 6.192459051452449, 11.192459051452449, 8.192459051452449, 7.192459051452449, 9.192459051452449, 9.192459051452449, 11.192459051452449, 10.192459051452449, 7.192459051452449, 2.192459051452449, 10.192459051452449, 4.192459051452449, 9.192459051452449, 7.192459051452449, 4.192459051452449, 2.192459051452449, 11.192459051452449, 10.192459051452449, 5.192459051452449, 10.192459051452449, 5.192459051452449, 6.192459051452449, 6.192459051452449, 9.192459051452449, 2.192459051452449, 10.192459051452449, 7.192459051452449, 6.192459051452449, 11.192459051452449, 8.192459051452449, 9.192459051452449, 8.192459051452449, 11.192459051452449, 7.192459051452449, 8.192459051452449, 11.192459051452449, 9.192459051452449, 4.192459051452449, 10.192459051452449, 8.192459051452449, 5.192459051452449, 9.192459051452449, 11.192459051452449, 9.192459051452449, 4.192459051452449, 2.192459051452449, 3.192459051452449, 6.192459051452449, 11.192459051452449, 6.192459051452449, 10.192459051452449, 10.192459051452449, 5.192459051452449, 6.192459051452449, 11.192459051452449, 10.192459051452449, 6.192459051452449, 11.192459051452449, 10.192459051452449, 6.192459051452449, 3.192459051452449, 9.192459051452449, 6.192459051452449, 8.192459051452449, 8.192459051452449, 3.192459051452449, 9.192459051452449, 10.192459051452449, 5.192459051452449, 6.192459051452449, 10.192459051452449, 10.192459051452449, 11.192459051452449, 10.192459051452449, 9.192459051452449, 2.192459051452449, 3.192459051452449, 3.192459051452449, 4.192459051452449, 4.192459051452449, 11.192459051452449, 7.192459051452449, 6.192459051452449, 11.192459051452449, 11.192459051452449, 10.192459051452449, 8.192459051452449, 5.192459051452449, 9.192459051452449, 10.192459051452449, 11.192459051452449, 10.192459051452449, 9.192459051452449, 8.192459051452449, 5.192459051452449, 10.192459051452449, 10.192459051452449, 5.192459051452449, 9.192459051452449, 11.192459051452449, 4.192459051452449, 9.192459051452449, 8.192459051452449, 8.192459051452449, 2.192459051452449, 11.192459051452449, 5.192459051452449, 3.192459051452449, 11.192459051452449, 9.192459051452449, 6.192459051452449, 10.192459051452449, 4.192459051452449, 7.192459051452449, 9.192459051452449, 5.192459051452449, 11.192459051452449, 6.192459051452449, 4.192459051452449, 10.192459051452449, 9.192459051452449, 11.192459051452449, 4.192459051452449, 10.192459051452449, 10.192459051452449, 9.192459051452449, 10.192459051452449, 7.192459051452449, 8.192459051452449, 11.192459051452449, 10.192459051452449, 4.192459051452449, 2.192459051452449, 9.192459051452449, 8.192459051452449, 4.192459051452449, 11.192459051452449, 9.192459051452449, 3.192459051452449, 8.192459051452449, 8.192459051452449, 6.192459051452449, 7.192459051452449, 9.192459051452449, 6.192459051452449, 10.192459051452449, 3.192459051452449, 5.192459051452449, 6.192459051452449, 5.192459051452449, 10.192459051452449, 9.192459051452449, 11.192459051452449, 9.192459051452449, 10.192459051452449, 4.192459051452449, 4.192459051452449, 10.192459051452449, 11.192459051452449, 7.192459051452449, 10.192459051452449, 10.192459051452449, 11.192459051452449, 11.192459051452449, 6.192459051452449, 4.192459051452449, 9.192459051452449, 11.192459051452449, 11.192459051452449, 10.192459051452449, 10.192459051452449, 2.192459051452449, 8.192459051452449, 10.192459051452449, 11.192459051452449, 11.192459051452449, 8.192459051452449, 9.192459051452449, 3.192459051452449, 5.192459051452449, 11.192459051452449, 8.192459051452449, 10.192459051452449, 3.192459051452449, 7.192459051452449, 2.192459051452449, 7.192459051452449, 11.192459051452449, 3.192459051452449, 8.192459051452449, 5.192459051452449, 9.192459051452449, 10.192459051452449, 11.192459051452449, 2.192459051452449, 9.192459051452449, 10.192459051452449, 9.192459051452449, 9.192459051452449, 7.192459051452449, 7.192459051452449, 8.192459051452449, 10.192459051452449, 11.192459051452449, 8.192459051452449, 8.192459051452449, 7.192459051452449, 2.192459051452449, 6.192459051452449, 7.192459051452449, 2.192459051452449, 4.192459051452449, 5.192459051452449, 10.192459051452449, 5.192459051452449, 11.192459051452449, 10.192459051452449, 8.192459051452449, 9.192459051452449, 9.192459051452449, 11.192459051452449, 11.192459051452449, 11.192459051452449, 11.192459051452449, 9.192459051452449, 8.192459051452449, 11.192459051452449, 11.192459051452449, 2.192459051452449, 7.192459051452449, 11.192459051452449, 11.192459051452449, 11.192459051452449, 10.192459051452449, 11.192459051452449, 10.192459051452449, 7.192459051452449, 10.192459051452449, 11.192459051452449, 7.192459051452449, 11.192459051452449, 9.192459051452449, 11.192459051452449, 11.192459051452449, 4.192459051452449, 8.192459051452449, 9.192459051452449, 10.192459051452449, 9.192459051452449, 11.192459051452449, 8.192459051452449, 5.192459051452449, 4.192459051452449, 10.192459051452449, 9.192459051452449, 6.192459051452449, 8.192459051452449, 11.192459051452449, 10.192459051452449, 3.192459051452449, 7.192459051452449, 4.192459051452449, 10.192459051452449, 10.192459051452449, 6.192459051452449, 9.192459051452449, 8.192459051452449, 2.192459051452449, 2.192459051452449, 9.192459051452449, 9.192459051452449, 11.192459051452449, 11.192459051452449, 2.192459051452449, 4.192459051452449, 7.192459051452449, 2.192459051452449, 10.192459051452449, 5.192459051452449, 5.192459051452449, 10.192459051452449, 7.192459051452449, 4.192459051452449, 10.192459051452449, 2.192459051452449, 5.192459051452449, 10.192459051452449, 2.192459051452449, 7.192459051452449, 9.192459051452449, 8.192459051452449, 5.192459051452449, 7.192459051452449, 9.192459051452449, 10.192459051452449, 8.192459051452449, 7.192459051452449, 7.192459051452449, 11.192459051452449, 7.192459051452449, 4.192459051452449, 4.192459051452449, 5.192459051452449, 10.192459051452449, 9.192459051452449, 6.192459051452449, 5.192459051452449, 11.192459051452449, 7.192459051452449, 10.192459051452449, 8.192459051452449, 9.192459051452449, 3.192459051452449, 9.192459051452449, 6.192459051452449, 11.192459051452449, 11.192459051452449, 3.192459051452449, 11.192459051452449, 11.192459051452449, 10.192459051452449, 10.192459051452449, 7.192459051452449, 4.192459051452449, 5.192459051452449, 10.192459051452449, 9.192459051452449, 8.192459051452449, 8.192459051452449, 6.192459051452449, 11.192459051452449, 10.192459051452449, 7.192459051452449, 8.192459051452449, 10.192459051452449, 11.192459051452449, 10.192459051452449, 10.192459051452449, 7.192459051452449, 3.192459051452449, 9.192459051452449, 7.192459051452449, 6.192459051452449, 2.192459051452449, 9.192459051452449, 2.192459051452449, 10.192459051452449, 8.192459051452449, 9.192459051452449, 11.192459051452449, 2.192459051452449, 9.192459051452449, 10.192459051452449, 7.192459051452449, 9.192459051452449, 10.192459051452449, 10.192459051452449, 11.192459051452449, 11.192459051452449, 7.192459051452449, 10.192459051452449, 7.192459051452449, 10.192459051452449, 11.192459051452449, 2.192459051452449, 6.192459051452449, 7.192459051452449, 4.192459051452449, 10.192459051452449, 9.192459051452449, 10.192459051452449, 8.192459051452449, 10.192459051452449, 6.192459051452449, 5.192459051452449, 6.192459051452449, 11.192459051452449, 8.192459051452449, 6.192459051452449, 7.192459051452449, 11.192459051452449, 7.192459051452449, 7.192459051452449, 8.192459051452449, 8.192459051452449]\n"
          ],
          "name": "stdout"
        }
      ]
    },
    {
      "cell_type": "markdown",
      "metadata": {
        "id": "RJCv5f7W-fwQ",
        "colab_type": "text"
      },
      "source": [
        "# PATE Analysis"
      ]
    },
    {
      "cell_type": "code",
      "metadata": {
        "id": "6Zi6e0p4-fwQ",
        "colab_type": "code",
        "outputId": "66cea2ac-1cbc-46e6-955f-31bc15b7ad81",
        "colab": {
          "base_uri": "https://localhost:8080/",
          "height": 34
        }
      },
      "source": [
        "labels = np.array([9, 9, 3, 6, 9, 9, 9, 9, 8, 2])\n",
        "counts = np.bincount(labels, minlength=10)\n",
        "query_result = np.argmax(counts)\n",
        "query_result"
      ],
      "execution_count": 0,
      "outputs": [
        {
          "output_type": "execute_result",
          "data": {
            "text/plain": [
              "9"
            ]
          },
          "metadata": {
            "tags": []
          },
          "execution_count": 98
        }
      ]
    },
    {
      "cell_type": "markdown",
      "metadata": {
        "id": "w-becKmuhhc4",
        "colab_type": "text"
      },
      "source": [
        ""
      ]
    },
    {
      "cell_type": "code",
      "metadata": {
        "id": "7x3CGmak-fwS",
        "colab_type": "code",
        "colab": {}
      },
      "source": [
        "from syft.frameworks.torch.differential_privacy import pate"
      ],
      "execution_count": 0,
      "outputs": []
    },
    {
      "cell_type": "code",
      "metadata": {
        "id": "2EjWIEDA-fwU",
        "colab_type": "code",
        "outputId": "3541a363-ac7c-43e5-f437-377c00860762",
        "colab": {}
      },
      "source": [
        "num_teachers, num_examples, num_labels = (100, 100, 10)\n",
        "preds = (np.random.rand(num_teachers, num_examples) * num_labels).astype(int) #fake preds\n",
        "indices = (np.random.rand(num_examples) * num_labels).astype(int) # true answers\n",
        "\n",
        "preds[:,0:10] *= 0\n",
        "\n",
        "data_dep_eps, data_ind_eps = pate.perform_analysis(teacher_preds=preds, indices=indices, noise_eps=0.1, delta=1e-5)\n",
        "\n",
        "assert data_dep_eps < data_ind_eps\n",
        "\n"
      ],
      "execution_count": 0,
      "outputs": [
        {
          "output_type": "stream",
          "text": [
            "Warning: May not have used enough values of l. Increase 'moments' variable and run again.\n"
          ],
          "name": "stdout"
        }
      ]
    },
    {
      "cell_type": "code",
      "metadata": {
        "id": "7N5ukWLL-fwX",
        "colab_type": "code",
        "outputId": "dcc09349-b4d6-44fc-beb5-f64ff91dea80",
        "colab": {}
      },
      "source": [
        "data_dep_eps, data_ind_eps = pate.perform_analysis(teacher_preds=preds, indices=indices, noise_eps=0.1, delta=1e-5)\n",
        "print(\"Data Independent Epsilon:\", data_ind_eps)\n",
        "print(\"Data Dependent Epsilon:\", data_dep_eps)"
      ],
      "execution_count": 0,
      "outputs": [
        {
          "output_type": "stream",
          "text": [
            "Warning: May not have used enough values of l. Increase 'moments' variable and run again.\n",
            "Data Independent Epsilon: 11.756462732485115\n",
            "Data Dependent Epsilon: 1.52655213289881\n"
          ],
          "name": "stdout"
        }
      ]
    },
    {
      "cell_type": "code",
      "metadata": {
        "id": "JFvtvDGl-fwZ",
        "colab_type": "code",
        "colab": {}
      },
      "source": [
        "preds[:,0:50] *= 0"
      ],
      "execution_count": 0,
      "outputs": []
    },
    {
      "cell_type": "code",
      "metadata": {
        "id": "aeTrk_dQ-fwa",
        "colab_type": "code",
        "outputId": "2ebfb1a2-499f-4bed-f978-259c5e7edd1c",
        "colab": {}
      },
      "source": [
        "data_dep_eps, data_ind_eps = pate.perform_analysis(teacher_preds=preds, indices=indices, noise_eps=0.1, delta=1e-5, moments=20)\n",
        "print(\"Data Independent Epsilon:\", data_ind_eps)\n",
        "print(\"Data Dependent Epsilon:\", data_dep_eps)"
      ],
      "execution_count": 0,
      "outputs": [
        {
          "output_type": "stream",
          "text": [
            "Data Independent Epsilon: 11.756462732485115\n",
            "Data Dependent Epsilon: 0.9029013677789843\n"
          ],
          "name": "stdout"
        }
      ]
    },
    {
      "cell_type": "code",
      "metadata": {
        "id": "KQd-bMw3-fwc",
        "colab_type": "code",
        "colab": {}
      },
      "source": [
        ""
      ],
      "execution_count": 0,
      "outputs": []
    },
    {
      "cell_type": "markdown",
      "metadata": {
        "id": "Zu_8QgEQ-fwd",
        "colab_type": "text"
      },
      "source": [
        "# Where to Go From Here\n",
        "\n",
        "\n",
        "Read:\n",
        "    - Algorithmic Foundations of Differential Privacy: https://www.cis.upenn.edu/~aaroth/Papers/privacybook.pdf\n",
        "    - Deep Learning with Differential Privacy: https://arxiv.org/pdf/1607.00133.pdf\n",
        "    - The Ethical Algorithm: https://www.amazon.com/Ethical-Algorithm-Science-Socially-Design/dp/0190948205\n",
        "   \n",
        "Topics:\n",
        "    - The Exponential Mechanism\n",
        "    - The Moment's Accountant\n",
        "    - Differentially Private Stochastic Gradient Descent\n",
        "\n",
        "Advice:\n",
        "    - For deployments - stick with public frameworks!\n",
        "    - Join the Differential Privacy Community\n",
        "    - Don't get ahead of yourself - DP is still in the early days"
      ]
    },
    {
      "cell_type": "code",
      "metadata": {
        "id": "ECXjL_H1-fwd",
        "colab_type": "code",
        "colab": {}
      },
      "source": [
        ""
      ],
      "execution_count": 0,
      "outputs": []
    },
    {
      "cell_type": "code",
      "metadata": {
        "id": "FPlVy7m9-fwe",
        "colab_type": "code",
        "colab": {}
      },
      "source": [
        ""
      ],
      "execution_count": 0,
      "outputs": []
    },
    {
      "cell_type": "code",
      "metadata": {
        "id": "YWO4FEs0-fwf",
        "colab_type": "code",
        "colab": {}
      },
      "source": [
        ""
      ],
      "execution_count": 0,
      "outputs": []
    },
    {
      "cell_type": "code",
      "metadata": {
        "id": "EOLVkcOS-fwg",
        "colab_type": "code",
        "colab": {}
      },
      "source": [
        ""
      ],
      "execution_count": 0,
      "outputs": []
    },
    {
      "cell_type": "code",
      "metadata": {
        "id": "FeujZZGf-fwh",
        "colab_type": "code",
        "colab": {}
      },
      "source": [
        ""
      ],
      "execution_count": 0,
      "outputs": []
    },
    {
      "cell_type": "code",
      "metadata": {
        "id": "Xqa-WNIx-fwi",
        "colab_type": "code",
        "colab": {}
      },
      "source": [
        ""
      ],
      "execution_count": 0,
      "outputs": []
    },
    {
      "cell_type": "code",
      "metadata": {
        "id": "tzrW7D5l-fwj",
        "colab_type": "code",
        "colab": {}
      },
      "source": [
        ""
      ],
      "execution_count": 0,
      "outputs": []
    },
    {
      "cell_type": "code",
      "metadata": {
        "id": "8fSdgzJn-fwk",
        "colab_type": "code",
        "colab": {}
      },
      "source": [
        ""
      ],
      "execution_count": 0,
      "outputs": []
    },
    {
      "cell_type": "code",
      "metadata": {
        "id": "0q63B3Kh-fwk",
        "colab_type": "code",
        "colab": {}
      },
      "source": [
        ""
      ],
      "execution_count": 0,
      "outputs": []
    },
    {
      "cell_type": "code",
      "metadata": {
        "id": "wsgL8vjA-fwm",
        "colab_type": "code",
        "colab": {}
      },
      "source": [
        ""
      ],
      "execution_count": 0,
      "outputs": []
    },
    {
      "cell_type": "code",
      "metadata": {
        "id": "RQpgqPSA-fwn",
        "colab_type": "code",
        "colab": {}
      },
      "source": [
        ""
      ],
      "execution_count": 0,
      "outputs": []
    },
    {
      "cell_type": "code",
      "metadata": {
        "id": "VXX5XoyT-fwq",
        "colab_type": "code",
        "colab": {}
      },
      "source": [
        ""
      ],
      "execution_count": 0,
      "outputs": []
    },
    {
      "cell_type": "code",
      "metadata": {
        "id": "AapBM3BF-fwr",
        "colab_type": "code",
        "colab": {}
      },
      "source": [
        ""
      ],
      "execution_count": 0,
      "outputs": []
    },
    {
      "cell_type": "code",
      "metadata": {
        "id": "q39bLGVh-fwt",
        "colab_type": "code",
        "colab": {}
      },
      "source": [
        ""
      ],
      "execution_count": 0,
      "outputs": []
    },
    {
      "cell_type": "code",
      "metadata": {
        "id": "DTctpE7e-fwu",
        "colab_type": "code",
        "colab": {}
      },
      "source": [
        ""
      ],
      "execution_count": 0,
      "outputs": []
    },
    {
      "cell_type": "code",
      "metadata": {
        "id": "DB2PzVGt-fww",
        "colab_type": "code",
        "colab": {}
      },
      "source": [
        ""
      ],
      "execution_count": 0,
      "outputs": []
    },
    {
      "cell_type": "code",
      "metadata": {
        "id": "AkF2EwhC-fwx",
        "colab_type": "code",
        "colab": {}
      },
      "source": [
        ""
      ],
      "execution_count": 0,
      "outputs": []
    },
    {
      "cell_type": "markdown",
      "metadata": {
        "id": "YGLr_3XC-fwy",
        "colab_type": "text"
      },
      "source": [
        "# Section Project:\n",
        "\n",
        "For the final project for this section, you're going to be given a dataset which you need to use to train a DP model using this PATE method. "
      ]
    },
    {
      "cell_type": "code",
      "metadata": {
        "id": "Lc0sJkjK-fwy",
        "colab_type": "code",
        "colab": {}
      },
      "source": [
        ""
      ],
      "execution_count": 0,
      "outputs": []
    }
  ]
}