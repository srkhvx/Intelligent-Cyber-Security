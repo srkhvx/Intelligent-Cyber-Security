{
  "nbformat": 4,
  "nbformat_minor": 0,
  "metadata": {
    "colab": {
      "name": "Copy of Membership Attack - annotated solution.ipynb",
      "provenance": [],
      "collapsed_sections": [],
      "include_colab_link": true
    },
    "kernelspec": {
      "name": "python3",
      "display_name": "Python 3"
    },
    "accelerator": "GPU"
  },
  "cells": [
    {
      "cell_type": "markdown",
      "metadata": {
        "id": "view-in-github",
        "colab_type": "text"
      },
      "source": [
        "<a href=\"https://colab.research.google.com/github/srkhvx/Intelligent-Cyber-Security/blob/master/Copy_of_Membership_Attack_annotated_solution.ipynb\" target=\"_parent\"><img src=\"https://colab.research.google.com/assets/colab-badge.svg\" alt=\"Open In Colab\"/></a>"
      ]
    },
    {
      "cell_type": "code",
      "metadata": {
        "id": "OvK6LaVhrfZ8",
        "colab_type": "code",
        "colab": {}
      },
      "source": [
        "# required imports\n",
        "import sys \n",
        "import numpy as np \n",
        "import matplotlib.pyplot as plt\n",
        "%matplotlib inline  \n",
        "\n",
        "\n",
        "import torch\n",
        "import torchvision \n",
        "import torchvision.transforms as transforms\n",
        "import torch.optim as optim\n",
        "import torch.nn as nn\n",
        "import torch.nn.functional as F\n",
        "from torch.utils.data.sampler import SubsetRandomSampler"
      ],
      "execution_count": 0,
      "outputs": []
    },
    {
      "cell_type": "code",
      "metadata": {
        "id": "O05dkTKAsEh-",
        "colab_type": "code",
        "outputId": "386895df-58d6-4a8f-977b-8b7bfb53d080",
        "colab": {
          "base_uri": "https://localhost:8080/",
          "height": 121
        }
      },
      "source": [
        "# mount the google drive to download the datasets\n",
        "from google.colab import drive\n",
        "drive.mount('/content/drive')\n",
        "project_path = 'content/drive/My Drive/Colab Notebooks/Cybersecurity/NN Attacks/'"
      ],
      "execution_count": 2,
      "outputs": [
        {
          "output_type": "stream",
          "text": [
            "Go to this URL in a browser: https://accounts.google.com/o/oauth2/auth?client_id=947318989803-6bn6qk8qdgf4n4g3pfee6491hc0brc4i.apps.googleusercontent.com&redirect_uri=urn%3Aietf%3Awg%3Aoauth%3A2.0%3Aoob&scope=email%20https%3A%2F%2Fwww.googleapis.com%2Fauth%2Fdocs.test%20https%3A%2F%2Fwww.googleapis.com%2Fauth%2Fdrive%20https%3A%2F%2Fwww.googleapis.com%2Fauth%2Fdrive.photos.readonly%20https%3A%2F%2Fwww.googleapis.com%2Fauth%2Fpeopleapi.readonly&response_type=code\n",
            "\n",
            "Enter your authorization code:\n",
            "··········\n",
            "Mounted at /content/drive\n"
          ],
          "name": "stdout"
        }
      ]
    },
    {
      "cell_type": "code",
      "metadata": {
        "id": "pEW1mLverl7l",
        "colab_type": "code",
        "colab": {}
      },
      "source": [
        "# create transforms to load the images, nothing much is needed here. \n",
        "transform = transforms.Compose(\n",
        "    [transforms.ToTensor(),\n",
        "     transforms.Normalize((0.5, 0.5, 0.5), (0.5, 0.5, 0.5))])"
      ],
      "execution_count": 0,
      "outputs": []
    },
    {
      "cell_type": "code",
      "metadata": {
        "id": "sjsFJTFwr1wV",
        "colab_type": "code",
        "outputId": "b1c6e334-9856-4d74-88e3-63e07cc64fce",
        "colab": {
          "base_uri": "https://localhost:8080/",
          "height": 84
        }
      },
      "source": [
        "# download CIFAR 10 training set\n",
        "trainset = torchvision.datasets.CIFAR10(root= project_path+'/data', train=True,\n",
        "                                        download=True, transform=transform)\n",
        "\n",
        "# load the trainning set\n",
        "trainloader = torch.utils.data.DataLoader(trainset, batch_size=4, shuffle=True)\n",
        "\n",
        "# download the test data\n",
        "testset = torchvision.datasets.CIFAR10(root=project_path+'/data', train=False,\n",
        "                                       download=True, transform=transform)\n",
        "\n",
        "# load the test data\n",
        "testloader = torch.utils.data.DataLoader(testset, batch_size=4,\n",
        "                                         shuffle=False)\n",
        "\n",
        "classes = ('plane', 'car', 'bird', 'cat', 'deer', 'dog', 'frog', 'horse', 'ship', 'truck')\n",
        "# check those manually on the dataset site: https://www.cs.toronto.edu/~kriz/cifar.html \n"
      ],
      "execution_count": 4,
      "outputs": [
        {
          "output_type": "stream",
          "text": [
            "\r0it [00:00, ?it/s]"
          ],
          "name": "stderr"
        },
        {
          "output_type": "stream",
          "text": [
            "Downloading https://www.cs.toronto.edu/~kriz/cifar-10-python.tar.gz to content/drive/My Drive/Colab Notebooks/Cybersecurity/NN Attacks//data/cifar-10-python.tar.gz\n"
          ],
          "name": "stdout"
        },
        {
          "output_type": "stream",
          "text": [
            "170500096it [00:06, 28258308.82it/s]                               \n"
          ],
          "name": "stderr"
        },
        {
          "output_type": "stream",
          "text": [
            "Extracting content/drive/My Drive/Colab Notebooks/Cybersecurity/NN Attacks//data/cifar-10-python.tar.gz to content/drive/My Drive/Colab Notebooks/Cybersecurity/NN Attacks//data\n",
            "Files already downloaded and verified\n"
          ],
          "name": "stdout"
        }
      ]
    },
    {
      "cell_type": "code",
      "metadata": {
        "id": "itY7G_y3tDnC",
        "colab_type": "code",
        "outputId": "40afa2b8-ec52-4e80-b9aa-86ccd4f97ca3",
        "colab": {
          "base_uri": "https://localhost:8080/",
          "height": 156
        }
      },
      "source": [
        "# helper function to unnormalize and plot image \n",
        "def imshow(img):\n",
        "    img = np.array(img)\n",
        "    img = img / 2 + 0.5\n",
        "    img = np.moveaxis(img, 0, -1)\n",
        "    plt.imshow(img)\n",
        "    \n",
        "# display sample from dataset \n",
        "imgs, labels = iter(trainloader).next()\n",
        "imshow(torchvision.utils.make_grid(imgs)) \n",
        "\n",
        "# notice who we converted the class idx to labels\n",
        "print(' '.join('%5s' % classes[labels[j]] for j in range(4)))\n",
        "\n",
        "# run this cell multiple times and notice diff images\n"
      ],
      "execution_count": 5,
      "outputs": [
        {
          "output_type": "stream",
          "text": [
            "truck horse plane  bird\n"
          ],
          "name": "stdout"
        },
        {
          "output_type": "display_data",
          "data": {
            "image/png": "[encoded data removed]",
            "text/plain": [
              "<Figure size 432x288 with 1 Axes>"
            ]
          },
          "metadata": {
            "tags": []
          }
        }
      ]
    },
    {
      "cell_type": "code",
      "metadata": {
        "id": "AJK32k42gbEK",
        "colab_type": "code",
        "outputId": "59564ce6-a87e-4436-d85c-2acdfb5f3d6e",
        "colab": {
          "base_uri": "https://localhost:8080/",
          "height": 34
        }
      },
      "source": [
        "# divide the training dataset into the required groups Make sure they are balanced\n",
        "\n",
        "total_size = len(trainset)\n",
        "split1 = total_size // 4\n",
        "split2 = split1 * 2\n",
        "split3 = split1 * 3\n",
        "\n",
        "print(total_size, split1, split2, split3)\n",
        "\n",
        "indices = list(range(total_size))\n",
        "\n",
        "# two groups to train the shadow (in and out)\n",
        "shadow_train_idx = indices[:split1]\n",
        "shadow_out_idx = indices[split1:split2]\n",
        "\n",
        "# two groups to train the Target (in and out)\n",
        "target_train_idx = indices[split2:split3]\n",
        "target_out_idx = indices[split3:]"
      ],
      "execution_count": 6,
      "outputs": [
        {
          "output_type": "stream",
          "text": [
            "50000 12500 25000 37500\n"
          ],
          "name": "stdout"
        }
      ]
    },
    {
      "cell_type": "code",
      "metadata": {
        "id": "W4wJ_0lkhp76",
        "colab_type": "code",
        "colab": {}
      },
      "source": [
        "batch_size = 64\n",
        "\n",
        "# divide and load shadow train in and out\n",
        "shadow_train_sampler = SubsetRandomSampler(shadow_train_idx)\n",
        "shadow_out_sampler = SubsetRandomSampler(shadow_out_idx)\n",
        "\n",
        "shadow_train_loader = torch.utils.data.DataLoader(trainset, batch_size=batch_size, sampler=shadow_train_sampler)\n",
        "shadow_out_loader = torch.utils.data.DataLoader(trainset, batch_size=batch_size, sampler=shadow_out_sampler)\n",
        "\n",
        "# divide and load Target in and out\n",
        "target_train_sampler = SubsetRandomSampler(target_train_idx)\n",
        "target_out_sampler = SubsetRandomSampler(target_out_idx)\n",
        "\n",
        "target_train_loader = torch.utils.data.DataLoader(trainset, batch_size=batch_size, sampler=target_train_sampler)\n",
        "target_out_loader = torch.utils.data.DataLoader(trainset, batch_size=batch_size, sampler=target_out_sampler)\n"
      ],
      "execution_count": 0,
      "outputs": []
    },
    {
      "cell_type": "code",
      "metadata": {
        "id": "Kj9LuQJNuCXC",
        "colab_type": "code",
        "colab": {}
      },
      "source": [
        "# create a CNN\n",
        "# Input shape (3, 32, 32) \n",
        "# architecture: simple. 2 conv and 2 Max pool, followed by 2 fc (120, 84) output of fc is 10 cuz we have 10 classes!\n",
        "\n",
        "\n",
        "\n",
        "class Net(nn.Module):\n",
        "    def __init__(self):\n",
        "        super(Net, self).__init__()\n",
        "        self.conv1 = nn.Conv2d(3, 6, 5) # input channels = 3, output channels=6, kernel_size =5 \n",
        "        self.pool = nn.MaxPool2d(2, 2)  # kernel size = 2, stride = 2\n",
        "        self.conv2 = nn.Conv2d(6, 16, 5) \n",
        "        \n",
        "        self.fc1 = nn.Linear(16 * 5 * 5, 120)\n",
        "        self.fc2 = nn.Linear(120, 84)\n",
        "        self.fc3 = nn.Linear(84, 10)\n",
        "\n",
        "    def forward(self, x):\n",
        "        x = self.pool(F.relu(self.conv1(x)))\n",
        "        x = self.pool(F.relu(self.conv2(x)))\n",
        "        x = x.view(-1, 16 * 5 * 5)\n",
        "        x = F.relu(self.fc1(x))\n",
        "        x = F.relu(self.fc2(x))\n",
        "        x = self.fc3(x)\n",
        "        return x"
      ],
      "execution_count": 0,
      "outputs": []
    },
    {
      "cell_type": "code",
      "metadata": {
        "id": "ER_B4V8YjKyU",
        "colab_type": "code",
        "outputId": "daffe74e-6839-4c9a-e2ee-fe8f5cc7b5d4",
        "colab": {
          "base_uri": "https://localhost:8080/",
          "height": 34
        }
      },
      "source": [
        "# initalize a target model and train it\n",
        "\n",
        "target_model = Net()\n",
        "criterion = nn.CrossEntropyLoss()\n",
        "optimizer = optim.SGD(target_model.parameters(), lr=0.01)\n",
        "\n",
        "# let the magic begin\n",
        "for epoch in range(2):  # loop over the dataset multiple times\n",
        "\n",
        "    running_loss = 0.0\n",
        "    \n",
        "    for i, data in enumerate(target_train_loader, 0):\n",
        "        # get the inputs; data is a list of [inputs, labels]\n",
        "        inputs, labels = data\n",
        "\n",
        "        # zero the parameter gradients\n",
        "        optimizer.zero_grad()\n",
        "\n",
        "        # forward + backward + optimize\n",
        "        outputs = target_model(inputs) # make a prediction: forward prop\n",
        "        \n",
        "        loss = criterion(outputs, labels) # calculate the loss\n",
        "        \n",
        "        loss.backward() # calculate gradients\n",
        "        \n",
        "        optimizer.step() # updaate weights in backprop\n",
        "\n",
        "        # print statistics\n",
        "        running_loss += loss.item()\n",
        "       \n",
        "        \n",
        "        if i % 2000 == 1999:    # print every 2000 mini-batches\n",
        "            print('[%d, %5d] loss: %.3f' %\n",
        "                  (epoch + 1, i + 1, running_loss / 2000))\n",
        "            running_loss = 0.0\n",
        "\n",
        "print('Finished Training the Target model')"
      ],
      "execution_count": 9,
      "outputs": [
        {
          "output_type": "stream",
          "text": [
            "Finished Training the Target model\n"
          ],
          "name": "stdout"
        }
      ]
    },
    {
      "cell_type": "code",
      "metadata": {
        "id": "EpY8ktdskRQN",
        "colab_type": "code",
        "outputId": "e7acfccb-781f-407d-8e6f-221108591c48",
        "colab": {
          "base_uri": "https://localhost:8080/",
          "height": 34
        }
      },
      "source": [
        "# calculate the accuracy of the Target Model\n",
        "correct = 0\n",
        "total = 0\n",
        "\n",
        "with torch.no_grad():\n",
        "    for data in target_out_loader:\n",
        "        images, labels = data\n",
        "        outputs = target_model(images)\n",
        "        _, predicted = torch.max(outputs.data, 1)\n",
        "        total += labels.size(0)\n",
        "        correct += (predicted == labels).sum().item()\n",
        "\n",
        "print('Accuracy of the network on the 10000 test images: %d %%' % (\n",
        "    100 * correct / total))"
      ],
      "execution_count": 10,
      "outputs": [
        {
          "output_type": "stream",
          "text": [
            "Accuracy of the network on the 10000 test images: 14 %\n"
          ],
          "name": "stdout"
        }
      ]
    },
    {
      "cell_type": "markdown",
      "metadata": {
        "id": "IEClKFqikmUl",
        "colab_type": "text"
      },
      "source": [
        "\n",
        "\n",
        "---\n",
        "\n"
      ]
    },
    {
      "cell_type": "code",
      "metadata": {
        "id": "Ha_VqRVVkoCm",
        "colab_type": "code",
        "outputId": "05fb04ac-b05c-4a0b-c0cc-e6db95390eda",
        "colab": {
          "base_uri": "https://localhost:8080/",
          "height": 370
        }
      },
      "source": [
        "# initalize a Shadow Model and Train it\n",
        "# for the first ICP trail use the same CNN architecture and hyperparameters\n",
        "\n",
        "shadow_model = Net()\n",
        "shadow_criterion = nn.CrossEntropyLoss()\n",
        "shadow_optimizer = optim.SGD(shadow_model.parameters(), lr=0.0001)\n",
        "\n",
        "# let the magic begin\n",
        "for epoch in range(20):  # loop over the dataset multiple times\n",
        "\n",
        "    shadow_running_loss = 0.0\n",
        "    \n",
        "    for i, data in enumerate(shadow_train_loader, 0):\n",
        "        # get the inputs; data is a list of [inputs, labels]\n",
        "        inputs, labels = data\n",
        "\n",
        "        # zero the parameter gradients\n",
        "        optimizer.zero_grad()\n",
        "\n",
        "        # forward + backward + optimize\n",
        "        outputs = shadow_model(inputs) # make a prediction: forward prop\n",
        "        \n",
        "        shadow_loss = shadow_criterion(outputs, labels) # calculate the loss\n",
        "        \n",
        "        shadow_loss.backward() # calculate gradients\n",
        "        \n",
        "        shadow_optimizer.step() # updaate weights in backprop\n",
        "\n",
        "        # print statistics\n",
        "        shadow_running_loss += shadow_loss.item()\n",
        "       \n",
        "    print(shadow_running_loss / len(shadow_train_loader))\n",
        "    shadow_running_loss = 0.0\n",
        "\n",
        "print('Finished Training the Shadow model')"
      ],
      "execution_count": 11,
      "outputs": [
        {
          "output_type": "stream",
          "text": [
            "2.305276097083578\n",
            "2.302384048092122\n",
            "2.3002712763085658\n",
            "2.296709653066129\n",
            "2.2744025028481776\n",
            "2.143620031220572\n",
            "2.06432511976787\n",
            "1.9803858198681656\n",
            "1.911189183288691\n",
            "1.861989061443173\n",
            "1.7991879764868288\n",
            "1.7425510256874317\n",
            "1.7315641434825197\n",
            "1.6848205127278153\n",
            "1.6389547185022004\n",
            "1.6142842775704909\n",
            "1.6008157930812057\n",
            "1.577145208509601\n",
            "1.561816539691419\n",
            "1.5422498182374604\n",
            "Finished Training the Shadow model\n"
          ],
          "name": "stdout"
        }
      ]
    },
    {
      "cell_type": "code",
      "metadata": {
        "id": "L0kP_-62ljFE",
        "colab_type": "code",
        "colab": {}
      },
      "source": [
        "# freeze the Shadow model \n",
        "truth1=[]\n",
        "for i, data in enumerate(shadow_train_loader, 0):\n",
        "        inputs, labels = data\n",
        "        outputs = shadow_model(inputs)\n",
        "        for j in outputs:\n",
        "          truth1.append([j.detach().numpy(),1])\n",
        "          \n",
        "for i, data in enumerate(shadow_out_loader, 0):\n",
        "        inputs, labels = data\n",
        "        outputs = shadow_model(inputs)\n",
        "        for j in outputs:\n",
        "          truth1.append([j.detach().numpy(),0])\n",
        "#print(truth1[20000])\n",
        "\n",
        "# make predictions on both datasets (shadow_in and shdow_out)\n",
        "# create a new dataset of the shape [predictions(shadow_in), 1], [predicitons(shadow_out), 0] and zip them together\n"
      ],
      "execution_count": 0,
      "outputs": []
    },
    {
      "cell_type": "code",
      "metadata": {
        "id": "p4AWOMnfQpxa",
        "colab_type": "code",
        "colab": {}
      },
      "source": [
        "X=[]\n",
        "y=[]\n",
        "for i in truth1:\n",
        "  X.append(i[0])\n",
        "  y.append(i[1])"
      ],
      "execution_count": 0,
      "outputs": []
    },
    {
      "cell_type": "code",
      "metadata": {
        "id": "WRf0KGH_DPIF",
        "colab_type": "code",
        "colab": {}
      },
      "source": [
        "import pandas as pd"
      ],
      "execution_count": 0,
      "outputs": []
    },
    {
      "cell_type": "code",
      "metadata": {
        "id": "zKEVOdM3RYsX",
        "colab_type": "code",
        "colab": {}
      },
      "source": [
        "df = pd.DataFrame.from_records(X)\n",
        "  "
      ],
      "execution_count": 0,
      "outputs": []
    },
    {
      "cell_type": "code",
      "metadata": {
        "id": "7O4SDp-PDVuc",
        "colab_type": "code",
        "colab": {
          "base_uri": "https://localhost:8080/",
          "height": 195
        },
        "outputId": "c1be48ac-7c56-4be7-8294-ae508c83d09f"
      },
      "source": [
        "df.head()"
      ],
      "execution_count": 32,
      "outputs": [
        {
          "output_type": "execute_result",
          "data": {
            "text/html": [
              "<div>\n",
              "<style scoped>\n",
              "    .dataframe tbody tr th:only-of-type {\n",
              "        vertical-align: middle;\n",
              "    }\n",
              "\n",
              "    .dataframe tbody tr th {\n",
              "        vertical-align: top;\n",
              "    }\n",
              "\n",
              "    .dataframe thead th {\n",
              "        text-align: right;\n",
              "    }\n",
              "</style>\n",
              "<table border=\"1\" class=\"dataframe\">\n",
              "  <thead>\n",
              "    <tr style=\"text-align: right;\">\n",
              "      <th></th>\n",
              "      <th>0</th>\n",
              "      <th>1</th>\n",
              "      <th>2</th>\n",
              "      <th>3</th>\n",
              "      <th>4</th>\n",
              "      <th>5</th>\n",
              "      <th>6</th>\n",
              "      <th>7</th>\n",
              "      <th>8</th>\n",
              "      <th>9</th>\n",
              "    </tr>\n",
              "  </thead>\n",
              "  <tbody>\n",
              "    <tr>\n",
              "      <th>0</th>\n",
              "      <td>2.796142</td>\n",
              "      <td>-0.704463</td>\n",
              "      <td>0.883548</td>\n",
              "      <td>-1.266151</td>\n",
              "      <td>0.608699</td>\n",
              "      <td>-2.470921</td>\n",
              "      <td>-0.671846</td>\n",
              "      <td>-2.897551</td>\n",
              "      <td>3.011731</td>\n",
              "      <td>0.208338</td>\n",
              "    </tr>\n",
              "    <tr>\n",
              "      <th>1</th>\n",
              "      <td>0.887415</td>\n",
              "      <td>2.246014</td>\n",
              "      <td>-1.111395</td>\n",
              "      <td>-0.816644</td>\n",
              "      <td>-1.447953</td>\n",
              "      <td>-1.734123</td>\n",
              "      <td>-0.956443</td>\n",
              "      <td>-0.830818</td>\n",
              "      <td>1.315975</td>\n",
              "      <td>2.243471</td>\n",
              "    </tr>\n",
              "    <tr>\n",
              "      <th>2</th>\n",
              "      <td>0.251777</td>\n",
              "      <td>-4.542443</td>\n",
              "      <td>3.716269</td>\n",
              "      <td>1.664359</td>\n",
              "      <td>3.823891</td>\n",
              "      <td>0.042883</td>\n",
              "      <td>0.883348</td>\n",
              "      <td>0.044195</td>\n",
              "      <td>-1.438499</td>\n",
              "      <td>-4.294513</td>\n",
              "    </tr>\n",
              "    <tr>\n",
              "      <th>3</th>\n",
              "      <td>4.477064</td>\n",
              "      <td>-3.535428</td>\n",
              "      <td>3.055690</td>\n",
              "      <td>-0.036762</td>\n",
              "      <td>1.714282</td>\n",
              "      <td>-2.857837</td>\n",
              "      <td>-1.439243</td>\n",
              "      <td>-1.830481</td>\n",
              "      <td>1.889616</td>\n",
              "      <td>-2.596572</td>\n",
              "    </tr>\n",
              "    <tr>\n",
              "      <th>4</th>\n",
              "      <td>0.617272</td>\n",
              "      <td>2.640920</td>\n",
              "      <td>-0.374606</td>\n",
              "      <td>-1.322095</td>\n",
              "      <td>-0.966246</td>\n",
              "      <td>-2.115046</td>\n",
              "      <td>-1.002795</td>\n",
              "      <td>-0.706627</td>\n",
              "      <td>0.158377</td>\n",
              "      <td>3.621517</td>\n",
              "    </tr>\n",
              "  </tbody>\n",
              "</table>\n",
              "</div>"
            ],
            "text/plain": [
              "          0         1         2  ...         7         8         9\n",
              "0  2.796142 -0.704463  0.883548  ... -2.897551  3.011731  0.208338\n",
              "1  0.887415  2.246014 -1.111395  ... -0.830818  1.315975  2.243471\n",
              "2  0.251777 -4.542443  3.716269  ...  0.044195 -1.438499 -4.294513\n",
              "3  4.477064 -3.535428  3.055690  ... -1.830481  1.889616 -2.596572\n",
              "4  0.617272  2.640920 -0.374606  ... -0.706627  0.158377  3.621517\n",
              "\n",
              "[5 rows x 10 columns]"
            ]
          },
          "metadata": {
            "tags": []
          },
          "execution_count": 32
        }
      ]
    },
    {
      "cell_type": "code",
      "metadata": {
        "id": "nMCOxTf1GdEI",
        "colab_type": "code",
        "colab": {}
      },
      "source": [
        "df1 = pd.DataFrame(y, columns=['target'])"
      ],
      "execution_count": 0,
      "outputs": []
    },
    {
      "cell_type": "code",
      "metadata": {
        "id": "ZO3JVZ7FG0yI",
        "colab_type": "code",
        "colab": {
          "base_uri": "https://localhost:8080/",
          "height": 195
        },
        "outputId": "40d0a076-eb04-4e37-ca17-76b2ccaff3bc"
      },
      "source": [
        "df1.head()"
      ],
      "execution_count": 35,
      "outputs": [
        {
          "output_type": "execute_result",
          "data": {
            "text/html": [
              "<div>\n",
              "<style scoped>\n",
              "    .dataframe tbody tr th:only-of-type {\n",
              "        vertical-align: middle;\n",
              "    }\n",
              "\n",
              "    .dataframe tbody tr th {\n",
              "        vertical-align: top;\n",
              "    }\n",
              "\n",
              "    .dataframe thead th {\n",
              "        text-align: right;\n",
              "    }\n",
              "</style>\n",
              "<table border=\"1\" class=\"dataframe\">\n",
              "  <thead>\n",
              "    <tr style=\"text-align: right;\">\n",
              "      <th></th>\n",
              "      <th>target</th>\n",
              "    </tr>\n",
              "  </thead>\n",
              "  <tbody>\n",
              "    <tr>\n",
              "      <th>0</th>\n",
              "      <td>1</td>\n",
              "    </tr>\n",
              "    <tr>\n",
              "      <th>1</th>\n",
              "      <td>1</td>\n",
              "    </tr>\n",
              "    <tr>\n",
              "      <th>2</th>\n",
              "      <td>1</td>\n",
              "    </tr>\n",
              "    <tr>\n",
              "      <th>3</th>\n",
              "      <td>1</td>\n",
              "    </tr>\n",
              "    <tr>\n",
              "      <th>4</th>\n",
              "      <td>1</td>\n",
              "    </tr>\n",
              "  </tbody>\n",
              "</table>\n",
              "</div>"
            ],
            "text/plain": [
              "   target\n",
              "0       1\n",
              "1       1\n",
              "2       1\n",
              "3       1\n",
              "4       1"
            ]
          },
          "metadata": {
            "tags": []
          },
          "execution_count": 35
        }
      ]
    },
    {
      "cell_type": "code",
      "metadata": {
        "id": "_ymKnj7QpdDG",
        "colab_type": "code",
        "colab": {}
      },
      "source": [
        "from sklearn.metrics import confusion_matrix, precision_score\n",
        "from sklearn.model_selection import train_test_split\n",
        "from keras.layers import Dense,Dropout\n",
        "from keras.models import Sequential\n",
        "from keras.regularizers import l2\n",
        "import matplotlib.pyplot as plt\n",
        "import pandas as pd\n",
        "import numpy as np\n",
        "\n",
        "x_train, x_test, y_train, y_test = train_test_split (df, df1, test_size=0.3,random_state=1)\n"
      ],
      "execution_count": 0,
      "outputs": []
    },
    {
      "cell_type": "code",
      "metadata": {
        "id": "Luw7ZjbHX2-a",
        "colab_type": "code",
        "colab": {}
      },
      "source": [
        ""
      ],
      "execution_count": 0,
      "outputs": []
    },
    {
      "cell_type": "code",
      "metadata": {
        "id": "Lt_G9UNWYQOB",
        "colab_type": "code",
        "colab": {}
      },
      "source": [
        "#defifne a sequentail Model\n",
        "model = Sequential()\n",
        "\n",
        "#Hidden Layer-1\n",
        "model.add(Dense(64,activation='relu',input_dim=10,kernel_regularizer=l2(0.01)))\n",
        "model.add(Dropout(0.3, noise_shape=None, seed=None))\n",
        "\n",
        "#Hidden Layer-2\n",
        "model.add(Dense(128,activation = 'relu',kernel_regularizer=l2(0.001)))\n",
        "model.add(Dropout(0.4, noise_shape=None, seed=None))\n",
        "\n",
        "#Hidden Layer-2\n",
        "model.add(Dense(256,activation = 'relu',kernel_regularizer=l2(0.03)))\n",
        "model.add(Dropout(0.3, noise_shape=None, seed=None))\n",
        "\n",
        "#Hidden Layer-2\n",
        "model.add(Dense(64,activation = 'relu',kernel_regularizer=l2(0.02)))\n",
        "model.add(Dropout(0.4, noise_shape=None, seed=None))\n",
        "\n",
        "#Output layer\n",
        "model.add(Dense(1,activation='sigmoid'))"
      ],
      "execution_count": 0,
      "outputs": []
    },
    {
      "cell_type": "code",
      "metadata": {
        "id": "vIr2mr55YSrX",
        "colab_type": "code",
        "colab": {}
      },
      "source": [
        "model.compile(loss='binary_crossentropy',optimizer='adam',metrics=['accuracy'])"
      ],
      "execution_count": 0,
      "outputs": []
    },
    {
      "cell_type": "code",
      "metadata": {
        "id": "Nya92TswHKK2",
        "colab_type": "code",
        "colab": {
          "base_uri": "https://localhost:8080/",
          "height": 555
        },
        "outputId": "45577701-5945-4103-b75a-73ec81f89ac7"
      },
      "source": [
        "model_output = model.fit(x_train,y_train,epochs=20,batch_size=64,validation_data=(x_test,y_test),)"
      ],
      "execution_count": 118,
      "outputs": [
        {
          "output_type": "stream",
          "text": [
            "Train on 20000 samples, validate on 5000 samples\n",
            "Epoch 1/20\n",
            "20000/20000 [==============================] - 2s 117us/step - loss: 0.6932 - acc: 0.4980 - val_loss: 0.6932 - val_acc: 0.4966\n",
            "Epoch 2/20\n",
            "20000/20000 [==============================] - 2s 116us/step - loss: 0.6932 - acc: 0.5009 - val_loss: 0.6932 - val_acc: 0.4966\n",
            "Epoch 3/20\n",
            "20000/20000 [==============================] - 2s 112us/step - loss: 0.6932 - acc: 0.4943 - val_loss: 0.6932 - val_acc: 0.4966\n",
            "Epoch 4/20\n",
            "20000/20000 [==============================] - 2s 112us/step - loss: 0.6932 - acc: 0.5009 - val_loss: 0.6932 - val_acc: 0.4966\n",
            "Epoch 5/20\n",
            "20000/20000 [==============================] - 2s 106us/step - loss: 0.6932 - acc: 0.4936 - val_loss: 0.6932 - val_acc: 0.4966\n",
            "Epoch 6/20\n",
            "20000/20000 [==============================] - 2s 115us/step - loss: 0.6932 - acc: 0.4982 - val_loss: 0.6931 - val_acc: 0.5034\n",
            "Epoch 7/20\n",
            "   64/20000 [..............................] - ETA: 2s - loss: 0.6931 - acc: 0.5000"
          ],
          "name": "stdout"
        },
        {
          "output_type": "error",
          "ename": "KeyboardInterrupt",
          "evalue": "ignored",
          "traceback": [
            "\u001b[0;31m---------------------------------------------------------------------------\u001b[0m",
            "\u001b[0;31mKeyboardInterrupt\u001b[0m                         Traceback (most recent call last)",
            "\u001b[0;32m<ipython-input-118-e541c4a2ee1e>\u001b[0m in \u001b[0;36m<module>\u001b[0;34m()\u001b[0m\n\u001b[0;32m----> 1\u001b[0;31m \u001b[0mmodel_output\u001b[0m \u001b[0;34m=\u001b[0m \u001b[0mmodel\u001b[0m\u001b[0;34m.\u001b[0m\u001b[0mfit\u001b[0m\u001b[0;34m(\u001b[0m\u001b[0mx_train\u001b[0m\u001b[0;34m,\u001b[0m\u001b[0my_train\u001b[0m\u001b[0;34m,\u001b[0m\u001b[0mepochs\u001b[0m\u001b[0;34m=\u001b[0m\u001b[0;36m20\u001b[0m\u001b[0;34m,\u001b[0m\u001b[0mbatch_size\u001b[0m\u001b[0;34m=\u001b[0m\u001b[0;36m64\u001b[0m\u001b[0;34m,\u001b[0m\u001b[0mvalidation_data\u001b[0m\u001b[0;34m=\u001b[0m\u001b[0;34m(\u001b[0m\u001b[0mx_test\u001b[0m\u001b[0;34m,\u001b[0m\u001b[0my_test\u001b[0m\u001b[0;34m)\u001b[0m\u001b[0;34m,\u001b[0m\u001b[0;34m)\u001b[0m\u001b[0;34m\u001b[0m\u001b[0;34m\u001b[0m\u001b[0m\n\u001b[0m",
            "\u001b[0;32m/usr/local/lib/python3.6/dist-packages/keras/engine/training.py\u001b[0m in \u001b[0;36mfit\u001b[0;34m(self, x, y, batch_size, epochs, verbose, callbacks, validation_split, validation_data, shuffle, class_weight, sample_weight, initial_epoch, steps_per_epoch, validation_steps, validation_freq, max_queue_size, workers, use_multiprocessing, **kwargs)\u001b[0m\n\u001b[1;32m   1176\u001b[0m                                         \u001b[0msteps_per_epoch\u001b[0m\u001b[0;34m=\u001b[0m\u001b[0msteps_per_epoch\u001b[0m\u001b[0;34m,\u001b[0m\u001b[0;34m\u001b[0m\u001b[0;34m\u001b[0m\u001b[0m\n\u001b[1;32m   1177\u001b[0m                                         \u001b[0mvalidation_steps\u001b[0m\u001b[0;34m=\u001b[0m\u001b[0mvalidation_steps\u001b[0m\u001b[0;34m,\u001b[0m\u001b[0;34m\u001b[0m\u001b[0;34m\u001b[0m\u001b[0m\n\u001b[0;32m-> 1178\u001b[0;31m                                         validation_freq=validation_freq)\n\u001b[0m\u001b[1;32m   1179\u001b[0m \u001b[0;34m\u001b[0m\u001b[0m\n\u001b[1;32m   1180\u001b[0m     def evaluate(self,\n",
            "\u001b[0;32m/usr/local/lib/python3.6/dist-packages/keras/engine/training_arrays.py\u001b[0m in \u001b[0;36mfit_loop\u001b[0;34m(model, fit_function, fit_inputs, out_labels, batch_size, epochs, verbose, callbacks, val_function, val_inputs, shuffle, callback_metrics, initial_epoch, steps_per_epoch, validation_steps, validation_freq)\u001b[0m\n\u001b[1;32m    202\u001b[0m                     \u001b[0mins_batch\u001b[0m\u001b[0;34m[\u001b[0m\u001b[0mi\u001b[0m\u001b[0;34m]\u001b[0m \u001b[0;34m=\u001b[0m \u001b[0mins_batch\u001b[0m\u001b[0;34m[\u001b[0m\u001b[0mi\u001b[0m\u001b[0;34m]\u001b[0m\u001b[0;34m.\u001b[0m\u001b[0mtoarray\u001b[0m\u001b[0;34m(\u001b[0m\u001b[0;34m)\u001b[0m\u001b[0;34m\u001b[0m\u001b[0;34m\u001b[0m\u001b[0m\n\u001b[1;32m    203\u001b[0m \u001b[0;34m\u001b[0m\u001b[0m\n\u001b[0;32m--> 204\u001b[0;31m                 \u001b[0mouts\u001b[0m \u001b[0;34m=\u001b[0m \u001b[0mfit_function\u001b[0m\u001b[0;34m(\u001b[0m\u001b[0mins_batch\u001b[0m\u001b[0;34m)\u001b[0m\u001b[0;34m\u001b[0m\u001b[0;34m\u001b[0m\u001b[0m\n\u001b[0m\u001b[1;32m    205\u001b[0m                 \u001b[0mouts\u001b[0m \u001b[0;34m=\u001b[0m \u001b[0mto_list\u001b[0m\u001b[0;34m(\u001b[0m\u001b[0mouts\u001b[0m\u001b[0;34m)\u001b[0m\u001b[0;34m\u001b[0m\u001b[0;34m\u001b[0m\u001b[0m\n\u001b[1;32m    206\u001b[0m                 \u001b[0;32mfor\u001b[0m \u001b[0ml\u001b[0m\u001b[0;34m,\u001b[0m \u001b[0mo\u001b[0m \u001b[0;32min\u001b[0m \u001b[0mzip\u001b[0m\u001b[0;34m(\u001b[0m\u001b[0mout_labels\u001b[0m\u001b[0;34m,\u001b[0m \u001b[0mouts\u001b[0m\u001b[0;34m)\u001b[0m\u001b[0;34m:\u001b[0m\u001b[0;34m\u001b[0m\u001b[0;34m\u001b[0m\u001b[0m\n",
            "\u001b[0;32m/usr/local/lib/python3.6/dist-packages/keras/backend/tensorflow_backend.py\u001b[0m in \u001b[0;36m__call__\u001b[0;34m(self, inputs)\u001b[0m\n\u001b[1;32m   2977\u001b[0m                     \u001b[0;32mreturn\u001b[0m \u001b[0mself\u001b[0m\u001b[0;34m.\u001b[0m\u001b[0m_legacy_call\u001b[0m\u001b[0;34m(\u001b[0m\u001b[0minputs\u001b[0m\u001b[0;34m)\u001b[0m\u001b[0;34m\u001b[0m\u001b[0;34m\u001b[0m\u001b[0m\n\u001b[1;32m   2978\u001b[0m \u001b[0;34m\u001b[0m\u001b[0m\n\u001b[0;32m-> 2979\u001b[0;31m             \u001b[0;32mreturn\u001b[0m \u001b[0mself\u001b[0m\u001b[0;34m.\u001b[0m\u001b[0m_call\u001b[0m\u001b[0;34m(\u001b[0m\u001b[0minputs\u001b[0m\u001b[0;34m)\u001b[0m\u001b[0;34m\u001b[0m\u001b[0;34m\u001b[0m\u001b[0m\n\u001b[0m\u001b[1;32m   2980\u001b[0m         \u001b[0;32melse\u001b[0m\u001b[0;34m:\u001b[0m\u001b[0;34m\u001b[0m\u001b[0;34m\u001b[0m\u001b[0m\n\u001b[1;32m   2981\u001b[0m             \u001b[0;32mif\u001b[0m \u001b[0mpy_any\u001b[0m\u001b[0;34m(\u001b[0m\u001b[0mis_tensor\u001b[0m\u001b[0;34m(\u001b[0m\u001b[0mx\u001b[0m\u001b[0;34m)\u001b[0m \u001b[0;32mfor\u001b[0m \u001b[0mx\u001b[0m \u001b[0;32min\u001b[0m \u001b[0minputs\u001b[0m\u001b[0;34m)\u001b[0m\u001b[0;34m:\u001b[0m\u001b[0;34m\u001b[0m\u001b[0;34m\u001b[0m\u001b[0m\n",
            "\u001b[0;32m/usr/local/lib/python3.6/dist-packages/keras/backend/tensorflow_backend.py\u001b[0m in \u001b[0;36m_call\u001b[0;34m(self, inputs)\u001b[0m\n\u001b[1;32m   2935\u001b[0m             \u001b[0mfetched\u001b[0m \u001b[0;34m=\u001b[0m \u001b[0mself\u001b[0m\u001b[0;34m.\u001b[0m\u001b[0m_callable_fn\u001b[0m\u001b[0;34m(\u001b[0m\u001b[0;34m*\u001b[0m\u001b[0marray_vals\u001b[0m\u001b[0;34m,\u001b[0m \u001b[0mrun_metadata\u001b[0m\u001b[0;34m=\u001b[0m\u001b[0mself\u001b[0m\u001b[0;34m.\u001b[0m\u001b[0mrun_metadata\u001b[0m\u001b[0;34m)\u001b[0m\u001b[0;34m\u001b[0m\u001b[0;34m\u001b[0m\u001b[0m\n\u001b[1;32m   2936\u001b[0m         \u001b[0;32melse\u001b[0m\u001b[0;34m:\u001b[0m\u001b[0;34m\u001b[0m\u001b[0;34m\u001b[0m\u001b[0m\n\u001b[0;32m-> 2937\u001b[0;31m             \u001b[0mfetched\u001b[0m \u001b[0;34m=\u001b[0m \u001b[0mself\u001b[0m\u001b[0;34m.\u001b[0m\u001b[0m_callable_fn\u001b[0m\u001b[0;34m(\u001b[0m\u001b[0;34m*\u001b[0m\u001b[0marray_vals\u001b[0m\u001b[0;34m)\u001b[0m\u001b[0;34m\u001b[0m\u001b[0;34m\u001b[0m\u001b[0m\n\u001b[0m\u001b[1;32m   2938\u001b[0m         \u001b[0;32mreturn\u001b[0m \u001b[0mfetched\u001b[0m\u001b[0;34m[\u001b[0m\u001b[0;34m:\u001b[0m\u001b[0mlen\u001b[0m\u001b[0;34m(\u001b[0m\u001b[0mself\u001b[0m\u001b[0;34m.\u001b[0m\u001b[0moutputs\u001b[0m\u001b[0;34m)\u001b[0m\u001b[0;34m]\u001b[0m\u001b[0;34m\u001b[0m\u001b[0;34m\u001b[0m\u001b[0m\n\u001b[1;32m   2939\u001b[0m \u001b[0;34m\u001b[0m\u001b[0m\n",
            "\u001b[0;32m/usr/local/lib/python3.6/dist-packages/tensorflow_core/python/client/session.py\u001b[0m in \u001b[0;36m__call__\u001b[0;34m(self, *args, **kwargs)\u001b[0m\n\u001b[1;32m   1470\u001b[0m         ret = tf_session.TF_SessionRunCallable(self._session._session,\n\u001b[1;32m   1471\u001b[0m                                                \u001b[0mself\u001b[0m\u001b[0;34m.\u001b[0m\u001b[0m_handle\u001b[0m\u001b[0;34m,\u001b[0m \u001b[0margs\u001b[0m\u001b[0;34m,\u001b[0m\u001b[0;34m\u001b[0m\u001b[0;34m\u001b[0m\u001b[0m\n\u001b[0;32m-> 1472\u001b[0;31m                                                run_metadata_ptr)\n\u001b[0m\u001b[1;32m   1473\u001b[0m         \u001b[0;32mif\u001b[0m \u001b[0mrun_metadata\u001b[0m\u001b[0;34m:\u001b[0m\u001b[0;34m\u001b[0m\u001b[0;34m\u001b[0m\u001b[0m\n\u001b[1;32m   1474\u001b[0m           \u001b[0mproto_data\u001b[0m \u001b[0;34m=\u001b[0m \u001b[0mtf_session\u001b[0m\u001b[0;34m.\u001b[0m\u001b[0mTF_GetBuffer\u001b[0m\u001b[0;34m(\u001b[0m\u001b[0mrun_metadata_ptr\u001b[0m\u001b[0;34m)\u001b[0m\u001b[0;34m\u001b[0m\u001b[0;34m\u001b[0m\u001b[0m\n",
            "\u001b[0;31mKeyboardInterrupt\u001b[0m: "
          ]
        }
      ]
    },
    {
      "cell_type": "code",
      "metadata": {
        "id": "uyU0HrAXV98T",
        "colab_type": "code",
        "colab": {
          "base_uri": "https://localhost:8080/",
          "height": 50
        },
        "outputId": "0ee8fb42-f792-4927-92db-b9c71de7eb01"
      },
      "source": [
        "print('Training Accuracy : ' , np.mean(model_output.history[\"acc\"]))\n",
        "print('Validation Accuracy : ' , np.mean(model_output.history[\"val_acc\"]))"
      ],
      "execution_count": 102,
      "outputs": [
        {
          "output_type": "stream",
          "text": [
            "Training Accuracy :  0.4981574999999999\n",
            "Validation Accuracy :  0.4969400000000001\n"
          ],
          "name": "stdout"
        }
      ]
    },
    {
      "cell_type": "code",
      "metadata": {
        "id": "YfC4MUNlWDAn",
        "colab_type": "code",
        "colab": {
          "base_uri": "https://localhost:8080/",
          "height": 573
        },
        "outputId": "b86e28fa-b1db-441e-9919-a34fd26791ce"
      },
      "source": [
        "\n",
        "# Plot training & validation accuracy values\n",
        "plt.plot(model_output.history['acc'])\n",
        "plt.plot(model_output.history['val_acc'])\n",
        "plt.title('Model accuracy')\n",
        "plt.ylabel('Accuracy')\n",
        "plt.xlabel('Epoch')\n",
        "plt.legend(['Train', 'Test'], loc='upper left')\n",
        "plt.show()\n",
        "\n",
        "# Plot training & validation loss values\n",
        "plt.plot(model_output.history['loss'])\n",
        "plt.plot(model_output.history['val_loss'])\n",
        "plt.title('model_output loss')\n",
        "plt.ylabel('Loss')\n",
        "plt.xlabel('Epoch')\n",
        "plt.legend(['Train', 'Test'], loc='upper left')\n",
        "plt.show()"
      ],
      "execution_count": 103,
      "outputs": [
        {
          "output_type": "display_data",
          "data": {
            "image/png": "[encoded data removed]",
            "text/plain": [
              "<Figure size 432x288 with 1 Axes>"
            ]
          },
          "metadata": {
            "tags": []
          }
        },
        {
          "output_type": "display_data",
          "data": {
            "image/png": "[encoded data removed]",
            "text/plain": [
              "<Figure size 432x288 with 1 Axes>"
            ]
          },
          "metadata": {
            "tags": []
          }
        }
      ]
    },
    {
      "cell_type": "code",
      "metadata": {
        "id": "BoOu_dl0S3_G",
        "colab_type": "code",
        "colab": {}
      },
      "source": [
        "truth2=[]\n",
        "for i, data in enumerate(target_train_loader, 0):\n",
        "        inputs, labels = data\n",
        "        outputs = target_model(inputs)\n",
        "        for j in outputs:\n",
        "          truth2.append([j.detach().numpy(),1])\n",
        "          \n",
        "for i, data in enumerate(target_out_loader, 0):\n",
        "        inputs, labels = data\n",
        "        outputs = target_model(inputs)\n",
        "        for j in outputs:\n",
        "          truth2.append([j.detach().numpy(),0])\n",
        "final_X=[]\n",
        "final_y=[]\n",
        "for i in truth2:\n",
        "  final_X.append(i[0])\n",
        "  final_y.append(i[1])\n",
        "  \n",
        "  \n",
        "df_final = pd.DataFrame.from_records(final_X)\n",
        "df1_final = pd.DataFrame(final_y, columns=['target'])"
      ],
      "execution_count": 0,
      "outputs": []
    },
    {
      "cell_type": "code",
      "metadata": {
        "id": "gwF20aiUVB0P",
        "colab_type": "code",
        "colab": {
          "base_uri": "https://localhost:8080/",
          "height": 1000
        },
        "outputId": "ebe49923-a2e9-4bde-abdc-cf6acdd3c0e8"
      },
      "source": [
        "for i in range (30):\n",
        "  print(df_final.iloc[[i]])\n",
        "  y_pred = model.predict(df_final.iloc[[i]])\n",
        "  print(y_pred)\n",
        "#rounded = [round(x[0]) for x in y_pred]\n",
        "#y_pred1 = np.array(rounded,dtype='int64')"
      ],
      "execution_count": 117,
      "outputs": [
        {
          "output_type": "stream",
          "text": [
            "          0         1         2  ...         7         8        9\n",
            "0  0.027733  0.047912 -0.000903  ... -0.069481 -0.023181 -0.01271\n",
            "\n",
            "[1 rows x 10 columns]\n",
            "[[0.4989223]]\n",
            "          0         1         2         3  ...         6         7         8       9\n",
            "1  0.034996  0.038945 -0.000475 -0.038829  ... -0.031357 -0.045729 -0.016385  0.0028\n",
            "\n",
            "[1 rows x 10 columns]\n",
            "[[0.4989223]]\n",
            "          0         1         2  ...         7         8         9\n",
            "2  0.030415  0.039248 -0.004116  ... -0.056448 -0.025929 -0.010875\n",
            "\n",
            "[1 rows x 10 columns]\n",
            "[[0.4989223]]\n",
            "          0         1         2  ...         7         8         9\n",
            "3  0.044801  0.045903 -0.007203  ... -0.043129 -0.008892 -0.019436\n",
            "\n",
            "[1 rows x 10 columns]\n",
            "[[0.4989223]]\n",
            "        0         1         2         3  ...         6         7         8         9\n",
            "4  0.0411  0.044449 -0.011239 -0.042709  ... -0.035975 -0.065575 -0.013179 -0.000999\n",
            "\n",
            "[1 rows x 10 columns]\n",
            "[[0.4989223]]\n",
            "          0         1         2  ...         7         8         9\n",
            "5  0.027139  0.040166 -0.002647  ... -0.046637 -0.024491 -0.000925\n",
            "\n",
            "[1 rows x 10 columns]\n",
            "[[0.4989223]]\n",
            "          0         1         2  ...         7         8         9\n",
            "6  0.028784  0.033884 -0.003573  ... -0.054857 -0.015939  0.000787\n",
            "\n",
            "[1 rows x 10 columns]\n",
            "[[0.4989223]]\n",
            "          0         1         2  ...         7         8         9\n",
            "7  0.028722  0.039684 -0.010129  ... -0.055907 -0.020657 -0.021742\n",
            "\n",
            "[1 rows x 10 columns]\n",
            "[[0.4989223]]\n",
            "          0         1         2  ...         7         8         9\n",
            "8  0.030715  0.030749  0.001802  ... -0.061138 -0.021545 -0.007845\n",
            "\n",
            "[1 rows x 10 columns]\n",
            "[[0.4989223]]\n",
            "          0         1         2         3  ...         6        7         8       9\n",
            "9  0.030694  0.035738 -0.005861 -0.039925  ... -0.030666 -0.05829 -0.019503 -0.0063\n",
            "\n",
            "[1 rows x 10 columns]\n",
            "[[0.4989223]]\n",
            "           0         1         2  ...         7         8         9\n",
            "10  0.020484  0.036089  0.007616  ... -0.054119 -0.024724 -0.004325\n",
            "\n",
            "[1 rows x 10 columns]\n",
            "[[0.4989223]]\n",
            "           0         1         2  ...         7         8         9\n",
            "11  0.032785  0.032829  0.002969  ... -0.047063 -0.031168 -0.005393\n",
            "\n",
            "[1 rows x 10 columns]\n",
            "[[0.4989223]]\n",
            "           0         1         2  ...         7         8         9\n",
            "12  0.037197  0.049824  0.006079  ... -0.047679 -0.010192 -0.002248\n",
            "\n",
            "[1 rows x 10 columns]\n",
            "[[0.4989223]]\n",
            "           0         1         2  ...         7         8         9\n",
            "13  0.030651  0.031947 -0.003037  ... -0.061076 -0.013098 -0.003657\n",
            "\n",
            "[1 rows x 10 columns]\n",
            "[[0.4989223]]\n",
            "           0         1         2  ...         7         8         9\n",
            "14  0.026661  0.038466  0.010184  ... -0.041599 -0.012077  0.005369\n",
            "\n",
            "[1 rows x 10 columns]\n",
            "[[0.4989223]]\n",
            "           0         1         2  ...         7         8         9\n",
            "15  0.027491  0.032861 -0.002629  ... -0.057919 -0.027714  0.001908\n",
            "\n",
            "[1 rows x 10 columns]\n",
            "[[0.4989223]]\n",
            "           0         1         2  ...         7         8         9\n",
            "16  0.035411  0.028455  0.008228  ... -0.046875 -0.035048 -0.019393\n",
            "\n",
            "[1 rows x 10 columns]\n",
            "[[0.4989223]]\n",
            "           0         1         2  ...         7         8         9\n",
            "17  0.045875  0.030371 -0.003028  ... -0.053537 -0.015807 -0.002442\n",
            "\n",
            "[1 rows x 10 columns]\n",
            "[[0.4989223]]\n",
            "           0         1         2  ...         7         8         9\n",
            "18  0.047278  0.020474  0.001909  ... -0.049011 -0.021203 -0.005074\n",
            "\n",
            "[1 rows x 10 columns]\n",
            "[[0.4989223]]\n",
            "           0         1         2  ...         7         8         9\n",
            "19  0.035222  0.047882 -0.003636  ... -0.044715 -0.013755 -0.013936\n",
            "\n",
            "[1 rows x 10 columns]\n",
            "[[0.4989223]]\n",
            "           0         1         2  ...         7         8        9\n",
            "20  0.021568  0.033803  0.001232  ... -0.050459 -0.023281 -0.00023\n",
            "\n",
            "[1 rows x 10 columns]\n",
            "[[0.4989223]]\n",
            "           0        1         2  ...         7         8         9\n",
            "21  0.047402  0.04849  0.000148  ... -0.047934 -0.014844  0.000486\n",
            "\n",
            "[1 rows x 10 columns]\n",
            "[[0.4989223]]\n",
            "           0         1         2  ...         7         8         9\n",
            "22  0.027967  0.036576  0.001838  ... -0.054582 -0.018291 -0.005846\n",
            "\n",
            "[1 rows x 10 columns]\n",
            "[[0.4989223]]\n",
            "           0         1         2  ...         7         8         9\n",
            "23  0.014767  0.038397  0.008112  ... -0.051714 -0.024883 -0.004866\n",
            "\n",
            "[1 rows x 10 columns]\n",
            "[[0.4989223]]\n",
            "           0        1         2  ...         7        8         9\n",
            "24  0.041092  0.04676 -0.003176  ... -0.049008 -0.01844 -0.003886\n",
            "\n",
            "[1 rows x 10 columns]\n",
            "[[0.4989223]]\n",
            "           0         1         2  ...        7         8         9\n",
            "25  0.029122  0.051898 -0.002116  ... -0.06094 -0.026549 -0.005139\n",
            "\n",
            "[1 rows x 10 columns]\n",
            "[[0.4989223]]\n",
            "           0         1         2         3  ...         6        7         8       9\n",
            "26  0.028694  0.047358 -0.000381 -0.050534  ... -0.029552 -0.05087 -0.015514 -0.0022\n",
            "\n",
            "[1 rows x 10 columns]\n",
            "[[0.4989223]]\n",
            "           0         1         2  ...         7         8         9\n",
            "27  0.028725  0.030285 -0.002472  ... -0.050126 -0.009889 -0.018244\n",
            "\n",
            "[1 rows x 10 columns]\n",
            "[[0.4989223]]\n",
            "           0        1         2  ...         7         8        9\n",
            "28  0.031768  0.04761  0.002622  ... -0.045167 -0.009217  0.00175\n",
            "\n",
            "[1 rows x 10 columns]\n",
            "[[0.4989223]]\n",
            "           0         1         2  ...         7         8         9\n",
            "29  0.042172  0.027822  0.002003  ... -0.073854 -0.037648 -0.011129\n",
            "\n",
            "[1 rows x 10 columns]\n",
            "[[0.4989223]]\n"
          ],
          "name": "stdout"
        }
      ]
    },
    {
      "cell_type": "code",
      "metadata": {
        "id": "8FnThY8LWetY",
        "colab_type": "code",
        "colab": {
          "base_uri": "https://localhost:8080/",
          "height": 134
        },
        "outputId": "28017c10-c01a-4752-a16b-bb2257d4b22f"
      },
      "source": [
        "print(y_pred)\n"
      ],
      "execution_count": 109,
      "outputs": [
        {
          "output_type": "stream",
          "text": [
            "[[0.4989223]\n",
            " [0.4989223]\n",
            " [0.4989223]\n",
            " ...\n",
            " [0.4989223]\n",
            " [0.4989223]\n",
            " [0.4989223]]\n"
          ],
          "name": "stdout"
        }
      ]
    },
    {
      "cell_type": "code",
      "metadata": {
        "id": "0J1B1OhMp6er",
        "colab_type": "code",
        "colab": {}
      },
      "source": [
        "# calculate the recall and precision of your attack network using the Target_out and Target_in datasets\n",
        "# to do so, take a random numer of datapoints, run them throw the target model,\n",
        "# and then input the output of the target model to your attack network \n",
        "# you already know the target_in and target_out samples, so use that info to evaluare the attack model\n"
      ],
      "execution_count": 0,
      "outputs": []
    },
    {
      "cell_type": "markdown",
      "metadata": {
        "id": "XMsyCgziqeaa",
        "colab_type": "text"
      },
      "source": [
        "Great! At this point, you must have created a succesfful attack model that can detect whether a datapoint was used in training a target mode or not. \n",
        "* A successful attack model is one with a precision/recall higher than 85% -- you are using same architecture and are aware of the data classes\n",
        "\n",
        " \n",
        " Can you suggest any defense mechanism? If yes, Apply them to your solution and re-evaluate your attack model. How did your defense mecanism affect the accuracy of the target model? How did it affect the recall and precision of the Attack model?"
      ]
    }
  ]
}